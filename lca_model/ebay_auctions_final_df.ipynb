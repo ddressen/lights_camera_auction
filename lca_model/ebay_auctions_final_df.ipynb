{
 "cells": [
  {
   "cell_type": "code",
   "execution_count": 151,
   "metadata": {
    "collapsed": true
   },
   "outputs": [],
   "source": [
    "import pandas as pd\n",
    "\n",
    "import pickle\n",
    "\n",
    "from collections import Counter"
   ]
  },
  {
   "cell_type": "code",
   "execution_count": 152,
   "metadata": {
    "collapsed": true
   },
   "outputs": [],
   "source": [
    "with open('/Users/donalddressen/Desktop/auction_data/extras_dict.pkl', 'rb') as f:\n",
    "    extras_dict = pickle.load(f)"
   ]
  },
  {
   "cell_type": "code",
   "execution_count": 153,
   "metadata": {
    "collapsed": true
   },
   "outputs": [],
   "source": [
    "with open('/Users/donalddressen/Desktop/auction_data/auctions_df.pkl', 'rb') as f:\n",
    "    auc_df = pickle.load(f)"
   ]
  },
  {
   "cell_type": "code",
   "execution_count": 154,
   "metadata": {
    "collapsed": true
   },
   "outputs": [],
   "source": [
    "item_ids = auc_df['item ID'].tolist()"
   ]
  },
  {
   "cell_type": "code",
   "execution_count": 155,
   "metadata": {
    "collapsed": true
   },
   "outputs": [],
   "source": [
    "# item_ids_test = item_ids[1000:1200]\n",
    "\n",
    "item_ids_test = item_ids"
   ]
  },
  {
   "cell_type": "code",
   "execution_count": 156,
   "metadata": {},
   "outputs": [
    {
     "data": {
      "text/plain": [
       "4000"
      ]
     },
     "execution_count": 156,
     "metadata": {},
     "output_type": "execute_result"
    }
   ],
   "source": [
    "len(item_ids_test)"
   ]
  },
  {
   "cell_type": "code",
   "execution_count": 157,
   "metadata": {},
   "outputs": [
    {
     "data": {
      "text/plain": [
       "str"
      ]
     },
     "execution_count": 157,
     "metadata": {},
     "output_type": "execute_result"
    }
   ],
   "source": [
    "type(item_ids_test[0])"
   ]
  },
  {
   "cell_type": "code",
   "execution_count": 158,
   "metadata": {
    "collapsed": true
   },
   "outputs": [],
   "source": [
    "start_prices = []\n",
    "reserves = []\n",
    "reserve_mets = []\n",
    "photo_nums = []\n",
    "descriptions = []\n",
    "years = []\n",
    "makes = []\n",
    "car_models = []\n",
    "mileages = []\n",
    "transmissions = []\n",
    "vtitles = []\n",
    "fuels = []\n",
    "seller_types = []"
   ]
  },
  {
   "cell_type": "code",
   "execution_count": 159,
   "metadata": {
    "collapsed": true
   },
   "outputs": [],
   "source": [
    "for item_id in item_ids_test:\n",
    "    \n",
    "    try:\n",
    "        start_prices.append(float(extras_dict[item_id]['Item']['StartPrice']['value']))\n",
    "    except:\n",
    "        start_prices.append(float(0))"
   ]
  },
  {
   "cell_type": "code",
   "execution_count": 160,
   "metadata": {
    "collapsed": true
   },
   "outputs": [],
   "source": [
    "for item_id in item_ids_test:\n",
    "    \n",
    "    try:\n",
    "        reserves.append(extras_dict[item_id]['Item']['ListingDetails']['HasReservePrice'])\n",
    "    except:\n",
    "        reserves.append('NA')"
   ]
  },
  {
   "cell_type": "code",
   "execution_count": 161,
   "metadata": {
    "collapsed": true
   },
   "outputs": [],
   "source": [
    "for item_id in item_ids_test:\n",
    "\n",
    "    try:\n",
    "        reserve_mets.append(extras_dict[item_id]['Item']['SellingStatus']['ReserveMet'])\n",
    "    except:\n",
    "        reserve_mets.append('NA')"
   ]
  },
  {
   "cell_type": "code",
   "execution_count": 162,
   "metadata": {
    "collapsed": true
   },
   "outputs": [],
   "source": [
    "for item_id in item_ids_test:\n",
    "    \n",
    "    try:\n",
    "        if type(extras_dict[item_id]['Item']['PictureDetails']['PictureURL']) == list:\n",
    "            photo_nums.append(len(extras_dict[item_id]['Item']['PictureDetails']['PictureURL']))\n",
    "        else:\n",
    "            photo_nums.append(1)\n",
    "    except:\n",
    "        photo_nums.append(0)"
   ]
  },
  {
   "cell_type": "code",
   "execution_count": 163,
   "metadata": {
    "collapsed": true
   },
   "outputs": [],
   "source": [
    "for item_id in item_ids_test:\n",
    "    \n",
    "    try:\n",
    "        descriptions.append(extras_dict[item_id]['Item']['Description'])\n",
    "    except:\n",
    "        descriptions.append('NA')"
   ]
  },
  {
   "cell_type": "code",
   "execution_count": 164,
   "metadata": {
    "collapsed": true
   },
   "outputs": [],
   "source": [
    "loop_counter = []\n",
    "\n",
    "for item_id in item_ids_test:\n",
    "    \n",
    "    loop_counter.append(0)\n",
    "    \n",
    "    try:\n",
    "        for item in extras_dict[item_id]['Item']['ItemSpecifics']['NameValueList']:\n",
    "            if 'Year' in list(item.values()):\n",
    "                years.append(int(list(item.values())[1]))\n",
    "    \n",
    "        if len(years) < len(loop_counter):\n",
    "            years.append(0)\n",
    "    \n",
    "    except:\n",
    "        years.append(0)"
   ]
  },
  {
   "cell_type": "code",
   "execution_count": 165,
   "metadata": {
    "collapsed": true
   },
   "outputs": [],
   "source": [
    "loop_counter = []\n",
    "\n",
    "for item_id in item_ids_test:\n",
    "    \n",
    "    loop_counter.append(0)\n",
    "    \n",
    "    try:\n",
    "        for item in extras_dict[item_id]['Item']['ItemSpecifics']['NameValueList']:\n",
    "            if 'Make' in list(item.values()):\n",
    "                makes.append(list(item.values())[1])\n",
    "        \n",
    "        if len(makes) < len(loop_counter):\n",
    "            makes.append('NA')\n",
    "            \n",
    "    except:\n",
    "        makes.append('NA')"
   ]
  },
  {
   "cell_type": "code",
   "execution_count": 166,
   "metadata": {
    "collapsed": true
   },
   "outputs": [],
   "source": [
    "loop_counter = []\n",
    "\n",
    "for item_id in item_ids_test:\n",
    "    \n",
    "    loop_counter.append(0)\n",
    "    \n",
    "    try:\n",
    "        for item in extras_dict[item_id]['Item']['ItemSpecifics']['NameValueList']:       \n",
    "            if 'Model' in list(item.values()):\n",
    "                car_models.append(list(item.values())[1])\n",
    "        \n",
    "        if len(car_models) < len(loop_counter):\n",
    "            car_models.append('NA')\n",
    "    \n",
    "    except:\n",
    "        car_models.append('NA')"
   ]
  },
  {
   "cell_type": "code",
   "execution_count": 167,
   "metadata": {
    "collapsed": true
   },
   "outputs": [],
   "source": [
    "loop_counter = []\n",
    "\n",
    "for item_id in item_ids_test:\n",
    "    \n",
    "    loop_counter.append(0)\n",
    "    \n",
    "    try:\n",
    "        for item in extras_dict[item_id]['Item']['ItemSpecifics']['NameValueList']:        \n",
    "            if 'Mileage' in list(item.values()):\n",
    "                mileages.append(int(list(item.values())[1]))\n",
    "        \n",
    "        if len(mileages) < len(loop_counter):\n",
    "            mileages.append(-1)\n",
    "            \n",
    "    except:\n",
    "        mileages.append(-1)"
   ]
  },
  {
   "cell_type": "code",
   "execution_count": 168,
   "metadata": {
    "collapsed": true
   },
   "outputs": [],
   "source": [
    "loop_counter = []\n",
    "\n",
    "for item_id in item_ids_test:\n",
    "    \n",
    "    loop_counter.append(0)\n",
    "    \n",
    "    try:\n",
    "        for item in extras_dict[item_id]['Item']['ItemSpecifics']['NameValueList']:        \n",
    "            if 'Transmission' in list(item.values()):\n",
    "                transmissions.append(list(item.values())[1])\n",
    "        \n",
    "        if len(transmissions) < len(loop_counter):\n",
    "            transmissions.append('NA')\n",
    "        \n",
    "    except:\n",
    "        transmissions.append('NA')"
   ]
  },
  {
   "cell_type": "code",
   "execution_count": 169,
   "metadata": {
    "collapsed": true
   },
   "outputs": [],
   "source": [
    "loop_counter = []\n",
    "\n",
    "for item_id in item_ids_test:\n",
    "    \n",
    "    loop_counter.append(0)\n",
    "    \n",
    "    try:\n",
    "        for item in extras_dict[item_id]['Item']['ItemSpecifics']['NameValueList']:        \n",
    "            if 'Vehicle Title' in list(item.values()):\n",
    "                vtitles.append(list(item.values())[1])\n",
    "        \n",
    "        if len(vtitles) < len(loop_counter):\n",
    "            vtitles.append('NA')\n",
    "        \n",
    "    except:\n",
    "        vtitles.append('NA')"
   ]
  },
  {
   "cell_type": "code",
   "execution_count": 170,
   "metadata": {
    "collapsed": true
   },
   "outputs": [],
   "source": [
    "loop_counter = []\n",
    "\n",
    "for item_id in item_ids_test:\n",
    "    \n",
    "    loop_counter.append(0)\n",
    "    \n",
    "    try:\n",
    "        for item in extras_dict[item_id]['Item']['ItemSpecifics']['NameValueList']:        \n",
    "            if 'Fuel Type' in list(item.values()):\n",
    "                fuels.append(list(item.values())[1])\n",
    "        \n",
    "        if len(fuels) < len(loop_counter):\n",
    "            fuels.append('NA')\n",
    "            \n",
    "    except:\n",
    "        fuels.append('NA')"
   ]
  },
  {
   "cell_type": "code",
   "execution_count": 171,
   "metadata": {
    "collapsed": true
   },
   "outputs": [],
   "source": [
    "loop_counter = []\n",
    "\n",
    "for item_id in item_ids_test:\n",
    "    \n",
    "    loop_counter.append(0)\n",
    "    \n",
    "    try:\n",
    "        for item in extras_dict[item_id]['Item']['ItemSpecifics']['NameValueList']:        \n",
    "            if 'For Sale By' in list(item.values()):\n",
    "                seller_types.append(list(item.values())[1])\n",
    "        \n",
    "        if len(seller_types) < len(loop_counter):\n",
    "            seller_types.append('NA')\n",
    "            \n",
    "    except:\n",
    "        seller_types.append('NA')"
   ]
  },
  {
   "cell_type": "code",
   "execution_count": 172,
   "metadata": {},
   "outputs": [
    {
     "data": {
      "text/plain": [
       "4000"
      ]
     },
     "execution_count": 172,
     "metadata": {},
     "output_type": "execute_result"
    }
   ],
   "source": [
    "len(vtitles)"
   ]
  },
  {
   "cell_type": "code",
   "execution_count": 173,
   "metadata": {
    "collapsed": true
   },
   "outputs": [],
   "source": [
    "auc_df2 = pd.DataFrame(\n",
    "    {'start price': start_prices,\n",
    "     'reserve': reserves,\n",
    "     'reserve met': reserve_mets,\n",
    "     'photo number': photo_nums,\n",
    "     'description': descriptions,\n",
    "     'year': years,\n",
    "     'make': makes,\n",
    "     'car model': car_models,\n",
    "     'mileage': mileages,\n",
    "     'transmission': transmissions,\n",
    "     'vehicle title': vtitles,\n",
    "     'fuel': fuels,\n",
    "     'seller type': seller_types\n",
    "    })"
   ]
  },
  {
   "cell_type": "code",
   "execution_count": 174,
   "metadata": {},
   "outputs": [
    {
     "name": "stdout",
     "output_type": "stream",
     "text": [
      "<class 'pandas.core.frame.DataFrame'>\n",
      "RangeIndex: 4000 entries, 0 to 3999\n",
      "Data columns (total 13 columns):\n",
      "car model        4000 non-null object\n",
      "description      3997 non-null object\n",
      "fuel             4000 non-null object\n",
      "make             4000 non-null object\n",
      "mileage          4000 non-null int64\n",
      "photo number     4000 non-null int64\n",
      "reserve          4000 non-null object\n",
      "reserve met      4000 non-null object\n",
      "seller type      4000 non-null object\n",
      "start price      4000 non-null float64\n",
      "transmission     4000 non-null object\n",
      "vehicle title    4000 non-null object\n",
      "year             4000 non-null int64\n",
      "dtypes: float64(1), int64(3), object(9)\n",
      "memory usage: 406.3+ KB\n"
     ]
    }
   ],
   "source": [
    "auc_df2.info()"
   ]
  },
  {
   "cell_type": "code",
   "execution_count": 175,
   "metadata": {
    "collapsed": true
   },
   "outputs": [],
   "source": [
    "auc_df_final = pd.concat([auc_df,auc_df2], axis=1)"
   ]
  },
  {
   "cell_type": "code",
   "execution_count": 176,
   "metadata": {},
   "outputs": [
    {
     "name": "stdout",
     "output_type": "stream",
     "text": [
      "<class 'pandas.core.frame.DataFrame'>\n",
      "RangeIndex: 4000 entries, 0 to 3999\n",
      "Data columns (total 34 columns):\n",
      "auction start time           4000 non-null object\n",
      "autopays                     4000 non-null object\n",
      "best offer                   4000 non-null object\n",
      "bid count                    4000 non-null int64\n",
      "category ID                  4000 non-null object\n",
      "category name                4000 non-null object\n",
      "condition ID                 4000 non-null object\n",
      "end price                    4000 non-null float64\n",
      "item ID                      4000 non-null object\n",
      "item url                     4000 non-null object\n",
      "missing pic                  4000 non-null int64\n",
      "number of payment methods    4000 non-null int64\n",
      "pic url                      4000 non-null object\n",
      "postal code                  4000 non-null int64\n",
      "seller percent               4000 non-null float64\n",
      "seller score                 4000 non-null int64\n",
      "seller star                  4000 non-null object\n",
      "selling state                4000 non-null object\n",
      "shipping type                4000 non-null object\n",
      "title                        4000 non-null object\n",
      "top rated                    4000 non-null object\n",
      "car model                    4000 non-null object\n",
      "description                  3997 non-null object\n",
      "fuel                         4000 non-null object\n",
      "make                         4000 non-null object\n",
      "mileage                      4000 non-null int64\n",
      "photo number                 4000 non-null int64\n",
      "reserve                      4000 non-null object\n",
      "reserve met                  4000 non-null object\n",
      "seller type                  4000 non-null object\n",
      "start price                  4000 non-null float64\n",
      "transmission                 4000 non-null object\n",
      "vehicle title                4000 non-null object\n",
      "year                         4000 non-null int64\n",
      "dtypes: float64(3), int64(8), object(23)\n",
      "memory usage: 1.0+ MB\n"
     ]
    }
   ],
   "source": [
    "auc_df_final.info()"
   ]
  },
  {
   "cell_type": "code",
   "execution_count": 177,
   "metadata": {},
   "outputs": [
    {
     "data": {
      "text/html": [
       "<div>\n",
       "<style>\n",
       "    .dataframe thead tr:only-child th {\n",
       "        text-align: right;\n",
       "    }\n",
       "\n",
       "    .dataframe thead th {\n",
       "        text-align: left;\n",
       "    }\n",
       "\n",
       "    .dataframe tbody tr th {\n",
       "        vertical-align: top;\n",
       "    }\n",
       "</style>\n",
       "<table border=\"1\" class=\"dataframe\">\n",
       "  <thead>\n",
       "    <tr style=\"text-align: right;\">\n",
       "      <th></th>\n",
       "      <th>auction start time</th>\n",
       "      <th>autopays</th>\n",
       "      <th>best offer</th>\n",
       "      <th>bid count</th>\n",
       "      <th>category ID</th>\n",
       "      <th>category name</th>\n",
       "      <th>condition ID</th>\n",
       "      <th>end price</th>\n",
       "      <th>item ID</th>\n",
       "      <th>item url</th>\n",
       "      <th>...</th>\n",
       "      <th>make</th>\n",
       "      <th>mileage</th>\n",
       "      <th>photo number</th>\n",
       "      <th>reserve</th>\n",
       "      <th>reserve met</th>\n",
       "      <th>seller type</th>\n",
       "      <th>start price</th>\n",
       "      <th>transmission</th>\n",
       "      <th>vehicle title</th>\n",
       "      <th>year</th>\n",
       "    </tr>\n",
       "  </thead>\n",
       "  <tbody>\n",
       "    <tr>\n",
       "      <th>0</th>\n",
       "      <td>2018-01-24T17:29:44.000Z</td>\n",
       "      <td>false</td>\n",
       "      <td>false</td>\n",
       "      <td>0</td>\n",
       "      <td>6169</td>\n",
       "      <td>Impala</td>\n",
       "      <td>3000</td>\n",
       "      <td>4500.00</td>\n",
       "      <td>292422409930</td>\n",
       "      <td>http://cgi.ebay.com/ebaymotors/2012-Chevrolet-...</td>\n",
       "      <td>...</td>\n",
       "      <td>Chevrolet</td>\n",
       "      <td>82254</td>\n",
       "      <td>24</td>\n",
       "      <td>false</td>\n",
       "      <td>true</td>\n",
       "      <td>Dealer</td>\n",
       "      <td>4500.0</td>\n",
       "      <td>Automatic</td>\n",
       "      <td>Clear</td>\n",
       "      <td>2012</td>\n",
       "    </tr>\n",
       "    <tr>\n",
       "      <th>1</th>\n",
       "      <td>2018-01-20T05:27:12.000Z</td>\n",
       "      <td>false</td>\n",
       "      <td>false</td>\n",
       "      <td>4</td>\n",
       "      <td>31851</td>\n",
       "      <td>Town Car</td>\n",
       "      <td>3000</td>\n",
       "      <td>710.01</td>\n",
       "      <td>132476159742</td>\n",
       "      <td>http://cgi.ebay.com/ebaymotors/1995-Lincoln-To...</td>\n",
       "      <td>...</td>\n",
       "      <td>Lincoln</td>\n",
       "      <td>140650</td>\n",
       "      <td>5</td>\n",
       "      <td>true</td>\n",
       "      <td>false</td>\n",
       "      <td>Private Seller</td>\n",
       "      <td>500.0</td>\n",
       "      <td>Automatic</td>\n",
       "      <td>Clear</td>\n",
       "      <td>1995</td>\n",
       "    </tr>\n",
       "    <tr>\n",
       "      <th>2</th>\n",
       "      <td>2018-01-17T17:25:39.000Z</td>\n",
       "      <td>false</td>\n",
       "      <td>false</td>\n",
       "      <td>13</td>\n",
       "      <td>180070</td>\n",
       "      <td>Other</td>\n",
       "      <td>3000</td>\n",
       "      <td>1035.00</td>\n",
       "      <td>232633871924</td>\n",
       "      <td>http://cgi.ebay.com/ebaymotors/1992-Geo-Prizm-...</td>\n",
       "      <td>...</td>\n",
       "      <td>Geo</td>\n",
       "      <td>52789</td>\n",
       "      <td>14</td>\n",
       "      <td>true</td>\n",
       "      <td>false</td>\n",
       "      <td>NA</td>\n",
       "      <td>300.0</td>\n",
       "      <td>Automatic</td>\n",
       "      <td>Clear</td>\n",
       "      <td>1992</td>\n",
       "    </tr>\n",
       "    <tr>\n",
       "      <th>3</th>\n",
       "      <td>2018-01-20T17:06:38.000Z</td>\n",
       "      <td>false</td>\n",
       "      <td>false</td>\n",
       "      <td>0</td>\n",
       "      <td>6169</td>\n",
       "      <td>Impala</td>\n",
       "      <td>3000</td>\n",
       "      <td>7500.00</td>\n",
       "      <td>192433171533</td>\n",
       "      <td>http://cgi.ebay.com/ebaymotors/1966-Chevrolet-...</td>\n",
       "      <td>...</td>\n",
       "      <td>Chevrolet</td>\n",
       "      <td>999999</td>\n",
       "      <td>4</td>\n",
       "      <td>true</td>\n",
       "      <td>false</td>\n",
       "      <td>NA</td>\n",
       "      <td>7500.0</td>\n",
       "      <td>NA</td>\n",
       "      <td>Clear</td>\n",
       "      <td>1966</td>\n",
       "    </tr>\n",
       "    <tr>\n",
       "      <th>4</th>\n",
       "      <td>2018-01-19T17:20:10.000Z</td>\n",
       "      <td>false</td>\n",
       "      <td>false</td>\n",
       "      <td>21</td>\n",
       "      <td>6055</td>\n",
       "      <td>Other</td>\n",
       "      <td>3000</td>\n",
       "      <td>515.00</td>\n",
       "      <td>273032516199</td>\n",
       "      <td>http://cgi.ebay.com/ebaymotors/1985-Audi-Other...</td>\n",
       "      <td>...</td>\n",
       "      <td>Audi</td>\n",
       "      <td>180350</td>\n",
       "      <td>13</td>\n",
       "      <td>false</td>\n",
       "      <td>true</td>\n",
       "      <td>Private Seller</td>\n",
       "      <td>300.0</td>\n",
       "      <td>Manual</td>\n",
       "      <td>Clear</td>\n",
       "      <td>1985</td>\n",
       "    </tr>\n",
       "  </tbody>\n",
       "</table>\n",
       "<p>5 rows × 34 columns</p>\n",
       "</div>"
      ],
      "text/plain": [
       "         auction start time autopays best offer  bid count category ID  \\\n",
       "0  2018-01-24T17:29:44.000Z    false      false          0        6169   \n",
       "1  2018-01-20T05:27:12.000Z    false      false          4       31851   \n",
       "2  2018-01-17T17:25:39.000Z    false      false         13      180070   \n",
       "3  2018-01-20T17:06:38.000Z    false      false          0        6169   \n",
       "4  2018-01-19T17:20:10.000Z    false      false         21        6055   \n",
       "\n",
       "  category name condition ID  end price       item ID  \\\n",
       "0        Impala         3000    4500.00  292422409930   \n",
       "1      Town Car         3000     710.01  132476159742   \n",
       "2         Other         3000    1035.00  232633871924   \n",
       "3        Impala         3000    7500.00  192433171533   \n",
       "4         Other         3000     515.00  273032516199   \n",
       "\n",
       "                                            item url  ...        make  \\\n",
       "0  http://cgi.ebay.com/ebaymotors/2012-Chevrolet-...  ...   Chevrolet   \n",
       "1  http://cgi.ebay.com/ebaymotors/1995-Lincoln-To...  ...     Lincoln   \n",
       "2  http://cgi.ebay.com/ebaymotors/1992-Geo-Prizm-...  ...         Geo   \n",
       "3  http://cgi.ebay.com/ebaymotors/1966-Chevrolet-...  ...   Chevrolet   \n",
       "4  http://cgi.ebay.com/ebaymotors/1985-Audi-Other...  ...        Audi   \n",
       "\n",
       "   mileage photo number  reserve  reserve met     seller type start price  \\\n",
       "0    82254           24    false         true          Dealer      4500.0   \n",
       "1   140650            5     true        false  Private Seller       500.0   \n",
       "2    52789           14     true        false              NA       300.0   \n",
       "3   999999            4     true        false              NA      7500.0   \n",
       "4   180350           13    false         true  Private Seller       300.0   \n",
       "\n",
       "  transmission vehicle title  year  \n",
       "0    Automatic         Clear  2012  \n",
       "1    Automatic         Clear  1995  \n",
       "2    Automatic         Clear  1992  \n",
       "3           NA         Clear  1966  \n",
       "4       Manual         Clear  1985  \n",
       "\n",
       "[5 rows x 34 columns]"
      ]
     },
     "execution_count": 177,
     "metadata": {},
     "output_type": "execute_result"
    }
   ],
   "source": [
    "auc_df_final.head()"
   ]
  },
  {
   "cell_type": "code",
   "execution_count": 178,
   "metadata": {},
   "outputs": [
    {
     "data": {
      "text/plain": [
       "'http://cgi.ebay.com/ebaymotors/2012-Chevrolet-Impala-Police-Interceptor-9C1-Cruiser-4D-Sedan-HD-/292422409930'"
      ]
     },
     "execution_count": 178,
     "metadata": {},
     "output_type": "execute_result"
    }
   ],
   "source": [
    "auc_df_final['item url'][0]"
   ]
  },
  {
   "cell_type": "code",
   "execution_count": 179,
   "metadata": {
    "collapsed": true
   },
   "outputs": [],
   "source": [
    "with open('/Users/donalddressen/Desktop/auction_data/auctions_df_final.pkl', 'wb') as f:\n",
    "    pickle.dump(auc_df_final, f)"
   ]
  },
  {
   "cell_type": "code",
   "execution_count": null,
   "metadata": {
    "collapsed": true
   },
   "outputs": [],
   "source": []
  }
 ],
 "metadata": {
  "kernelspec": {
   "display_name": "Python 3",
   "language": "python",
   "name": "python3"
  },
  "language_info": {
   "codemirror_mode": {
    "name": "ipython",
    "version": 3
   },
   "file_extension": ".py",
   "mimetype": "text/x-python",
   "name": "python",
   "nbconvert_exporter": "python",
   "pygments_lexer": "ipython3",
   "version": "3.6.3"
  }
 },
 "nbformat": 4,
 "nbformat_minor": 2
}
