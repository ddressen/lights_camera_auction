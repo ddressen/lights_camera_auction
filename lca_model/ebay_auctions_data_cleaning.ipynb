{
 "cells": [
  {
   "cell_type": "code",
   "execution_count": 58,
   "metadata": {
    "collapsed": true
   },
   "outputs": [],
   "source": [
    "%matplotlib inline\n",
    "\n",
    "import numpy as np\n",
    "import pandas as pd\n",
    "from scipy import stats, integrate\n",
    "import matplotlib.pyplot as plt\n",
    "\n",
    "import seaborn as sns\n",
    "sns.set(color_codes=True)\n",
    "\n",
    "import ebaysdk\n",
    "from ebaysdk.finding import Connection as Finding\n",
    "from ebaysdk.trading import Connection as Trading\n",
    "from ebaysdk.exception import ConnectionError\n",
    "\n",
    "import pickle\n",
    "from collections import Counter"
   ]
  },
  {
   "cell_type": "code",
   "execution_count": 32,
   "metadata": {},
   "outputs": [],
   "source": [
    "with open('/Users/donalddressen/Desktop/auction_data/auctions_df_final.pkl', 'rb') as f:\n",
    "    auc_df_final = pickle.load(f)"
   ]
  },
  {
   "cell_type": "code",
   "execution_count": 33,
   "metadata": {},
   "outputs": [
    {
     "name": "stdout",
     "output_type": "stream",
     "text": [
      "<class 'pandas.core.frame.DataFrame'>\n",
      "RangeIndex: 4000 entries, 0 to 3999\n",
      "Data columns (total 34 columns):\n",
      "auction start time           4000 non-null object\n",
      "autopays                     4000 non-null object\n",
      "best offer                   4000 non-null object\n",
      "bid count                    4000 non-null int64\n",
      "category ID                  4000 non-null object\n",
      "category name                4000 non-null object\n",
      "condition ID                 4000 non-null object\n",
      "end price                    4000 non-null float64\n",
      "item ID                      4000 non-null object\n",
      "item url                     4000 non-null object\n",
      "missing pic                  4000 non-null int64\n",
      "number of payment methods    4000 non-null int64\n",
      "pic url                      4000 non-null object\n",
      "postal code                  4000 non-null int64\n",
      "seller percent               4000 non-null float64\n",
      "seller score                 4000 non-null int64\n",
      "seller star                  4000 non-null object\n",
      "selling state                4000 non-null object\n",
      "shipping type                4000 non-null object\n",
      "title                        4000 non-null object\n",
      "top rated                    4000 non-null object\n",
      "car model                    4000 non-null object\n",
      "description                  3997 non-null object\n",
      "fuel                         4000 non-null object\n",
      "make                         4000 non-null object\n",
      "mileage                      4000 non-null int64\n",
      "photo number                 4000 non-null int64\n",
      "reserve                      4000 non-null object\n",
      "reserve met                  4000 non-null object\n",
      "seller type                  4000 non-null object\n",
      "start price                  4000 non-null float64\n",
      "transmission                 4000 non-null object\n",
      "vehicle title                4000 non-null object\n",
      "year                         4000 non-null int64\n",
      "dtypes: float64(3), int64(8), object(23)\n",
      "memory usage: 1.0+ MB\n"
     ]
    }
   ],
   "source": [
    "auc_df_final.info()"
   ]
  },
  {
   "cell_type": "code",
   "execution_count": 41,
   "metadata": {
    "collapsed": true
   },
   "outputs": [],
   "source": [
    "reduce_df = auc_df_final[auc_df_final['bid count'] > 0]"
   ]
  },
  {
   "cell_type": "code",
   "execution_count": 42,
   "metadata": {},
   "outputs": [
    {
     "name": "stdout",
     "output_type": "stream",
     "text": [
      "<class 'pandas.core.frame.DataFrame'>\n",
      "Int64Index: 2999 entries, 1 to 3999\n",
      "Data columns (total 34 columns):\n",
      "auction start time           2999 non-null object\n",
      "autopays                     2999 non-null object\n",
      "best offer                   2999 non-null object\n",
      "bid count                    2999 non-null int64\n",
      "category ID                  2999 non-null object\n",
      "category name                2999 non-null object\n",
      "condition ID                 2999 non-null object\n",
      "end price                    2999 non-null float64\n",
      "item ID                      2999 non-null object\n",
      "item url                     2999 non-null object\n",
      "missing pic                  2999 non-null int64\n",
      "number of payment methods    2999 non-null int64\n",
      "pic url                      2999 non-null object\n",
      "postal code                  2999 non-null int64\n",
      "seller percent               2999 non-null float64\n",
      "seller score                 2999 non-null int64\n",
      "seller star                  2999 non-null object\n",
      "selling state                2999 non-null object\n",
      "shipping type                2999 non-null object\n",
      "title                        2999 non-null object\n",
      "top rated                    2999 non-null object\n",
      "car model                    2999 non-null object\n",
      "description                  2998 non-null object\n",
      "fuel                         2999 non-null object\n",
      "make                         2999 non-null object\n",
      "mileage                      2999 non-null int64\n",
      "photo number                 2999 non-null int64\n",
      "reserve                      2999 non-null object\n",
      "reserve met                  2999 non-null object\n",
      "seller type                  2999 non-null object\n",
      "start price                  2999 non-null float64\n",
      "transmission                 2999 non-null object\n",
      "vehicle title                2999 non-null object\n",
      "year                         2999 non-null int64\n",
      "dtypes: float64(3), int64(8), object(23)\n",
      "memory usage: 820.0+ KB\n"
     ]
    }
   ],
   "source": [
    "reduce_df.info()"
   ]
  },
  {
   "cell_type": "code",
   "execution_count": 43,
   "metadata": {},
   "outputs": [
    {
     "data": {
      "text/plain": [
       "<matplotlib.axes._subplots.AxesSubplot at 0x1a11285b38>"
      ]
     },
     "execution_count": 43,
     "metadata": {},
     "output_type": "execute_result"
    },
    {
     "data": {
      "image/png": "[encoded data removed]",
      "text/plain": [
       "<matplotlib.figure.Figure at 0x1a2a4165f8>"
      ]
     },
     "metadata": {},
     "output_type": "display_data"
    }
   ],
   "source": [
    "sns.distplot(reduce_df['end price'], kde=False)"
   ]
  },
  {
   "cell_type": "code",
   "execution_count": 44,
   "metadata": {
    "collapsed": true
   },
   "outputs": [],
   "source": [
    "reduce_df = reduce_df[reduce_df['missing pic'] < 1]"
   ]
  },
  {
   "cell_type": "code",
   "execution_count": 45,
   "metadata": {},
   "outputs": [
    {
     "name": "stdout",
     "output_type": "stream",
     "text": [
      "<class 'pandas.core.frame.DataFrame'>\n",
      "Int64Index: 2974 entries, 1 to 3999\n",
      "Data columns (total 34 columns):\n",
      "auction start time           2974 non-null object\n",
      "autopays                     2974 non-null object\n",
      "best offer                   2974 non-null object\n",
      "bid count                    2974 non-null int64\n",
      "category ID                  2974 non-null object\n",
      "category name                2974 non-null object\n",
      "condition ID                 2974 non-null object\n",
      "end price                    2974 non-null float64\n",
      "item ID                      2974 non-null object\n",
      "item url                     2974 non-null object\n",
      "missing pic                  2974 non-null int64\n",
      "number of payment methods    2974 non-null int64\n",
      "pic url                      2974 non-null object\n",
      "postal code                  2974 non-null int64\n",
      "seller percent               2974 non-null float64\n",
      "seller score                 2974 non-null int64\n",
      "seller star                  2974 non-null object\n",
      "selling state                2974 non-null object\n",
      "shipping type                2974 non-null object\n",
      "title                        2974 non-null object\n",
      "top rated                    2974 non-null object\n",
      "car model                    2974 non-null object\n",
      "description                  2973 non-null object\n",
      "fuel                         2974 non-null object\n",
      "make                         2974 non-null object\n",
      "mileage                      2974 non-null int64\n",
      "photo number                 2974 non-null int64\n",
      "reserve                      2974 non-null object\n",
      "reserve met                  2974 non-null object\n",
      "seller type                  2974 non-null object\n",
      "start price                  2974 non-null float64\n",
      "transmission                 2974 non-null object\n",
      "vehicle title                2974 non-null object\n",
      "year                         2974 non-null int64\n",
      "dtypes: float64(3), int64(8), object(23)\n",
      "memory usage: 813.2+ KB\n"
     ]
    }
   ],
   "source": [
    "reduce_df.info()"
   ]
  },
  {
   "cell_type": "code",
   "execution_count": 47,
   "metadata": {},
   "outputs": [
    {
     "data": {
      "text/plain": [
       "1       false\n",
       "2       false\n",
       "4        true\n",
       "6       false\n",
       "7        true\n",
       "8       false\n",
       "10      false\n",
       "11      false\n",
       "18      false\n",
       "19      false\n",
       "20       true\n",
       "21       true\n",
       "22      false\n",
       "29       true\n",
       "31       true\n",
       "32      false\n",
       "33      false\n",
       "34       true\n",
       "37      false\n",
       "39      false\n",
       "40      false\n",
       "41       true\n",
       "42      false\n",
       "44       true\n",
       "46       true\n",
       "47       true\n",
       "48      false\n",
       "49       true\n",
       "50      false\n",
       "52       true\n",
       "        ...  \n",
       "3970     true\n",
       "3971     true\n",
       "3972     true\n",
       "3973     true\n",
       "3974     true\n",
       "3975     true\n",
       "3976     true\n",
       "3977     true\n",
       "3978     true\n",
       "3979     true\n",
       "3980     true\n",
       "3981     true\n",
       "3982     true\n",
       "3983     true\n",
       "3984     true\n",
       "3985     true\n",
       "3986     true\n",
       "3987     true\n",
       "3988     true\n",
       "3989     true\n",
       "3990     true\n",
       "3991     true\n",
       "3992     true\n",
       "3993     true\n",
       "3994     true\n",
       "3995       NA\n",
       "3996       NA\n",
       "3997       NA\n",
       "3998       NA\n",
       "3999       NA\n",
       "Name: reserve met, Length: 2974, dtype: object"
      ]
     },
     "execution_count": 47,
     "metadata": {},
     "output_type": "execute_result"
    }
   ],
   "source": [
    "reduce_df['reserve met']"
   ]
  },
  {
   "cell_type": "code",
   "execution_count": 48,
   "metadata": {
    "collapsed": true
   },
   "outputs": [],
   "source": [
    "reduce_df = reduce_df[reduce_df['reserve met'] == 'true']"
   ]
  },
  {
   "cell_type": "code",
   "execution_count": 49,
   "metadata": {},
   "outputs": [
    {
     "name": "stdout",
     "output_type": "stream",
     "text": [
      "<class 'pandas.core.frame.DataFrame'>\n",
      "Int64Index: 1681 entries, 4 to 3994\n",
      "Data columns (total 34 columns):\n",
      "auction start time           1681 non-null object\n",
      "autopays                     1681 non-null object\n",
      "best offer                   1681 non-null object\n",
      "bid count                    1681 non-null int64\n",
      "category ID                  1681 non-null object\n",
      "category name                1681 non-null object\n",
      "condition ID                 1681 non-null object\n",
      "end price                    1681 non-null float64\n",
      "item ID                      1681 non-null object\n",
      "item url                     1681 non-null object\n",
      "missing pic                  1681 non-null int64\n",
      "number of payment methods    1681 non-null int64\n",
      "pic url                      1681 non-null object\n",
      "postal code                  1681 non-null int64\n",
      "seller percent               1681 non-null float64\n",
      "seller score                 1681 non-null int64\n",
      "seller star                  1681 non-null object\n",
      "selling state                1681 non-null object\n",
      "shipping type                1681 non-null object\n",
      "title                        1681 non-null object\n",
      "top rated                    1681 non-null object\n",
      "car model                    1681 non-null object\n",
      "description                  1680 non-null object\n",
      "fuel                         1681 non-null object\n",
      "make                         1681 non-null object\n",
      "mileage                      1681 non-null int64\n",
      "photo number                 1681 non-null int64\n",
      "reserve                      1681 non-null object\n",
      "reserve met                  1681 non-null object\n",
      "seller type                  1681 non-null object\n",
      "start price                  1681 non-null float64\n",
      "transmission                 1681 non-null object\n",
      "vehicle title                1681 non-null object\n",
      "year                         1681 non-null int64\n",
      "dtypes: float64(3), int64(8), object(23)\n",
      "memory usage: 459.6+ KB\n"
     ]
    }
   ],
   "source": [
    "reduce_df.info()"
   ]
  },
  {
   "cell_type": "code",
   "execution_count": 50,
   "metadata": {
    "collapsed": true
   },
   "outputs": [],
   "source": [
    "model_df = pd.concat([ \n",
    "    reduce_df['category ID'], \n",
    "    reduce_df['condition ID'], \n",
    "    reduce_df['end price'], \n",
    "    reduce_df['item ID'], \n",
    "    reduce_df['number of payment methods'],\n",
    "    reduce_df['seller percent'],\n",
    "    reduce_df['seller score'],\n",
    "    reduce_df['seller star'],\n",
    "    reduce_df['top rated'],\n",
    "    reduce_df['reserve'],\n",
    "    reduce_df['start price'],\n",
    "    reduce_df['photo number'],\n",
    "    reduce_df['postal code'],\n",
    "    reduce_df['year'],\n",
    "    reduce_df['mileage']\n",
    "], axis=1)"
   ]
  },
  {
   "cell_type": "code",
   "execution_count": 51,
   "metadata": {
    "collapsed": true
   },
   "outputs": [],
   "source": [
    "star_mapping = {\"None\": 0, \n",
    "                \"Yellow\": 1, \n",
    "                \"Blue\": 2, \n",
    "                \"Turquoise\": 3, \n",
    "                \"Purple\": 4,\n",
    "                \"Red\": 5,\n",
    "                \"Green\": 6,\n",
    "                \"YellowShooting\": 7,\n",
    "                \"TurquoiseShooting\": 8,\n",
    "                \"PurpleShooting\": 9,\n",
    "                \"RedShooting\": 10,\n",
    "                \"GreenShooting\": 11,\n",
    "                \"SilverShooting\": 12\n",
    "               }\n",
    "\n",
    "model_df['seller star'] = model_df['seller star'].map(star_mapping)\n",
    "model_df['seller star'] = model_df['seller star'].fillna(0)"
   ]
  },
  {
   "cell_type": "code",
   "execution_count": 53,
   "metadata": {},
   "outputs": [],
   "source": [
    "model_df['top rated'] = model_df['top rated'].astype(bool)"
   ]
  },
  {
   "cell_type": "code",
   "execution_count": 54,
   "metadata": {
    "collapsed": true
   },
   "outputs": [],
   "source": [
    "model_df['top rated'] = model_df['top rated'].astype(int)"
   ]
  },
  {
   "cell_type": "code",
   "execution_count": 55,
   "metadata": {
    "collapsed": true
   },
   "outputs": [],
   "source": [
    "model_df['reserve'] = model_df['reserve'].astype(bool)"
   ]
  },
  {
   "cell_type": "code",
   "execution_count": 56,
   "metadata": {
    "collapsed": true
   },
   "outputs": [],
   "source": [
    "model_df['reserve'] = model_df['reserve'].astype(int)"
   ]
  },
  {
   "cell_type": "code",
   "execution_count": 60,
   "metadata": {
    "collapsed": true
   },
   "outputs": [],
   "source": [
    "model_df['category ID'] = model_df['category ID'].astype(int)"
   ]
  },
  {
   "cell_type": "code",
   "execution_count": 64,
   "metadata": {
    "collapsed": true
   },
   "outputs": [],
   "source": [
    "model_df['condition ID'] = model_df['condition ID'].astype(int)"
   ]
  },
  {
   "cell_type": "code",
   "execution_count": 67,
   "metadata": {
    "collapsed": true
   },
   "outputs": [],
   "source": [
    "model_df['item ID'] = model_df['item ID'].astype(int)"
   ]
  },
  {
   "cell_type": "code",
   "execution_count": 68,
   "metadata": {},
   "outputs": [
    {
     "name": "stdout",
     "output_type": "stream",
     "text": [
      "<class 'pandas.core.frame.DataFrame'>\n",
      "Int64Index: 1681 entries, 4 to 3994\n",
      "Data columns (total 15 columns):\n",
      "category ID                  1681 non-null int64\n",
      "condition ID                 1681 non-null int64\n",
      "end price                    1681 non-null float64\n",
      "item ID                      1681 non-null int64\n",
      "number of payment methods    1681 non-null int64\n",
      "seller percent               1681 non-null float64\n",
      "seller score                 1681 non-null int64\n",
      "seller star                  1681 non-null int64\n",
      "top rated                    1681 non-null int64\n",
      "reserve                      1681 non-null int64\n",
      "start price                  1681 non-null float64\n",
      "photo number                 1681 non-null int64\n",
      "postal code                  1681 non-null int64\n",
      "year                         1681 non-null int64\n",
      "mileage                      1681 non-null int64\n",
      "dtypes: float64(3), int64(12)\n",
      "memory usage: 210.1 KB\n"
     ]
    }
   ],
   "source": [
    "model_df.info()"
   ]
  },
  {
   "cell_type": "code",
   "execution_count": 66,
   "metadata": {},
   "outputs": [
    {
     "data": {
      "text/plain": [
       "Counter({1000: 6, 2500: 25, 3000: 1650})"
      ]
     },
     "execution_count": 66,
     "metadata": {},
     "output_type": "execute_result"
    }
   ],
   "source": [
    "Counter(model_df['condition ID'])"
   ]
  },
  {
   "cell_type": "code",
   "execution_count": 69,
   "metadata": {
    "collapsed": true
   },
   "outputs": [],
   "source": [
    "with open('/Users/donalddressen/Desktop/auction_data/model_df.pkl', 'wb') as f:\n",
    "    pickle.dump(model_df, f)"
   ]
  },
  {
   "cell_type": "code",
   "execution_count": null,
   "metadata": {
    "collapsed": true
   },
   "outputs": [],
   "source": []
  }
 ],
 "metadata": {
  "kernelspec": {
   "display_name": "Python 3",
   "language": "python",
   "name": "python3"
  },
  "language_info": {
   "codemirror_mode": {
    "name": "ipython",
    "version": 3
   },
   "file_extension": ".py",
   "mimetype": "text/x-python",
   "name": "python",
   "nbconvert_exporter": "python",
   "pygments_lexer": "ipython3",
   "version": "3.6.3"
  }
 },
 "nbformat": 4,
 "nbformat_minor": 2
}
