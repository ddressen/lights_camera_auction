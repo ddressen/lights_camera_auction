{
 "cells": [
  {
   "cell_type": "code",
   "execution_count": 44,
   "metadata": {},
   "outputs": [],
   "source": [
    "import os\n",
    "\n",
    "import pickle\n",
    "from collections import Counter\n",
    "\n",
    "from urllib import request"
   ]
  },
  {
   "cell_type": "code",
   "execution_count": 2,
   "metadata": {
    "collapsed": true
   },
   "outputs": [],
   "source": [
    "with open('/Users/donalddressen/Desktop/auction_data/auctions_df_final.pkl', 'rb') as f:\n",
    "    auc_df_final = pickle.load(f)"
   ]
  },
  {
   "cell_type": "code",
   "execution_count": 3,
   "metadata": {
    "collapsed": true
   },
   "outputs": [],
   "source": [
    "reduce_df = auc_df_final[auc_df_final['bid count'] > 0]"
   ]
  },
  {
   "cell_type": "code",
   "execution_count": 4,
   "metadata": {
    "collapsed": true
   },
   "outputs": [],
   "source": [
    "reduce_df = reduce_df[reduce_df['missing pic'] < 1]"
   ]
  },
  {
   "cell_type": "code",
   "execution_count": 5,
   "metadata": {
    "collapsed": true
   },
   "outputs": [],
   "source": [
    "reduce_df = reduce_df[reduce_df['reserve met'] == 'true']"
   ]
  },
  {
   "cell_type": "code",
   "execution_count": 6,
   "metadata": {},
   "outputs": [
    {
     "name": "stdout",
     "output_type": "stream",
     "text": [
      "<class 'pandas.core.frame.DataFrame'>\n",
      "Int64Index: 1681 entries, 4 to 3994\n",
      "Data columns (total 34 columns):\n",
      "auction start time           1681 non-null object\n",
      "autopays                     1681 non-null object\n",
      "best offer                   1681 non-null object\n",
      "bid count                    1681 non-null int64\n",
      "category ID                  1681 non-null object\n",
      "category name                1681 non-null object\n",
      "condition ID                 1681 non-null object\n",
      "end price                    1681 non-null float64\n",
      "item ID                      1681 non-null object\n",
      "item url                     1681 non-null object\n",
      "missing pic                  1681 non-null int64\n",
      "number of payment methods    1681 non-null int64\n",
      "pic url                      1681 non-null object\n",
      "postal code                  1681 non-null int64\n",
      "seller percent               1681 non-null float64\n",
      "seller score                 1681 non-null int64\n",
      "seller star                  1681 non-null object\n",
      "selling state                1681 non-null object\n",
      "shipping type                1681 non-null object\n",
      "title                        1681 non-null object\n",
      "top rated                    1681 non-null object\n",
      "car model                    1681 non-null object\n",
      "description                  1680 non-null object\n",
      "fuel                         1681 non-null object\n",
      "make                         1681 non-null object\n",
      "mileage                      1681 non-null int64\n",
      "photo number                 1681 non-null int64\n",
      "reserve                      1681 non-null object\n",
      "reserve met                  1681 non-null object\n",
      "seller type                  1681 non-null object\n",
      "start price                  1681 non-null float64\n",
      "transmission                 1681 non-null object\n",
      "vehicle title                1681 non-null object\n",
      "year                         1681 non-null int64\n",
      "dtypes: float64(3), int64(8), object(23)\n",
      "memory usage: 459.6+ KB\n"
     ]
    }
   ],
   "source": [
    "reduce_df.info()"
   ]
  },
  {
   "cell_type": "code",
   "execution_count": 13,
   "metadata": {},
   "outputs": [],
   "source": [
    "urls = reduce_df['pic url'].tolist()"
   ]
  },
  {
   "cell_type": "code",
   "execution_count": 26,
   "metadata": {},
   "outputs": [],
   "source": [
    "item_ids = reduce_df['item ID'].tolist()"
   ]
  },
  {
   "cell_type": "code",
   "execution_count": 30,
   "metadata": {
    "collapsed": true
   },
   "outputs": [],
   "source": [
    "ids_urls = list(zip(item_ids, urls))"
   ]
  },
  {
   "cell_type": "code",
   "execution_count": 19,
   "metadata": {
    "collapsed": true
   },
   "outputs": [],
   "source": [
    "# os.makedirs('/Users/donalddressen/Desktop/auction_data/photos/273032516199')"
   ]
  },
  {
   "cell_type": "code",
   "execution_count": 41,
   "metadata": {},
   "outputs": [],
   "source": [
    "for item in ids_urls:\n",
    "    \n",
    "    request.urlretrieve(item[1],'/Users/donalddressen/Desktop/auction_data/photos/'+ item[0] +'.jpg')"
   ]
  },
  {
   "cell_type": "code",
   "execution_count": 42,
   "metadata": {
    "collapsed": true
   },
   "outputs": [],
   "source": [
    "with open('/Users/donalddressen/Desktop/auction_data/ids_urls.pkl', 'wb') as f:\n",
    "    pickle.dump(ids_urls, f)"
   ]
  },
  {
   "cell_type": "code",
   "execution_count": null,
   "metadata": {
    "collapsed": true
   },
   "outputs": [],
   "source": []
  }
 ],
 "metadata": {
  "kernelspec": {
   "display_name": "Python 3",
   "language": "python",
   "name": "python3"
  },
  "language_info": {
   "codemirror_mode": {
    "name": "ipython",
    "version": 3
   },
   "file_extension": ".py",
   "mimetype": "text/x-python",
   "name": "python",
   "nbconvert_exporter": "python",
   "pygments_lexer": "ipython3",
   "version": "3.6.3"
  }
 },
 "nbformat": 4,
 "nbformat_minor": 2
}
