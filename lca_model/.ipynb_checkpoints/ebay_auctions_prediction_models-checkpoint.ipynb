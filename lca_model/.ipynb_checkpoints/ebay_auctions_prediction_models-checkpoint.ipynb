{
 "cells": [
  {
   "cell_type": "code",
   "execution_count": 1,
   "metadata": {
    "collapsed": true
   },
   "outputs": [],
   "source": [
    "%matplotlib inline\n",
    "\n",
    "import numpy as np\n",
    "import pandas as pd\n",
    "from scipy import stats, integrate\n",
    "from scipy.stats import spearmanr, pearsonr\n",
    "import matplotlib.pyplot as plt\n",
    "from scipy.optimize import curve_fit\n",
    "\n",
    "import seaborn as sns\n",
    "sns.set(color_codes=True)\n",
    "\n",
    "import ebaysdk\n",
    "from ebaysdk.finding import Connection as Finding\n",
    "from ebaysdk.trading import Connection as Trading\n",
    "from ebaysdk.exception import ConnectionError\n",
    "\n",
    "import pickle\n",
    "\n",
    "from sklearn.model_selection import train_test_split\n",
    "from sklearn.ensemble import RandomForestRegressor\n",
    "from sklearn.metrics import r2_score, mean_absolute_error"
   ]
  },
  {
   "cell_type": "code",
   "execution_count": 2,
   "metadata": {
    "collapsed": true
   },
   "outputs": [],
   "source": [
    "with open('/Users/donalddressen/Desktop/auction_data/model_df.pkl', 'rb') as f:\n",
    "    model_df = pickle.load(f)"
   ]
  },
  {
   "cell_type": "code",
   "execution_count": 3,
   "metadata": {
    "collapsed": true
   },
   "outputs": [],
   "source": [
    "with open('/Users/donalddressen/Desktop/auction_data/image_df.pkl', 'rb') as f:\n",
    "    image_df = pickle.load(f)"
   ]
  },
  {
   "cell_type": "code",
   "execution_count": 4,
   "metadata": {
    "scrolled": true
   },
   "outputs": [
    {
     "name": "stdout",
     "output_type": "stream",
     "text": [
      "<class 'pandas.core.frame.DataFrame'>\n",
      "Int64Index: 1681 entries, 4 to 3994\n",
      "Data columns (total 15 columns):\n",
      "category ID                  1681 non-null int64\n",
      "condition ID                 1681 non-null int64\n",
      "end price                    1681 non-null float64\n",
      "item ID                      1681 non-null int64\n",
      "number of payment methods    1681 non-null int64\n",
      "seller percent               1681 non-null float64\n",
      "seller score                 1681 non-null int64\n",
      "seller star                  1681 non-null int64\n",
      "top rated                    1681 non-null int64\n",
      "reserve                      1681 non-null int64\n",
      "start price                  1681 non-null float64\n",
      "photo number                 1681 non-null int64\n",
      "postal code                  1681 non-null int64\n",
      "year                         1681 non-null int64\n",
      "mileage                      1681 non-null int64\n",
      "dtypes: float64(3), int64(12)\n",
      "memory usage: 210.1 KB\n"
     ]
    }
   ],
   "source": [
    "model_df.info()"
   ]
  },
  {
   "cell_type": "code",
   "execution_count": 5,
   "metadata": {},
   "outputs": [
    {
     "data": {
      "text/html": [
       "<div>\n",
       "<style>\n",
       "    .dataframe thead tr:only-child th {\n",
       "        text-align: right;\n",
       "    }\n",
       "\n",
       "    .dataframe thead th {\n",
       "        text-align: left;\n",
       "    }\n",
       "\n",
       "    .dataframe tbody tr th {\n",
       "        vertical-align: top;\n",
       "    }\n",
       "</style>\n",
       "<table border=\"1\" class=\"dataframe\">\n",
       "  <thead>\n",
       "    <tr style=\"text-align: right;\">\n",
       "      <th></th>\n",
       "      <th>category ID</th>\n",
       "      <th>condition ID</th>\n",
       "      <th>end price</th>\n",
       "      <th>item ID</th>\n",
       "      <th>number of payment methods</th>\n",
       "      <th>seller percent</th>\n",
       "      <th>seller score</th>\n",
       "      <th>seller star</th>\n",
       "      <th>top rated</th>\n",
       "      <th>reserve</th>\n",
       "      <th>start price</th>\n",
       "      <th>photo number</th>\n",
       "      <th>postal code</th>\n",
       "      <th>year</th>\n",
       "      <th>mileage</th>\n",
       "    </tr>\n",
       "  </thead>\n",
       "  <tbody>\n",
       "    <tr>\n",
       "      <th>4</th>\n",
       "      <td>6055</td>\n",
       "      <td>3000</td>\n",
       "      <td>515.0</td>\n",
       "      <td>273032516199</td>\n",
       "      <td>3</td>\n",
       "      <td>100.0</td>\n",
       "      <td>343</td>\n",
       "      <td>3</td>\n",
       "      <td>1</td>\n",
       "      <td>1</td>\n",
       "      <td>300.0</td>\n",
       "      <td>13</td>\n",
       "      <td>91304</td>\n",
       "      <td>1985</td>\n",
       "      <td>180350</td>\n",
       "    </tr>\n",
       "    <tr>\n",
       "      <th>7</th>\n",
       "      <td>16124</td>\n",
       "      <td>3000</td>\n",
       "      <td>1500.0</td>\n",
       "      <td>292412628334</td>\n",
       "      <td>21</td>\n",
       "      <td>100.0</td>\n",
       "      <td>19</td>\n",
       "      <td>1</td>\n",
       "      <td>1</td>\n",
       "      <td>1</td>\n",
       "      <td>1500.0</td>\n",
       "      <td>13</td>\n",
       "      <td>49426</td>\n",
       "      <td>1993</td>\n",
       "      <td>74000</td>\n",
       "    </tr>\n",
       "    <tr>\n",
       "      <th>20</th>\n",
       "      <td>6169</td>\n",
       "      <td>3000</td>\n",
       "      <td>3600.0</td>\n",
       "      <td>112765043707</td>\n",
       "      <td>2</td>\n",
       "      <td>99.6</td>\n",
       "      <td>3241</td>\n",
       "      <td>5</td>\n",
       "      <td>1</td>\n",
       "      <td>1</td>\n",
       "      <td>200.0</td>\n",
       "      <td>22</td>\n",
       "      <td>30043</td>\n",
       "      <td>2011</td>\n",
       "      <td>103085</td>\n",
       "    </tr>\n",
       "    <tr>\n",
       "      <th>21</th>\n",
       "      <td>6169</td>\n",
       "      <td>3000</td>\n",
       "      <td>3355.0</td>\n",
       "      <td>122921504563</td>\n",
       "      <td>2</td>\n",
       "      <td>99.6</td>\n",
       "      <td>3240</td>\n",
       "      <td>5</td>\n",
       "      <td>1</td>\n",
       "      <td>1</td>\n",
       "      <td>200.0</td>\n",
       "      <td>24</td>\n",
       "      <td>30043</td>\n",
       "      <td>2009</td>\n",
       "      <td>115145</td>\n",
       "    </tr>\n",
       "    <tr>\n",
       "      <th>29</th>\n",
       "      <td>171089</td>\n",
       "      <td>3000</td>\n",
       "      <td>6603.0</td>\n",
       "      <td>323014057149</td>\n",
       "      <td>21</td>\n",
       "      <td>100.0</td>\n",
       "      <td>263</td>\n",
       "      <td>3</td>\n",
       "      <td>1</td>\n",
       "      <td>1</td>\n",
       "      <td>999.0</td>\n",
       "      <td>24</td>\n",
       "      <td>20018</td>\n",
       "      <td>2007</td>\n",
       "      <td>128702</td>\n",
       "    </tr>\n",
       "  </tbody>\n",
       "</table>\n",
       "</div>"
      ],
      "text/plain": [
       "    category ID  condition ID  end price       item ID  \\\n",
       "4          6055          3000      515.0  273032516199   \n",
       "7         16124          3000     1500.0  292412628334   \n",
       "20         6169          3000     3600.0  112765043707   \n",
       "21         6169          3000     3355.0  122921504563   \n",
       "29       171089          3000     6603.0  323014057149   \n",
       "\n",
       "    number of payment methods  seller percent  seller score  seller star  \\\n",
       "4                           3           100.0           343            3   \n",
       "7                          21           100.0            19            1   \n",
       "20                          2            99.6          3241            5   \n",
       "21                          2            99.6          3240            5   \n",
       "29                         21           100.0           263            3   \n",
       "\n",
       "    top rated  reserve  start price  photo number  postal code  year  mileage  \n",
       "4           1        1        300.0            13        91304  1985   180350  \n",
       "7           1        1       1500.0            13        49426  1993    74000  \n",
       "20          1        1        200.0            22        30043  2011   103085  \n",
       "21          1        1        200.0            24        30043  2009   115145  \n",
       "29          1        1        999.0            24        20018  2007   128702  "
      ]
     },
     "execution_count": 5,
     "metadata": {},
     "output_type": "execute_result"
    }
   ],
   "source": [
    "model_df.head()"
   ]
  },
  {
   "cell_type": "code",
   "execution_count": 6,
   "metadata": {
    "collapsed": true
   },
   "outputs": [],
   "source": [
    "model_df = model_df.reset_index(drop=True)"
   ]
  },
  {
   "cell_type": "code",
   "execution_count": 7,
   "metadata": {},
   "outputs": [
    {
     "data": {
      "text/html": [
       "<div>\n",
       "<style>\n",
       "    .dataframe thead tr:only-child th {\n",
       "        text-align: right;\n",
       "    }\n",
       "\n",
       "    .dataframe thead th {\n",
       "        text-align: left;\n",
       "    }\n",
       "\n",
       "    .dataframe tbody tr th {\n",
       "        vertical-align: top;\n",
       "    }\n",
       "</style>\n",
       "<table border=\"1\" class=\"dataframe\">\n",
       "  <thead>\n",
       "    <tr style=\"text-align: right;\">\n",
       "      <th></th>\n",
       "      <th>category ID</th>\n",
       "      <th>condition ID</th>\n",
       "      <th>end price</th>\n",
       "      <th>item ID</th>\n",
       "      <th>number of payment methods</th>\n",
       "      <th>seller percent</th>\n",
       "      <th>seller score</th>\n",
       "      <th>seller star</th>\n",
       "      <th>top rated</th>\n",
       "      <th>reserve</th>\n",
       "      <th>start price</th>\n",
       "      <th>photo number</th>\n",
       "      <th>postal code</th>\n",
       "      <th>year</th>\n",
       "      <th>mileage</th>\n",
       "    </tr>\n",
       "  </thead>\n",
       "  <tbody>\n",
       "    <tr>\n",
       "      <th>0</th>\n",
       "      <td>6055</td>\n",
       "      <td>3000</td>\n",
       "      <td>515.0</td>\n",
       "      <td>273032516199</td>\n",
       "      <td>3</td>\n",
       "      <td>100.0</td>\n",
       "      <td>343</td>\n",
       "      <td>3</td>\n",
       "      <td>1</td>\n",
       "      <td>1</td>\n",
       "      <td>300.0</td>\n",
       "      <td>13</td>\n",
       "      <td>91304</td>\n",
       "      <td>1985</td>\n",
       "      <td>180350</td>\n",
       "    </tr>\n",
       "    <tr>\n",
       "      <th>1</th>\n",
       "      <td>16124</td>\n",
       "      <td>3000</td>\n",
       "      <td>1500.0</td>\n",
       "      <td>292412628334</td>\n",
       "      <td>21</td>\n",
       "      <td>100.0</td>\n",
       "      <td>19</td>\n",
       "      <td>1</td>\n",
       "      <td>1</td>\n",
       "      <td>1</td>\n",
       "      <td>1500.0</td>\n",
       "      <td>13</td>\n",
       "      <td>49426</td>\n",
       "      <td>1993</td>\n",
       "      <td>74000</td>\n",
       "    </tr>\n",
       "    <tr>\n",
       "      <th>2</th>\n",
       "      <td>6169</td>\n",
       "      <td>3000</td>\n",
       "      <td>3600.0</td>\n",
       "      <td>112765043707</td>\n",
       "      <td>2</td>\n",
       "      <td>99.6</td>\n",
       "      <td>3241</td>\n",
       "      <td>5</td>\n",
       "      <td>1</td>\n",
       "      <td>1</td>\n",
       "      <td>200.0</td>\n",
       "      <td>22</td>\n",
       "      <td>30043</td>\n",
       "      <td>2011</td>\n",
       "      <td>103085</td>\n",
       "    </tr>\n",
       "    <tr>\n",
       "      <th>3</th>\n",
       "      <td>6169</td>\n",
       "      <td>3000</td>\n",
       "      <td>3355.0</td>\n",
       "      <td>122921504563</td>\n",
       "      <td>2</td>\n",
       "      <td>99.6</td>\n",
       "      <td>3240</td>\n",
       "      <td>5</td>\n",
       "      <td>1</td>\n",
       "      <td>1</td>\n",
       "      <td>200.0</td>\n",
       "      <td>24</td>\n",
       "      <td>30043</td>\n",
       "      <td>2009</td>\n",
       "      <td>115145</td>\n",
       "    </tr>\n",
       "    <tr>\n",
       "      <th>4</th>\n",
       "      <td>171089</td>\n",
       "      <td>3000</td>\n",
       "      <td>6603.0</td>\n",
       "      <td>323014057149</td>\n",
       "      <td>21</td>\n",
       "      <td>100.0</td>\n",
       "      <td>263</td>\n",
       "      <td>3</td>\n",
       "      <td>1</td>\n",
       "      <td>1</td>\n",
       "      <td>999.0</td>\n",
       "      <td>24</td>\n",
       "      <td>20018</td>\n",
       "      <td>2007</td>\n",
       "      <td>128702</td>\n",
       "    </tr>\n",
       "  </tbody>\n",
       "</table>\n",
       "</div>"
      ],
      "text/plain": [
       "   category ID  condition ID  end price       item ID  \\\n",
       "0         6055          3000      515.0  273032516199   \n",
       "1        16124          3000     1500.0  292412628334   \n",
       "2         6169          3000     3600.0  112765043707   \n",
       "3         6169          3000     3355.0  122921504563   \n",
       "4       171089          3000     6603.0  323014057149   \n",
       "\n",
       "   number of payment methods  seller percent  seller score  seller star  \\\n",
       "0                          3           100.0           343            3   \n",
       "1                         21           100.0            19            1   \n",
       "2                          2            99.6          3241            5   \n",
       "3                          2            99.6          3240            5   \n",
       "4                         21           100.0           263            3   \n",
       "\n",
       "   top rated  reserve  start price  photo number  postal code  year  mileage  \n",
       "0          1        1        300.0            13        91304  1985   180350  \n",
       "1          1        1       1500.0            13        49426  1993    74000  \n",
       "2          1        1        200.0            22        30043  2011   103085  \n",
       "3          1        1        200.0            24        30043  2009   115145  \n",
       "4          1        1        999.0            24        20018  2007   128702  "
      ]
     },
     "execution_count": 7,
     "metadata": {},
     "output_type": "execute_result"
    }
   ],
   "source": [
    "model_df.head()"
   ]
  },
  {
   "cell_type": "code",
   "execution_count": 8,
   "metadata": {},
   "outputs": [
    {
     "name": "stdout",
     "output_type": "stream",
     "text": [
      "<class 'pandas.core.frame.DataFrame'>\n",
      "RangeIndex: 1681 entries, 0 to 1680\n",
      "Data columns (total 6 columns):\n",
      "blur            1681 non-null int64\n",
      "fm              1681 non-null float64\n",
      "m norm horiz    1681 non-null float64\n",
      "m norm vert     1681 non-null float64\n",
      "z norm horiz    1681 non-null float64\n",
      "z norm vert     1681 non-null float64\n",
      "dtypes: float64(5), int64(1)\n",
      "memory usage: 78.9 KB\n"
     ]
    }
   ],
   "source": [
    "image_df.info()"
   ]
  },
  {
   "cell_type": "code",
   "execution_count": 9,
   "metadata": {},
   "outputs": [
    {
     "data": {
      "text/html": [
       "<div>\n",
       "<style>\n",
       "    .dataframe thead tr:only-child th {\n",
       "        text-align: right;\n",
       "    }\n",
       "\n",
       "    .dataframe thead th {\n",
       "        text-align: left;\n",
       "    }\n",
       "\n",
       "    .dataframe tbody tr th {\n",
       "        vertical-align: top;\n",
       "    }\n",
       "</style>\n",
       "<table border=\"1\" class=\"dataframe\">\n",
       "  <thead>\n",
       "    <tr style=\"text-align: right;\">\n",
       "      <th></th>\n",
       "      <th>blur</th>\n",
       "      <th>fm</th>\n",
       "      <th>m norm horiz</th>\n",
       "      <th>m norm vert</th>\n",
       "      <th>z norm horiz</th>\n",
       "      <th>z norm vert</th>\n",
       "    </tr>\n",
       "  </thead>\n",
       "  <tbody>\n",
       "    <tr>\n",
       "      <th>0</th>\n",
       "      <td>1</td>\n",
       "      <td>304.577476</td>\n",
       "      <td>118360.062745</td>\n",
       "      <td>86987.168627</td>\n",
       "      <td>477702.0</td>\n",
       "      <td>473684.0</td>\n",
       "    </tr>\n",
       "    <tr>\n",
       "      <th>1</th>\n",
       "      <td>0</td>\n",
       "      <td>753.352953</td>\n",
       "      <td>105687.725490</td>\n",
       "      <td>84427.600000</td>\n",
       "      <td>476186.0</td>\n",
       "      <td>471574.0</td>\n",
       "    </tr>\n",
       "    <tr>\n",
       "      <th>2</th>\n",
       "      <td>1</td>\n",
       "      <td>489.253391</td>\n",
       "      <td>92432.955102</td>\n",
       "      <td>42385.126531</td>\n",
       "      <td>182314.0</td>\n",
       "      <td>183088.0</td>\n",
       "    </tr>\n",
       "    <tr>\n",
       "      <th>3</th>\n",
       "      <td>0</td>\n",
       "      <td>573.236094</td>\n",
       "      <td>61295.166667</td>\n",
       "      <td>42040.642857</td>\n",
       "      <td>185036.0</td>\n",
       "      <td>185124.0</td>\n",
       "    </tr>\n",
       "    <tr>\n",
       "      <th>4</th>\n",
       "      <td>0</td>\n",
       "      <td>1851.554587</td>\n",
       "      <td>64414.666667</td>\n",
       "      <td>47571.827451</td>\n",
       "      <td>165304.0</td>\n",
       "      <td>164746.0</td>\n",
       "    </tr>\n",
       "  </tbody>\n",
       "</table>\n",
       "</div>"
      ],
      "text/plain": [
       "   blur           fm   m norm horiz   m norm vert  z norm horiz  z norm vert\n",
       "0     1   304.577476  118360.062745  86987.168627      477702.0     473684.0\n",
       "1     0   753.352953  105687.725490  84427.600000      476186.0     471574.0\n",
       "2     1   489.253391   92432.955102  42385.126531      182314.0     183088.0\n",
       "3     0   573.236094   61295.166667  42040.642857      185036.0     185124.0\n",
       "4     0  1851.554587   64414.666667  47571.827451      165304.0     164746.0"
      ]
     },
     "execution_count": 9,
     "metadata": {},
     "output_type": "execute_result"
    }
   ],
   "source": [
    "image_df.head()"
   ]
  },
  {
   "cell_type": "code",
   "execution_count": 10,
   "metadata": {
    "collapsed": true
   },
   "outputs": [],
   "source": [
    "model_df2 = pd.concat([model_df, image_df], axis=1)"
   ]
  },
  {
   "cell_type": "code",
   "execution_count": 11,
   "metadata": {},
   "outputs": [
    {
     "name": "stdout",
     "output_type": "stream",
     "text": [
      "<class 'pandas.core.frame.DataFrame'>\n",
      "RangeIndex: 1681 entries, 0 to 1680\n",
      "Data columns (total 21 columns):\n",
      "category ID                  1681 non-null int64\n",
      "condition ID                 1681 non-null int64\n",
      "end price                    1681 non-null float64\n",
      "item ID                      1681 non-null int64\n",
      "number of payment methods    1681 non-null int64\n",
      "seller percent               1681 non-null float64\n",
      "seller score                 1681 non-null int64\n",
      "seller star                  1681 non-null int64\n",
      "top rated                    1681 non-null int64\n",
      "reserve                      1681 non-null int64\n",
      "start price                  1681 non-null float64\n",
      "photo number                 1681 non-null int64\n",
      "postal code                  1681 non-null int64\n",
      "year                         1681 non-null int64\n",
      "mileage                      1681 non-null int64\n",
      "blur                         1681 non-null int64\n",
      "fm                           1681 non-null float64\n",
      "m norm horiz                 1681 non-null float64\n",
      "m norm vert                  1681 non-null float64\n",
      "z norm horiz                 1681 non-null float64\n",
      "z norm vert                  1681 non-null float64\n",
      "dtypes: float64(8), int64(13)\n",
      "memory usage: 275.9 KB\n"
     ]
    }
   ],
   "source": [
    "model_df2.info()"
   ]
  },
  {
   "cell_type": "code",
   "execution_count": 12,
   "metadata": {},
   "outputs": [
    {
     "data": {
      "text/html": [
       "<div>\n",
       "<style>\n",
       "    .dataframe thead tr:only-child th {\n",
       "        text-align: right;\n",
       "    }\n",
       "\n",
       "    .dataframe thead th {\n",
       "        text-align: left;\n",
       "    }\n",
       "\n",
       "    .dataframe tbody tr th {\n",
       "        vertical-align: top;\n",
       "    }\n",
       "</style>\n",
       "<table border=\"1\" class=\"dataframe\">\n",
       "  <thead>\n",
       "    <tr style=\"text-align: right;\">\n",
       "      <th></th>\n",
       "      <th>category ID</th>\n",
       "      <th>condition ID</th>\n",
       "      <th>end price</th>\n",
       "      <th>item ID</th>\n",
       "      <th>number of payment methods</th>\n",
       "      <th>seller percent</th>\n",
       "      <th>seller score</th>\n",
       "      <th>seller star</th>\n",
       "      <th>top rated</th>\n",
       "      <th>reserve</th>\n",
       "      <th>...</th>\n",
       "      <th>photo number</th>\n",
       "      <th>postal code</th>\n",
       "      <th>year</th>\n",
       "      <th>mileage</th>\n",
       "      <th>blur</th>\n",
       "      <th>fm</th>\n",
       "      <th>m norm horiz</th>\n",
       "      <th>m norm vert</th>\n",
       "      <th>z norm horiz</th>\n",
       "      <th>z norm vert</th>\n",
       "    </tr>\n",
       "  </thead>\n",
       "  <tbody>\n",
       "    <tr>\n",
       "      <th>0</th>\n",
       "      <td>6055</td>\n",
       "      <td>3000</td>\n",
       "      <td>515.0</td>\n",
       "      <td>273032516199</td>\n",
       "      <td>3</td>\n",
       "      <td>100.0</td>\n",
       "      <td>343</td>\n",
       "      <td>3</td>\n",
       "      <td>1</td>\n",
       "      <td>1</td>\n",
       "      <td>...</td>\n",
       "      <td>13</td>\n",
       "      <td>91304</td>\n",
       "      <td>1985</td>\n",
       "      <td>180350</td>\n",
       "      <td>1</td>\n",
       "      <td>304.577476</td>\n",
       "      <td>118360.062745</td>\n",
       "      <td>86987.168627</td>\n",
       "      <td>477702.0</td>\n",
       "      <td>473684.0</td>\n",
       "    </tr>\n",
       "    <tr>\n",
       "      <th>1</th>\n",
       "      <td>16124</td>\n",
       "      <td>3000</td>\n",
       "      <td>1500.0</td>\n",
       "      <td>292412628334</td>\n",
       "      <td>21</td>\n",
       "      <td>100.0</td>\n",
       "      <td>19</td>\n",
       "      <td>1</td>\n",
       "      <td>1</td>\n",
       "      <td>1</td>\n",
       "      <td>...</td>\n",
       "      <td>13</td>\n",
       "      <td>49426</td>\n",
       "      <td>1993</td>\n",
       "      <td>74000</td>\n",
       "      <td>0</td>\n",
       "      <td>753.352953</td>\n",
       "      <td>105687.725490</td>\n",
       "      <td>84427.600000</td>\n",
       "      <td>476186.0</td>\n",
       "      <td>471574.0</td>\n",
       "    </tr>\n",
       "    <tr>\n",
       "      <th>2</th>\n",
       "      <td>6169</td>\n",
       "      <td>3000</td>\n",
       "      <td>3600.0</td>\n",
       "      <td>112765043707</td>\n",
       "      <td>2</td>\n",
       "      <td>99.6</td>\n",
       "      <td>3241</td>\n",
       "      <td>5</td>\n",
       "      <td>1</td>\n",
       "      <td>1</td>\n",
       "      <td>...</td>\n",
       "      <td>22</td>\n",
       "      <td>30043</td>\n",
       "      <td>2011</td>\n",
       "      <td>103085</td>\n",
       "      <td>1</td>\n",
       "      <td>489.253391</td>\n",
       "      <td>92432.955102</td>\n",
       "      <td>42385.126531</td>\n",
       "      <td>182314.0</td>\n",
       "      <td>183088.0</td>\n",
       "    </tr>\n",
       "    <tr>\n",
       "      <th>3</th>\n",
       "      <td>6169</td>\n",
       "      <td>3000</td>\n",
       "      <td>3355.0</td>\n",
       "      <td>122921504563</td>\n",
       "      <td>2</td>\n",
       "      <td>99.6</td>\n",
       "      <td>3240</td>\n",
       "      <td>5</td>\n",
       "      <td>1</td>\n",
       "      <td>1</td>\n",
       "      <td>...</td>\n",
       "      <td>24</td>\n",
       "      <td>30043</td>\n",
       "      <td>2009</td>\n",
       "      <td>115145</td>\n",
       "      <td>0</td>\n",
       "      <td>573.236094</td>\n",
       "      <td>61295.166667</td>\n",
       "      <td>42040.642857</td>\n",
       "      <td>185036.0</td>\n",
       "      <td>185124.0</td>\n",
       "    </tr>\n",
       "    <tr>\n",
       "      <th>4</th>\n",
       "      <td>171089</td>\n",
       "      <td>3000</td>\n",
       "      <td>6603.0</td>\n",
       "      <td>323014057149</td>\n",
       "      <td>21</td>\n",
       "      <td>100.0</td>\n",
       "      <td>263</td>\n",
       "      <td>3</td>\n",
       "      <td>1</td>\n",
       "      <td>1</td>\n",
       "      <td>...</td>\n",
       "      <td>24</td>\n",
       "      <td>20018</td>\n",
       "      <td>2007</td>\n",
       "      <td>128702</td>\n",
       "      <td>0</td>\n",
       "      <td>1851.554587</td>\n",
       "      <td>64414.666667</td>\n",
       "      <td>47571.827451</td>\n",
       "      <td>165304.0</td>\n",
       "      <td>164746.0</td>\n",
       "    </tr>\n",
       "  </tbody>\n",
       "</table>\n",
       "<p>5 rows × 21 columns</p>\n",
       "</div>"
      ],
      "text/plain": [
       "   category ID  condition ID  end price       item ID  \\\n",
       "0         6055          3000      515.0  273032516199   \n",
       "1        16124          3000     1500.0  292412628334   \n",
       "2         6169          3000     3600.0  112765043707   \n",
       "3         6169          3000     3355.0  122921504563   \n",
       "4       171089          3000     6603.0  323014057149   \n",
       "\n",
       "   number of payment methods  seller percent  seller score  seller star  \\\n",
       "0                          3           100.0           343            3   \n",
       "1                         21           100.0            19            1   \n",
       "2                          2            99.6          3241            5   \n",
       "3                          2            99.6          3240            5   \n",
       "4                         21           100.0           263            3   \n",
       "\n",
       "   top rated  reserve     ...       photo number  postal code  year  mileage  \\\n",
       "0          1        1     ...                 13        91304  1985   180350   \n",
       "1          1        1     ...                 13        49426  1993    74000   \n",
       "2          1        1     ...                 22        30043  2011   103085   \n",
       "3          1        1     ...                 24        30043  2009   115145   \n",
       "4          1        1     ...                 24        20018  2007   128702   \n",
       "\n",
       "   blur           fm   m norm horiz   m norm vert  z norm horiz  z norm vert  \n",
       "0     1   304.577476  118360.062745  86987.168627      477702.0     473684.0  \n",
       "1     0   753.352953  105687.725490  84427.600000      476186.0     471574.0  \n",
       "2     1   489.253391   92432.955102  42385.126531      182314.0     183088.0  \n",
       "3     0   573.236094   61295.166667  42040.642857      185036.0     185124.0  \n",
       "4     0  1851.554587   64414.666667  47571.827451      165304.0     164746.0  \n",
       "\n",
       "[5 rows x 21 columns]"
      ]
     },
     "execution_count": 12,
     "metadata": {},
     "output_type": "execute_result"
    }
   ],
   "source": [
    "model_df2.head()"
   ]
  },
  {
   "cell_type": "code",
   "execution_count": 13,
   "metadata": {
    "collapsed": true
   },
   "outputs": [],
   "source": [
    "train_df, test_df = train_test_split(model_df2, test_size=0.2)"
   ]
  },
  {
   "cell_type": "code",
   "execution_count": 14,
   "metadata": {
    "collapsed": true
   },
   "outputs": [],
   "source": [
    "X_train = train_df.drop(\"end price\", axis=1)\n",
    "Y_train = train_df[\"end price\"]\n",
    "X_test  = test_df.drop(\"end price\", axis=1)\n",
    "Y_test = test_df[\"end price\"]"
   ]
  },
  {
   "cell_type": "code",
   "execution_count": 15,
   "metadata": {},
   "outputs": [
    {
     "data": {
      "text/plain": [
       "((1344, 20), (1344,), (337, 20), (337,))"
      ]
     },
     "execution_count": 15,
     "metadata": {},
     "output_type": "execute_result"
    }
   ],
   "source": [
    "X_train.shape, Y_train.shape, X_test.shape, Y_test.shape"
   ]
  },
  {
   "cell_type": "code",
   "execution_count": 16,
   "metadata": {},
   "outputs": [
    {
     "data": {
      "text/plain": [
       "RandomForestRegressor(bootstrap=True, criterion='mse', max_depth=None,\n",
       "           max_features='auto', max_leaf_nodes=None,\n",
       "           min_impurity_decrease=0.0, min_impurity_split=None,\n",
       "           min_samples_leaf=1, min_samples_split=2,\n",
       "           min_weight_fraction_leaf=0.0, n_estimators=500, n_jobs=1,\n",
       "           oob_score=True, random_state=0, verbose=0, warm_start=False)"
      ]
     },
     "execution_count": 16,
     "metadata": {},
     "output_type": "execute_result"
    }
   ],
   "source": [
    "rf = RandomForestRegressor(n_estimators=500, oob_score=True, random_state=0)\n",
    "rf.fit(X_train, Y_train)"
   ]
  },
  {
   "cell_type": "code",
   "execution_count": 17,
   "metadata": {},
   "outputs": [
    {
     "name": "stdout",
     "output_type": "stream",
     "text": [
      "Out-of-bag R-2 score estimate: 0.689\n",
      "Test data R-2 score: 0.665\n",
      "Test data Spearman correlation: 0.857\n",
      "Test data Pearson correlation: 0.823\n",
      "Test data Mean Absolute Error: $2653.58070445\n"
     ]
    }
   ],
   "source": [
    "predicted_train = rf.predict(X_train)\n",
    "predicted_test = rf.predict(X_test)\n",
    "test_score = r2_score(Y_test, predicted_test)\n",
    "spearman = spearmanr(Y_test, predicted_test)\n",
    "pearson = pearsonr(Y_test, predicted_test)\n",
    "mae = mean_absolute_error(Y_test, predicted_test)\n",
    "print(f'Out-of-bag R-2 score estimate: {rf.oob_score_:>5.3}')\n",
    "print(f'Test data R-2 score: {test_score:>5.3}')\n",
    "print(f'Test data Spearman correlation: {spearman[0]:.3}')\n",
    "print(f'Test data Pearson correlation: {pearson[0]:.3}')\n",
    "print('Test data Mean Absolute Error: $' + str(mae))"
   ]
  },
  {
   "cell_type": "code",
   "execution_count": 18,
   "metadata": {},
   "outputs": [
    {
     "data": {
      "text/plain": [
       "7008.607537091989"
      ]
     },
     "execution_count": 18,
     "metadata": {},
     "output_type": "execute_result"
    }
   ],
   "source": [
    "np.mean(Y_test)"
   ]
  },
  {
   "cell_type": "code",
   "execution_count": 19,
   "metadata": {},
   "outputs": [
    {
     "data": {
      "text/plain": [
       "0.37861739160130831"
      ]
     },
     "execution_count": 19,
     "metadata": {},
     "output_type": "execute_result"
    }
   ],
   "source": [
    "mae/np.mean(Y_test)"
   ]
  },
  {
   "cell_type": "code",
   "execution_count": 20,
   "metadata": {
    "collapsed": true
   },
   "outputs": [],
   "source": [
    "def median_absolute_percentage_error(y_true, y_pred): \n",
    "    y_true, y_pred = np.array(y_true), np.array(y_pred)\n",
    "    return np.median(np.abs((y_true - y_pred) / y_true)) * 100"
   ]
  },
  {
   "cell_type": "code",
   "execution_count": 21,
   "metadata": {},
   "outputs": [
    {
     "data": {
      "text/plain": [
       "32.913825249999988"
      ]
     },
     "execution_count": 21,
     "metadata": {},
     "output_type": "execute_result"
    }
   ],
   "source": [
    "median_absolute_percentage_error(Y_test, predicted_test)"
   ]
  },
  {
   "cell_type": "code",
   "execution_count": 22,
   "metadata": {
    "collapsed": true
   },
   "outputs": [],
   "source": [
    "def percent_error(y_true, y_pred):\n",
    "    y_true, y_pred = np.array(y_true), np.array(y_pred)\n",
    "    return np.array(np.abs((y_true - y_pred) / y_true))"
   ]
  },
  {
   "cell_type": "code",
   "execution_count": 23,
   "metadata": {
    "collapsed": true
   },
   "outputs": [],
   "source": [
    "array_error = percent_error(Y_test, predicted_test)"
   ]
  },
  {
   "cell_type": "code",
   "execution_count": 24,
   "metadata": {},
   "outputs": [
    {
     "data": {
      "text/plain": [
       "337"
      ]
     },
     "execution_count": 24,
     "metadata": {},
     "output_type": "execute_result"
    }
   ],
   "source": [
    "len(array_error)"
   ]
  },
  {
   "cell_type": "code",
   "execution_count": 25,
   "metadata": {},
   "outputs": [
    {
     "data": {
      "text/plain": [
       "(array([ 58.,  35.,  46.,  18.,  18.,  14.,   8.,   7.,   4.]),\n",
       " array([ 0.1,  0.2,  0.3,  0.4,  0.5,  0.6,  0.7,  0.8,  0.9,  1. ]),\n",
       " <a list of 9 Patch objects>)"
      ]
     },
     "execution_count": 25,
     "metadata": {},
     "output_type": "execute_result"
    },
    {
     "data": {
      "image/png": "[encoded data removed]",
      "text/plain": [
       "<matplotlib.figure.Figure at 0x1a157a9208>"
      ]
     },
     "metadata": {},
     "output_type": "display_data"
    }
   ],
   "source": [
    "plt.hist(array_error, bins=[0.1,0.2,0.3,0.4,0.5,0.6,0.7,0.8,0.9,1])"
   ]
  },
  {
   "cell_type": "code",
   "execution_count": 26,
   "metadata": {
    "collapsed": true
   },
   "outputs": [],
   "source": [
    "array_error10 = array_error[(array_error <= 0.33)]"
   ]
  },
  {
   "cell_type": "code",
   "execution_count": 27,
   "metadata": {},
   "outputs": [
    {
     "data": {
      "text/plain": [
       "169"
      ]
     },
     "execution_count": 27,
     "metadata": {},
     "output_type": "execute_result"
    }
   ],
   "source": [
    "len(array_error10)"
   ]
  },
  {
   "cell_type": "code",
   "execution_count": 28,
   "metadata": {},
   "outputs": [
    {
     "data": {
      "text/plain": [
       "0.4896142433234421"
      ]
     },
     "execution_count": 28,
     "metadata": {},
     "output_type": "execute_result"
    }
   ],
   "source": [
    "165/337"
   ]
  },
  {
   "cell_type": "code",
   "execution_count": 29,
   "metadata": {},
   "outputs": [
    {
     "data": {
      "image/png": "[encoded data removed]",
      "text/plain": [
       "<matplotlib.figure.Figure at 0x1a1a7cbba8>"
      ]
     },
     "metadata": {},
     "output_type": "display_data"
    }
   ],
   "source": [
    "fig1 = sns.regplot(x=Y_test, y=predicted_test, fit_reg=False)\n",
    "fig1.set(xlabel='Observed end price ($)', ylabel='Predicted end price ($)')\n",
    "\n",
    "lims = [\n",
    "    np.min([fig1.get_xlim(), fig1.get_ylim()]),  # min of both axes\n",
    "    np.max([fig1.get_xlim(), fig1.get_ylim()]),  # max of both axes\n",
    "]\n",
    "\n",
    "# now plot both limits against eachother\n",
    "fig1.plot(lims, lims, 'k-', alpha=0.75, zorder=0)\n",
    "fig1.set_aspect('equal')\n",
    "fig1.set_xlim(lims)\n",
    "fig1.set_ylim(lims)\n",
    "plt.savefig('validation.pdf', bbox_inches='tight')\n",
    "plt.show()\n"
   ]
  },
  {
   "cell_type": "code",
   "execution_count": 30,
   "metadata": {},
   "outputs": [
    {
     "data": {
      "image/png": "[encoded data removed]",
      "text/plain": [
       "<matplotlib.figure.Figure at 0x1a157a9160>"
      ]
     },
     "metadata": {},
     "output_type": "display_data"
    }
   ],
   "source": [
    "fig2 = sns.regplot(x=X_test['photo number'], y=predicted_test, fit_reg=True)\n",
    "fig2.set(xlabel='Number of Photos', ylabel='Predicted sales price ($)')\n",
    "plt.ylim(0, 25000)\n",
    "plt.savefig('price_photo_cor.pdf', bbox_inches='tight')"
   ]
  },
  {
   "cell_type": "code",
   "execution_count": 32,
   "metadata": {},
   "outputs": [
    {
     "data": {
      "text/plain": [
       "[1,\n",
       " 22,\n",
       " 8,\n",
       " 24,\n",
       " 24,\n",
       " 12,\n",
       " 23,\n",
       " 1,\n",
       " 24,\n",
       " 24,\n",
       " 12,\n",
       " 7,\n",
       " 22,\n",
       " 1,\n",
       " 24,\n",
       " 7,\n",
       " 16,\n",
       " 15,\n",
       " 24,\n",
       " 23,\n",
       " 12,\n",
       " 10,\n",
       " 24,\n",
       " 23,\n",
       " 24,\n",
       " 10,\n",
       " 8,\n",
       " 8,\n",
       " 24,\n",
       " 21,\n",
       " 23,\n",
       " 12,\n",
       " 24,\n",
       " 8,\n",
       " 1,\n",
       " 23,\n",
       " 10,\n",
       " 7,\n",
       " 10,\n",
       " 22,\n",
       " 1,\n",
       " 1,\n",
       " 12,\n",
       " 22,\n",
       " 16,\n",
       " 12,\n",
       " 17,\n",
       " 24,\n",
       " 13,\n",
       " 23,\n",
       " 12,\n",
       " 5,\n",
       " 4,\n",
       " 12,\n",
       " 21,\n",
       " 12,\n",
       " 10,\n",
       " 13,\n",
       " 24,\n",
       " 24,\n",
       " 23,\n",
       " 14,\n",
       " 1,\n",
       " 23,\n",
       " 23,\n",
       " 24,\n",
       " 16,\n",
       " 14,\n",
       " 23,\n",
       " 18,\n",
       " 14,\n",
       " 15,\n",
       " 18,\n",
       " 12,\n",
       " 15,\n",
       " 24,\n",
       " 19,\n",
       " 24,\n",
       " 1,\n",
       " 18,\n",
       " 24,\n",
       " 3,\n",
       " 7,\n",
       " 12,\n",
       " 12,\n",
       " 8,\n",
       " 24,\n",
       " 8,\n",
       " 24,\n",
       " 24,\n",
       " 12,\n",
       " 20,\n",
       " 20,\n",
       " 12,\n",
       " 23,\n",
       " 10,\n",
       " 12,\n",
       " 12,\n",
       " 12,\n",
       " 5,\n",
       " 23,\n",
       " 13,\n",
       " 14,\n",
       " 22,\n",
       " 8,\n",
       " 12,\n",
       " 16,\n",
       " 22,\n",
       " 24,\n",
       " 22,\n",
       " 18,\n",
       " 12,\n",
       " 24,\n",
       " 24,\n",
       " 24,\n",
       " 12,\n",
       " 13,\n",
       " 24,\n",
       " 21,\n",
       " 24,\n",
       " 24,\n",
       " 9,\n",
       " 12,\n",
       " 24,\n",
       " 22,\n",
       " 1,\n",
       " 12,\n",
       " 24,\n",
       " 12,\n",
       " 6,\n",
       " 12,\n",
       " 3,\n",
       " 12,\n",
       " 24,\n",
       " 24,\n",
       " 3,\n",
       " 20,\n",
       " 24,\n",
       " 8,\n",
       " 7,\n",
       " 19,\n",
       " 12,\n",
       " 19,\n",
       " 22,\n",
       " 8,\n",
       " 24,\n",
       " 12,\n",
       " 24,\n",
       " 11,\n",
       " 24,\n",
       " 12,\n",
       " 24,\n",
       " 11,\n",
       " 24,\n",
       " 12,\n",
       " 24,\n",
       " 24,\n",
       " 12,\n",
       " 22,\n",
       " 9,\n",
       " 24,\n",
       " 12,\n",
       " 12,\n",
       " 1,\n",
       " 6,\n",
       " 4,\n",
       " 24,\n",
       " 23,\n",
       " 16,\n",
       " 11,\n",
       " 24,\n",
       " 4,\n",
       " 11,\n",
       " 14,\n",
       " 12,\n",
       " 24,\n",
       " 24,\n",
       " 16,\n",
       " 24,\n",
       " 24,\n",
       " 24,\n",
       " 21,\n",
       " 8,\n",
       " 12,\n",
       " 12,\n",
       " 12,\n",
       " 12,\n",
       " 12,\n",
       " 18,\n",
       " 16,\n",
       " 12,\n",
       " 4,\n",
       " 21,\n",
       " 16,\n",
       " 17,\n",
       " 23,\n",
       " 12,\n",
       " 8,\n",
       " 14,\n",
       " 9,\n",
       " 8,\n",
       " 24,\n",
       " 5,\n",
       " 7,\n",
       " 24,\n",
       " 24,\n",
       " 24,\n",
       " 14,\n",
       " 22,\n",
       " 12,\n",
       " 7,\n",
       " 1,\n",
       " 24,\n",
       " 22,\n",
       " 12,\n",
       " 22,\n",
       " 24,\n",
       " 7,\n",
       " 10,\n",
       " 22,\n",
       " 11,\n",
       " 12,\n",
       " 22,\n",
       " 12,\n",
       " 23,\n",
       " 12,\n",
       " 24,\n",
       " 18,\n",
       " 1,\n",
       " 19,\n",
       " 24,\n",
       " 12,\n",
       " 11,\n",
       " 24,\n",
       " 7,\n",
       " 24,\n",
       " 12,\n",
       " 16,\n",
       " 24,\n",
       " 19,\n",
       " 20,\n",
       " 12,\n",
       " 23,\n",
       " 3,\n",
       " 1,\n",
       " 12,\n",
       " 20,\n",
       " 24,\n",
       " 24,\n",
       " 19,\n",
       " 23,\n",
       " 4,\n",
       " 4,\n",
       " 18,\n",
       " 13,\n",
       " 13,\n",
       " 12,\n",
       " 12,\n",
       " 21,\n",
       " 4,\n",
       " 24,\n",
       " 8,\n",
       " 7,\n",
       " 24,\n",
       " 1,\n",
       " 4,\n",
       " 13,\n",
       " 24,\n",
       " 12,\n",
       " 9,\n",
       " 23,\n",
       " 12,\n",
       " 12,\n",
       " 24,\n",
       " 7,\n",
       " 6,\n",
       " 13,\n",
       " 4,\n",
       " 24,\n",
       " 24,\n",
       " 24,\n",
       " 23,\n",
       " 24,\n",
       " 12,\n",
       " 23,\n",
       " 23,\n",
       " 7,\n",
       " 11,\n",
       " 4,\n",
       " 12,\n",
       " 1,\n",
       " 24,\n",
       " 24,\n",
       " 11,\n",
       " 12,\n",
       " 22,\n",
       " 11,\n",
       " 20,\n",
       " 24,\n",
       " 24,\n",
       " 1,\n",
       " 6,\n",
       " 4,\n",
       " 9,\n",
       " 12,\n",
       " 22,\n",
       " 1,\n",
       " 10,\n",
       " 12,\n",
       " 24,\n",
       " 6,\n",
       " 12,\n",
       " 12,\n",
       " 1,\n",
       " 24,\n",
       " 8,\n",
       " 5,\n",
       " 24,\n",
       " 7,\n",
       " 24,\n",
       " 11,\n",
       " 24,\n",
       " 12,\n",
       " 15,\n",
       " 12,\n",
       " 12,\n",
       " 24,\n",
       " 12,\n",
       " 8,\n",
       " 3,\n",
       " 11,\n",
       " 24,\n",
       " 4,\n",
       " 12,\n",
       " 12,\n",
       " 18,\n",
       " 12]"
      ]
     },
     "execution_count": 32,
     "metadata": {},
     "output_type": "execute_result"
    }
   ],
   "source": [
    "photo_numbers = X_test['photo number'].tolist()\n",
    "photo_numbers"
   ]
  },
  {
   "cell_type": "code",
   "execution_count": 35,
   "metadata": {},
   "outputs": [],
   "source": [
    "predicted_prices = predicted_test.tolist()"
   ]
  },
  {
   "cell_type": "code",
   "execution_count": 36,
   "metadata": {
    "collapsed": true
   },
   "outputs": [],
   "source": [
    "mean_prices_df = pd.DataFrame({\n",
    "    'photo number': photo_numbers,\n",
    "     'predicted price': predicted_prices\n",
    "    })"
   ]
  },
  {
   "cell_type": "code",
   "execution_count": 51,
   "metadata": {},
   "outputs": [],
   "source": [
    "photos_nums2 = list(range(25))\n",
    "mean_prices = []\n",
    "\n",
    "for num in photos_nums2:\n",
    "    photo_df = mean_prices_df[mean_prices_df['photo number'] == num]\n",
    "    mean_prices.append(photo_df['predicted price'].mean())\n",
    "    \n",
    "# photo_df = mean_prices_df[mean_prices_df['photo number'] == 3]\n",
    "# photo_df['predicted price'].mean()"
   ]
  },
  {
   "cell_type": "code",
   "execution_count": 52,
   "metadata": {},
   "outputs": [],
   "source": [
    "mean_prices = pd.Series(mean_prices).fillna(0).tolist()"
   ]
  },
  {
   "cell_type": "code",
   "execution_count": 63,
   "metadata": {},
   "outputs": [],
   "source": [
    "mean_prices_se = pd.Series(mean_prices)\n",
    "photos_nums2_se = pd.Series(photos_nums2)"
   ]
  },
  {
   "cell_type": "code",
   "execution_count": 67,
   "metadata": {},
   "outputs": [
    {
     "data": {
      "image/png": "[encoded data removed]",
      "text/plain": [
       "<matplotlib.figure.Figure at 0x1a1f8e9f60>"
      ]
     },
     "metadata": {},
     "output_type": "display_data"
    }
   ],
   "source": [
    "fig2b = sns.regplot(x=photos_nums2_se, y=mean_prices_se, fit_reg=True)\n",
    "fig2b.set(xlabel='Number of Photos', ylabel='Mean predicted sales price ($)')\n",
    "plt.savefig('mean_price_photo_cor.pdf', bbox_inches='tight')"
   ]
  },
  {
   "cell_type": "code",
   "execution_count": 65,
   "metadata": {},
   "outputs": [
    {
     "data": {
      "text/plain": [
       "(293.8933811265569, 84.645549438627896, 0.58642162829639177)"
      ]
     },
     "execution_count": 65,
     "metadata": {},
     "output_type": "execute_result"
    }
   ],
   "source": [
    "slope_1, intercept_1, r_value_1, p_value_1, std_err_1 = stats.linregress(x=photos_nums2_se,y=mean_prices_se)\n",
    "\n",
    "(slope_1, std_err_1, r_value_1)"
   ]
  },
  {
   "cell_type": "code",
   "execution_count": 66,
   "metadata": {},
   "outputs": [
    {
     "data": {
      "text/plain": [
       "4.1933205643370792"
      ]
     },
     "execution_count": 66,
     "metadata": {},
     "output_type": "execute_result"
    }
   ],
   "source": [
    "(slope_1/np.mean(Y_test))*100"
   ]
  },
  {
   "cell_type": "code",
   "execution_count": 91,
   "metadata": {
    "collapsed": true
   },
   "outputs": [],
   "source": [
    "# model_gauss = lambda x, A, x0, sigma, offset:  offset+A*np.exp(-((x-x0)/sigma)**2)\n",
    "# popt, pcov = curve_fit(model_gauss, X_test['fm'].values, \n",
    "#                               predicted_test, p0=[10000,1000,2,100])"
   ]
  },
  {
   "cell_type": "code",
   "execution_count": 92,
   "metadata": {
    "collapsed": true
   },
   "outputs": [],
   "source": [
    "# x = np.linspace(X_test['fm'].values.min(),X_test['fm'].values.max(),250)\n",
    "# plt.plot(x,model_gauss(x,*popt), label=\"fit\")"
   ]
  },
  {
   "cell_type": "code",
   "execution_count": 114,
   "metadata": {},
   "outputs": [
    {
     "data": {
      "text/plain": [
       "(0, 3000)"
      ]
     },
     "execution_count": 114,
     "metadata": {},
     "output_type": "execute_result"
    },
    {
     "data": {
      "image/png": "[encoded data removed]",
      "text/plain": [
       "<matplotlib.figure.Figure at 0x1a1a012208>"
      ]
     },
     "metadata": {},
     "output_type": "display_data"
    }
   ],
   "source": [
    "fig3 = sns.regplot(x=X_test['fm'], y=predicted_test, fit_reg=True)\n",
    "fig3.set(xlabel='Sharpness', ylabel='Predicted sales price ($)')\n",
    "plt.axvline(x=500, color='r', linestyle='--')\n",
    "plt.ylim(0, 30000)\n",
    "plt.xlim(0, 3000)\n",
    "# fm = 500 is the 'blur' threshold"
   ]
  },
  {
   "cell_type": "code",
   "execution_count": 109,
   "metadata": {},
   "outputs": [
    {
     "data": {
      "text/plain": [
       "1043.329849225233"
      ]
     },
     "execution_count": 109,
     "metadata": {},
     "output_type": "execute_result"
    }
   ],
   "source": [
    "X_test['fm'].mean()"
   ]
  },
  {
   "cell_type": "code",
   "execution_count": 31,
   "metadata": {},
   "outputs": [
    {
     "data": {
      "text/plain": [
       "(1.1032530272756003, 0.49942744197545852, 0.11982295463888461)"
      ]
     },
     "execution_count": 31,
     "metadata": {},
     "output_type": "execute_result"
    }
   ],
   "source": [
    "slope_2, intercept_2, r_value_2, p_value_2, std_err_2 = stats.linregress(x=X_test['fm'],y=predicted_test)\n",
    "\n",
    "(slope_2, std_err_2, r_value_2)"
   ]
  },
  {
   "cell_type": "code",
   "execution_count": 116,
   "metadata": {},
   "outputs": [
    {
     "data": {
      "text/plain": [
       "(0, 50000)"
      ]
     },
     "execution_count": 116,
     "metadata": {},
     "output_type": "execute_result"
    },
    {
     "data": {
      "image/png": "[encoded data removed]",
      "text/plain": [
       "<matplotlib.figure.Figure at 0x1a1b049518>"
      ]
     },
     "metadata": {},
     "output_type": "display_data"
    }
   ],
   "source": [
    "fig3 = sns.regplot(x=X_test['m norm vert'], y=predicted_test, fit_reg=False)\n",
    "fig3.set(xlabel='Asymmetry', ylabel='Predicted sales price ($)')\n",
    "plt.axvline(x=X_test['m norm vert'].median(), color='r', linestyle='--')\n",
    "plt.ylim(0, 50000)\n",
    "# 30000 is the symmetry threshold"
   ]
  },
  {
   "cell_type": "code",
   "execution_count": 111,
   "metadata": {},
   "outputs": [
    {
     "data": {
      "text/plain": [
       "42816.68312757202"
      ]
     },
     "execution_count": 111,
     "metadata": {},
     "output_type": "execute_result"
    }
   ],
   "source": [
    "X_test['m norm vert'].median()"
   ]
  },
  {
   "cell_type": "code",
   "execution_count": 26,
   "metadata": {},
   "outputs": [
    {
     "data": {
      "text/plain": [
       "[Text(0,0.5,'Predicted sales price ($)'), Text(0.5,0,'blur')]"
      ]
     },
     "execution_count": 26,
     "metadata": {},
     "output_type": "execute_result"
    },
    {
     "data": {
      "image/png": "[encoded data removed]",
      "text/plain": [
       "<matplotlib.figure.Figure at 0x1175165f8>"
      ]
     },
     "metadata": {},
     "output_type": "display_data"
    }
   ],
   "source": [
    "fig4 = sns.regplot(x=X_test['blur'], y=predicted_test, fit_reg=True)\n",
    "fig4.set(xlabel='blur', ylabel='Predicted sales price ($)')\n",
    "# plt.ylim(0, 25000)"
   ]
  },
  {
   "cell_type": "code",
   "execution_count": 99,
   "metadata": {
    "collapsed": true
   },
   "outputs": [],
   "source": [
    "blur_test = X_test['blur'].tolist()"
   ]
  },
  {
   "cell_type": "code",
   "execution_count": 100,
   "metadata": {
    "collapsed": true
   },
   "outputs": [],
   "source": [
    "pred_price = predicted_test.tolist()"
   ]
  },
  {
   "cell_type": "code",
   "execution_count": 101,
   "metadata": {
    "collapsed": true
   },
   "outputs": [],
   "source": [
    "blur_df = pd.DataFrame(\n",
    "    {'blur': blur_test,\n",
    "     'predicted price': pred_price\n",
    "    })"
   ]
  },
  {
   "cell_type": "code",
   "execution_count": 102,
   "metadata": {
    "collapsed": true
   },
   "outputs": [],
   "source": [
    "blurry_df = blur_df[blur_df['blur'] > 0]"
   ]
  },
  {
   "cell_type": "code",
   "execution_count": 105,
   "metadata": {},
   "outputs": [
    {
     "data": {
      "text/plain": [
       "7322.660388474574"
      ]
     },
     "execution_count": 105,
     "metadata": {},
     "output_type": "execute_result"
    }
   ],
   "source": [
    "blurry_df['predicted price'].mean()"
   ]
  },
  {
   "cell_type": "code",
   "execution_count": 106,
   "metadata": {},
   "outputs": [
    {
     "data": {
      "text/plain": [
       "7365.992933812951"
      ]
     },
     "execution_count": 106,
     "metadata": {},
     "output_type": "execute_result"
    }
   ],
   "source": [
    "no_blurry_df = blur_df[blur_df['blur'] < 1]\n",
    "no_blurry_df['predicted price'].mean()"
   ]
  },
  {
   "cell_type": "code",
   "execution_count": 107,
   "metadata": {},
   "outputs": [
    {
     "data": {
      "text/plain": [
       "<matplotlib.axes._subplots.AxesSubplot at 0x1a1b0e5940>"
      ]
     },
     "execution_count": 107,
     "metadata": {},
     "output_type": "execute_result"
    },
    {
     "data": {
      "image/png": "[encoded data removed]",
      "text/plain": [
       "<matplotlib.figure.Figure at 0x1a1a277470>"
      ]
     },
     "metadata": {},
     "output_type": "display_data"
    }
   ],
   "source": [
    "sns.distplot(blurry_df['predicted price'], kde=False)"
   ]
  },
  {
   "cell_type": "code",
   "execution_count": 108,
   "metadata": {},
   "outputs": [
    {
     "data": {
      "text/plain": [
       "<matplotlib.axes._subplots.AxesSubplot at 0x1a1b1942b0>"
      ]
     },
     "execution_count": 108,
     "metadata": {},
     "output_type": "execute_result"
    },
    {
     "data": {
      "image/png": "[encoded data removed]",
      "text/plain": [
       "<matplotlib.figure.Figure at 0x1a19f37400>"
      ]
     },
     "metadata": {},
     "output_type": "display_data"
    }
   ],
   "source": [
    "sns.distplot(no_blurry_df['predicted price'], kde=False)"
   ]
  },
  {
   "cell_type": "code",
   "execution_count": 35,
   "metadata": {
    "collapsed": true
   },
   "outputs": [],
   "source": [
    "# filename = '/Users/donalddressen/Documents/insight_project/lca/finalized_model_3.sav'\n",
    "# pickle.dump(rf, open(filename, 'wb'))"
   ]
  },
  {
   "cell_type": "code",
   "execution_count": 71,
   "metadata": {},
   "outputs": [
    {
     "data": {
      "text/plain": [
       "[1]"
      ]
     },
     "execution_count": 71,
     "metadata": {},
     "output_type": "execute_result"
    }
   ],
   "source": [
    "list(range(1,2))"
   ]
  },
  {
   "cell_type": "code",
   "execution_count": null,
   "metadata": {
    "collapsed": true
   },
   "outputs": [],
   "source": []
  }
 ],
 "metadata": {
  "kernelspec": {
   "display_name": "Python 3",
   "language": "python",
   "name": "python3"
  },
  "language_info": {
   "codemirror_mode": {
    "name": "ipython",
    "version": 3
   },
   "file_extension": ".py",
   "mimetype": "text/x-python",
   "name": "python",
   "nbconvert_exporter": "python",
   "pygments_lexer": "ipython3",
   "version": "3.6.3"
  }
 },
 "nbformat": 4,
 "nbformat_minor": 2
}
