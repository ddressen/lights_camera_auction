{
 "cells": [
  {
   "cell_type": "code",
   "execution_count": 1,
   "metadata": {
    "collapsed": true
   },
   "outputs": [],
   "source": [
    "%matplotlib inline\n",
    "\n",
    "import h2o\n",
    "import os\n",
    "\n",
    "import numpy as np\n",
    "from numpy import array\n",
    "from numpy import argmax\n",
    "from sklearn.preprocessing import LabelEncoder\n",
    "from sklearn.preprocessing import OneHotEncoder\n",
    "\n",
    "import pandas as pd\n",
    "from scipy import stats, integrate\n",
    "import matplotlib.pyplot as plt\n",
    "\n",
    "import seaborn as sns\n",
    "sns.set(color_codes=True)\n",
    "\n",
    "import ebaysdk\n",
    "from ebaysdk.finding import Connection as Finding\n",
    "from ebaysdk.trading import Connection as Trading\n",
    "from ebaysdk.exception import ConnectionError\n",
    "\n",
    "import pickle\n",
    "from collections import Counter"
   ]
  },
  {
   "cell_type": "code",
   "execution_count": 2,
   "metadata": {},
   "outputs": [
    {
     "name": "stdout",
     "output_type": "stream",
     "text": [
      "Checking whether there is an H2O instance running at http://localhost:54321..... not found.\n",
      "Attempting to start a local H2O server...\n",
      "  Java Version: java version \"1.8.0_161\"; Java(TM) SE Runtime Environment (build 1.8.0_161-b12); Java HotSpot(TM) 64-Bit Server VM (build 25.161-b12, mixed mode)\n",
      "  Starting server from /Users/donalddressen/anaconda3/lib/python3.6/site-packages/h2o/backend/bin/h2o.jar\n",
      "  Ice root: /var/folders/_2/g4zkl52x7jj31f12j9db9sb00000gn/T/tmp207q7kcu\n",
      "  JVM stdout: /var/folders/_2/g4zkl52x7jj31f12j9db9sb00000gn/T/tmp207q7kcu/h2o_donalddressen_started_from_python.out\n",
      "  JVM stderr: /var/folders/_2/g4zkl52x7jj31f12j9db9sb00000gn/T/tmp207q7kcu/h2o_donalddressen_started_from_python.err\n",
      "  Server is running at http://127.0.0.1:54321\n",
      "Connecting to H2O server at http://127.0.0.1:54321... successful.\n"
     ]
    },
    {
     "data": {
      "text/html": [
       "<div style=\"overflow:auto\"><table style=\"width:50%\"><tr><td>H2O cluster uptime:</td>\n",
       "<td>02 secs</td></tr>\n",
       "<tr><td>H2O cluster version:</td>\n",
       "<td>3.16.0.4</td></tr>\n",
       "<tr><td>H2O cluster version age:</td>\n",
       "<td>18 days </td></tr>\n",
       "<tr><td>H2O cluster name:</td>\n",
       "<td>H2O_from_python_donalddressen_lbd828</td></tr>\n",
       "<tr><td>H2O cluster total nodes:</td>\n",
       "<td>1</td></tr>\n",
       "<tr><td>H2O cluster free memory:</td>\n",
       "<td>1.778 Gb</td></tr>\n",
       "<tr><td>H2O cluster total cores:</td>\n",
       "<td>8</td></tr>\n",
       "<tr><td>H2O cluster allowed cores:</td>\n",
       "<td>8</td></tr>\n",
       "<tr><td>H2O cluster status:</td>\n",
       "<td>accepting new members, healthy</td></tr>\n",
       "<tr><td>H2O connection url:</td>\n",
       "<td>http://127.0.0.1:54321</td></tr>\n",
       "<tr><td>H2O connection proxy:</td>\n",
       "<td>None</td></tr>\n",
       "<tr><td>H2O internal security:</td>\n",
       "<td>False</td></tr>\n",
       "<tr><td>H2O API Extensions:</td>\n",
       "<td>XGBoost, Algos, AutoML, Core V3, Core V4</td></tr>\n",
       "<tr><td>Python version:</td>\n",
       "<td>3.6.3 final</td></tr></table></div>"
      ],
      "text/plain": [
       "--------------------------  ----------------------------------------\n",
       "H2O cluster uptime:         02 secs\n",
       "H2O cluster version:        3.16.0.4\n",
       "H2O cluster version age:    18 days\n",
       "H2O cluster name:           H2O_from_python_donalddressen_lbd828\n",
       "H2O cluster total nodes:    1\n",
       "H2O cluster free memory:    1.778 Gb\n",
       "H2O cluster total cores:    8\n",
       "H2O cluster allowed cores:  8\n",
       "H2O cluster status:         accepting new members, healthy\n",
       "H2O connection url:         http://127.0.0.1:54321\n",
       "H2O connection proxy:\n",
       "H2O internal security:      False\n",
       "H2O API Extensions:         XGBoost, Algos, AutoML, Core V3, Core V4\n",
       "Python version:             3.6.3 final\n",
       "--------------------------  ----------------------------------------"
      ]
     },
     "metadata": {},
     "output_type": "display_data"
    }
   ],
   "source": [
    "h2o.init(max_mem_size = \"2G\")\n",
    "h2o.remove_all()"
   ]
  },
  {
   "cell_type": "code",
   "execution_count": 3,
   "metadata": {
    "collapsed": true
   },
   "outputs": [],
   "source": [
    "with open('/Users/donalddressen/Desktop/auction_data/auctions_df_final.pkl', 'rb') as f:\n",
    "    auc_df_final = pickle.load(f)"
   ]
  },
  {
   "cell_type": "code",
   "execution_count": 4,
   "metadata": {},
   "outputs": [
    {
     "name": "stdout",
     "output_type": "stream",
     "text": [
      "<class 'pandas.core.frame.DataFrame'>\n",
      "RangeIndex: 4000 entries, 0 to 3999\n",
      "Data columns (total 34 columns):\n",
      "auction start time           4000 non-null object\n",
      "autopays                     4000 non-null object\n",
      "best offer                   4000 non-null object\n",
      "bid count                    4000 non-null int64\n",
      "category ID                  4000 non-null object\n",
      "category name                4000 non-null object\n",
      "condition ID                 4000 non-null object\n",
      "end price                    4000 non-null float64\n",
      "item ID                      4000 non-null object\n",
      "item url                     4000 non-null object\n",
      "missing pic                  4000 non-null int64\n",
      "number of payment methods    4000 non-null int64\n",
      "pic url                      4000 non-null object\n",
      "postal code                  4000 non-null int64\n",
      "seller percent               4000 non-null float64\n",
      "seller score                 4000 non-null int64\n",
      "seller star                  4000 non-null object\n",
      "selling state                4000 non-null object\n",
      "shipping type                4000 non-null object\n",
      "title                        4000 non-null object\n",
      "top rated                    4000 non-null object\n",
      "car model                    4000 non-null object\n",
      "description                  3997 non-null object\n",
      "fuel                         4000 non-null object\n",
      "make                         4000 non-null object\n",
      "mileage                      4000 non-null int64\n",
      "photo number                 4000 non-null int64\n",
      "reserve                      4000 non-null object\n",
      "reserve met                  4000 non-null object\n",
      "seller type                  4000 non-null object\n",
      "start price                  4000 non-null float64\n",
      "transmission                 4000 non-null object\n",
      "vehicle title                4000 non-null object\n",
      "year                         4000 non-null int64\n",
      "dtypes: float64(3), int64(8), object(23)\n",
      "memory usage: 1.0+ MB\n"
     ]
    }
   ],
   "source": [
    "auc_df_final.info()"
   ]
  },
  {
   "cell_type": "code",
   "execution_count": 5,
   "metadata": {
    "collapsed": true
   },
   "outputs": [],
   "source": [
    "reduce_df = auc_df_final[auc_df_final['bid count'] > 0]"
   ]
  },
  {
   "cell_type": "code",
   "execution_count": 6,
   "metadata": {},
   "outputs": [
    {
     "name": "stdout",
     "output_type": "stream",
     "text": [
      "<class 'pandas.core.frame.DataFrame'>\n",
      "Int64Index: 2999 entries, 1 to 3999\n",
      "Data columns (total 34 columns):\n",
      "auction start time           2999 non-null object\n",
      "autopays                     2999 non-null object\n",
      "best offer                   2999 non-null object\n",
      "bid count                    2999 non-null int64\n",
      "category ID                  2999 non-null object\n",
      "category name                2999 non-null object\n",
      "condition ID                 2999 non-null object\n",
      "end price                    2999 non-null float64\n",
      "item ID                      2999 non-null object\n",
      "item url                     2999 non-null object\n",
      "missing pic                  2999 non-null int64\n",
      "number of payment methods    2999 non-null int64\n",
      "pic url                      2999 non-null object\n",
      "postal code                  2999 non-null int64\n",
      "seller percent               2999 non-null float64\n",
      "seller score                 2999 non-null int64\n",
      "seller star                  2999 non-null object\n",
      "selling state                2999 non-null object\n",
      "shipping type                2999 non-null object\n",
      "title                        2999 non-null object\n",
      "top rated                    2999 non-null object\n",
      "car model                    2999 non-null object\n",
      "description                  2998 non-null object\n",
      "fuel                         2999 non-null object\n",
      "make                         2999 non-null object\n",
      "mileage                      2999 non-null int64\n",
      "photo number                 2999 non-null int64\n",
      "reserve                      2999 non-null object\n",
      "reserve met                  2999 non-null object\n",
      "seller type                  2999 non-null object\n",
      "start price                  2999 non-null float64\n",
      "transmission                 2999 non-null object\n",
      "vehicle title                2999 non-null object\n",
      "year                         2999 non-null int64\n",
      "dtypes: float64(3), int64(8), object(23)\n",
      "memory usage: 820.0+ KB\n"
     ]
    }
   ],
   "source": [
    "reduce_df.info()"
   ]
  },
  {
   "cell_type": "code",
   "execution_count": 7,
   "metadata": {},
   "outputs": [
    {
     "data": {
      "text/plain": [
       "<matplotlib.axes._subplots.AxesSubplot at 0x1a21a2f470>"
      ]
     },
     "execution_count": 7,
     "metadata": {},
     "output_type": "execute_result"
    },
    {
     "data": {
      "image/png": "[encoded data removed]",
      "text/plain": [
       "<matplotlib.figure.Figure at 0x1a21a2f048>"
      ]
     },
     "metadata": {},
     "output_type": "display_data"
    }
   ],
   "source": [
    "sns.distplot(reduce_df['end price'], kde=False)"
   ]
  },
  {
   "cell_type": "code",
   "execution_count": 8,
   "metadata": {
    "collapsed": true
   },
   "outputs": [],
   "source": [
    "reduce_df = reduce_df[reduce_df['missing pic'] < 1]"
   ]
  },
  {
   "cell_type": "code",
   "execution_count": 9,
   "metadata": {},
   "outputs": [
    {
     "name": "stdout",
     "output_type": "stream",
     "text": [
      "<class 'pandas.core.frame.DataFrame'>\n",
      "Int64Index: 2974 entries, 1 to 3999\n",
      "Data columns (total 34 columns):\n",
      "auction start time           2974 non-null object\n",
      "autopays                     2974 non-null object\n",
      "best offer                   2974 non-null object\n",
      "bid count                    2974 non-null int64\n",
      "category ID                  2974 non-null object\n",
      "category name                2974 non-null object\n",
      "condition ID                 2974 non-null object\n",
      "end price                    2974 non-null float64\n",
      "item ID                      2974 non-null object\n",
      "item url                     2974 non-null object\n",
      "missing pic                  2974 non-null int64\n",
      "number of payment methods    2974 non-null int64\n",
      "pic url                      2974 non-null object\n",
      "postal code                  2974 non-null int64\n",
      "seller percent               2974 non-null float64\n",
      "seller score                 2974 non-null int64\n",
      "seller star                  2974 non-null object\n",
      "selling state                2974 non-null object\n",
      "shipping type                2974 non-null object\n",
      "title                        2974 non-null object\n",
      "top rated                    2974 non-null object\n",
      "car model                    2974 non-null object\n",
      "description                  2973 non-null object\n",
      "fuel                         2974 non-null object\n",
      "make                         2974 non-null object\n",
      "mileage                      2974 non-null int64\n",
      "photo number                 2974 non-null int64\n",
      "reserve                      2974 non-null object\n",
      "reserve met                  2974 non-null object\n",
      "seller type                  2974 non-null object\n",
      "start price                  2974 non-null float64\n",
      "transmission                 2974 non-null object\n",
      "vehicle title                2974 non-null object\n",
      "year                         2974 non-null int64\n",
      "dtypes: float64(3), int64(8), object(23)\n",
      "memory usage: 813.2+ KB\n"
     ]
    }
   ],
   "source": [
    "reduce_df.info()"
   ]
  },
  {
   "cell_type": "code",
   "execution_count": 10,
   "metadata": {
    "collapsed": true
   },
   "outputs": [],
   "source": [
    "reduce_df = reduce_df[reduce_df['reserve met'] == 'true']"
   ]
  },
  {
   "cell_type": "code",
   "execution_count": 11,
   "metadata": {},
   "outputs": [
    {
     "name": "stdout",
     "output_type": "stream",
     "text": [
      "<class 'pandas.core.frame.DataFrame'>\n",
      "Int64Index: 1681 entries, 4 to 3994\n",
      "Data columns (total 34 columns):\n",
      "auction start time           1681 non-null object\n",
      "autopays                     1681 non-null object\n",
      "best offer                   1681 non-null object\n",
      "bid count                    1681 non-null int64\n",
      "category ID                  1681 non-null object\n",
      "category name                1681 non-null object\n",
      "condition ID                 1681 non-null object\n",
      "end price                    1681 non-null float64\n",
      "item ID                      1681 non-null object\n",
      "item url                     1681 non-null object\n",
      "missing pic                  1681 non-null int64\n",
      "number of payment methods    1681 non-null int64\n",
      "pic url                      1681 non-null object\n",
      "postal code                  1681 non-null int64\n",
      "seller percent               1681 non-null float64\n",
      "seller score                 1681 non-null int64\n",
      "seller star                  1681 non-null object\n",
      "selling state                1681 non-null object\n",
      "shipping type                1681 non-null object\n",
      "title                        1681 non-null object\n",
      "top rated                    1681 non-null object\n",
      "car model                    1681 non-null object\n",
      "description                  1680 non-null object\n",
      "fuel                         1681 non-null object\n",
      "make                         1681 non-null object\n",
      "mileage                      1681 non-null int64\n",
      "photo number                 1681 non-null int64\n",
      "reserve                      1681 non-null object\n",
      "reserve met                  1681 non-null object\n",
      "seller type                  1681 non-null object\n",
      "start price                  1681 non-null float64\n",
      "transmission                 1681 non-null object\n",
      "vehicle title                1681 non-null object\n",
      "year                         1681 non-null int64\n",
      "dtypes: float64(3), int64(8), object(23)\n",
      "memory usage: 459.6+ KB\n"
     ]
    }
   ],
   "source": [
    "reduce_df.info()"
   ]
  },
  {
   "cell_type": "code",
   "execution_count": 137,
   "metadata": {
    "collapsed": true
   },
   "outputs": [],
   "source": [
    "model_df = pd.concat([ \n",
    "    reduce_df['autopays'],\n",
    "    reduce_df['category ID'],\n",
    "    reduce_df['condition ID'], \n",
    "    reduce_df['end price'], \n",
    "    reduce_df['item ID'], \n",
    "    reduce_df['number of payment methods'],\n",
    "    reduce_df['postal code'],\n",
    "    reduce_df['seller percent'],\n",
    "    reduce_df['seller score'],\n",
    "    reduce_df['seller star'],\n",
    "    reduce_df['title'],\n",
    "    reduce_df['top rated'],\n",
    "    reduce_df['description'],\n",
    "    reduce_df['fuel'],\n",
    "    reduce_df['make'],\n",
    "    reduce_df['mileage'],\n",
    "    reduce_df['photo number'],\n",
    "    reduce_df['reserve'],\n",
    "    reduce_df['seller type'],\n",
    "    reduce_df['start price'],\n",
    "    reduce_df['vehicle title'],\n",
    "    reduce_df['year']\n",
    "], axis=1)"
   ]
  },
  {
   "cell_type": "code",
   "execution_count": 138,
   "metadata": {},
   "outputs": [],
   "source": [
    "model_df['description'] = model_df['description'].str.len()"
   ]
  },
  {
   "cell_type": "code",
   "execution_count": 139,
   "metadata": {
    "collapsed": true
   },
   "outputs": [],
   "source": [
    "model_df['description'] = model_df['description'].fillna(0)"
   ]
  },
  {
   "cell_type": "code",
   "execution_count": 140,
   "metadata": {
    "collapsed": true
   },
   "outputs": [],
   "source": [
    "model_df['title'] = model_df['title'].str.len()\n",
    "model_df['title'] = model_df['title'].fillna(0)"
   ]
  },
  {
   "cell_type": "code",
   "execution_count": 141,
   "metadata": {},
   "outputs": [
    {
     "name": "stdout",
     "output_type": "stream",
     "text": [
      "<class 'pandas.core.frame.DataFrame'>\n",
      "Int64Index: 1681 entries, 4 to 3994\n",
      "Data columns (total 22 columns):\n",
      "autopays                     1681 non-null object\n",
      "category ID                  1681 non-null object\n",
      "condition ID                 1681 non-null object\n",
      "end price                    1681 non-null float64\n",
      "item ID                      1681 non-null object\n",
      "number of payment methods    1681 non-null int64\n",
      "postal code                  1681 non-null int64\n",
      "seller percent               1681 non-null float64\n",
      "seller score                 1681 non-null int64\n",
      "seller star                  1681 non-null object\n",
      "title                        1681 non-null int64\n",
      "top rated                    1681 non-null object\n",
      "description                  1681 non-null float64\n",
      "fuel                         1681 non-null object\n",
      "make                         1681 non-null object\n",
      "mileage                      1681 non-null int64\n",
      "photo number                 1681 non-null int64\n",
      "reserve                      1681 non-null object\n",
      "seller type                  1681 non-null object\n",
      "start price                  1681 non-null float64\n",
      "vehicle title                1681 non-null object\n",
      "year                         1681 non-null int64\n",
      "dtypes: float64(4), int64(7), object(11)\n",
      "memory usage: 382.1+ KB\n"
     ]
    }
   ],
   "source": [
    "model_df.info()"
   ]
  },
  {
   "cell_type": "code",
   "execution_count": 142,
   "metadata": {},
   "outputs": [
    {
     "data": {
      "text/plain": [
       "Counter({'false': 1576, 'true': 105})"
      ]
     },
     "execution_count": 142,
     "metadata": {},
     "output_type": "execute_result"
    }
   ],
   "source": [
    "Counter(model_df['autopays'])"
   ]
  },
  {
   "cell_type": "code",
   "execution_count": 143,
   "metadata": {},
   "outputs": [
    {
     "data": {
      "text/plain": [
       "Counter({'107003': 1,\n",
       "         '107007': 3,\n",
       "         '116476': 3,\n",
       "         '119379': 4,\n",
       "         '124117': 2,\n",
       "         '124118': 3,\n",
       "         '124125': 10,\n",
       "         '124127': 6,\n",
       "         '12476': 1,\n",
       "         '133182': 8,\n",
       "         '133185': 12,\n",
       "         '133211': 2,\n",
       "         '133212': 15,\n",
       "         '13484': 1,\n",
       "         '140212': 3,\n",
       "         '14240': 14,\n",
       "         '147117': 1,\n",
       "         '149420': 2,\n",
       "         '149424': 1,\n",
       "         '150108': 1,\n",
       "         '150113': 17,\n",
       "         '150115': 4,\n",
       "         '150116': 3,\n",
       "         '15282': 1,\n",
       "         '15288': 1,\n",
       "         '157039': 1,\n",
       "         '157061': 2,\n",
       "         '157062': 2,\n",
       "         '157073': 5,\n",
       "         '157076': 6,\n",
       "         '158473': 1,\n",
       "         '158476': 4,\n",
       "         '158479': 9,\n",
       "         '159600': 2,\n",
       "         '16124': 2,\n",
       "         '162299': 3,\n",
       "         '162300': 6,\n",
       "         '162301': 3,\n",
       "         '162315': 10,\n",
       "         '166653': 5,\n",
       "         '168652': 10,\n",
       "         '169319': 13,\n",
       "         '170138': 1,\n",
       "         '170148': 2,\n",
       "         '170152': 1,\n",
       "         '171089': 3,\n",
       "         '171093': 1,\n",
       "         '172519': 8,\n",
       "         '172520': 4,\n",
       "         '173649': 6,\n",
       "         '175851': 2,\n",
       "         '175855': 1,\n",
       "         '175876': 3,\n",
       "         '177695': 2,\n",
       "         '178952': 1,\n",
       "         '179658': 8,\n",
       "         '179660': 9,\n",
       "         '179855': 1,\n",
       "         '179859': 3,\n",
       "         '179870': 1,\n",
       "         '179882': 3,\n",
       "         '179883': 1,\n",
       "         '179884': 1,\n",
       "         '179886': 4,\n",
       "         '179887': 1,\n",
       "         '179892': 2,\n",
       "         '179894': 4,\n",
       "         '179898': 4,\n",
       "         '179899': 3,\n",
       "         '179915': 1,\n",
       "         '179925': 1,\n",
       "         '179927': 2,\n",
       "         '179933': 1,\n",
       "         '180042': 7,\n",
       "         '180045': 5,\n",
       "         '180051': 1,\n",
       "         '180241': 3,\n",
       "         '180522': 1,\n",
       "         '181459': 1,\n",
       "         '181460': 1,\n",
       "         '182372': 1,\n",
       "         '183573': 1,\n",
       "         '184390': 1,\n",
       "         '31832': 1,\n",
       "         '31835': 17,\n",
       "         '31842': 1,\n",
       "         '31843': 1,\n",
       "         '31847': 7,\n",
       "         '31848': 2,\n",
       "         '31850': 1,\n",
       "         '31851': 27,\n",
       "         '31856': 2,\n",
       "         '31866': 12,\n",
       "         '31867': 1,\n",
       "         '31868': 7,\n",
       "         '31869': 6,\n",
       "         '31870': 3,\n",
       "         '31877': 1,\n",
       "         '31878': 1,\n",
       "         '43902': 4,\n",
       "         '43903': 40,\n",
       "         '43905': 2,\n",
       "         '43906': 3,\n",
       "         '43915': 8,\n",
       "         '43918': 5,\n",
       "         '43919': 3,\n",
       "         '43921': 1,\n",
       "         '43925': 12,\n",
       "         '47588': 7,\n",
       "         '5333': 21,\n",
       "         '5334': 4,\n",
       "         '5336': 2,\n",
       "         '5367': 2,\n",
       "         '6003': 26,\n",
       "         '6004': 22,\n",
       "         '6005': 2,\n",
       "         '6007': 39,\n",
       "         '6008': 41,\n",
       "         '6009': 31,\n",
       "         '6011': 1,\n",
       "         '6017': 62,\n",
       "         '6019': 7,\n",
       "         '6021': 38,\n",
       "         '6055': 5,\n",
       "         '6056': 1,\n",
       "         '6057': 10,\n",
       "         '6059': 5,\n",
       "         '6129': 1,\n",
       "         '6131': 3,\n",
       "         '6136': 4,\n",
       "         '6138': 7,\n",
       "         '6139': 1,\n",
       "         '6141': 5,\n",
       "         '6144': 1,\n",
       "         '6145': 1,\n",
       "         '6146': 33,\n",
       "         '6148': 1,\n",
       "         '6149': 7,\n",
       "         '6151': 3,\n",
       "         '6152': 16,\n",
       "         '6160': 16,\n",
       "         '6161': 1,\n",
       "         '6162': 5,\n",
       "         '6169': 49,\n",
       "         '6170': 19,\n",
       "         '6171': 2,\n",
       "         '6172': 1,\n",
       "         '6173': 11,\n",
       "         '6175': 21,\n",
       "         '6176': 1,\n",
       "         '6180': 1,\n",
       "         '6181': 6,\n",
       "         '6188': 1,\n",
       "         '6190': 2,\n",
       "         '6192': 1,\n",
       "         '6199': 21,\n",
       "         '6200': 1,\n",
       "         '6201': 3,\n",
       "         '6202': 1,\n",
       "         '6204': 2,\n",
       "         '6207': 5,\n",
       "         '6216': 1,\n",
       "         '6219': 1,\n",
       "         '6227': 38,\n",
       "         '6229': 1,\n",
       "         '6230': 4,\n",
       "         '6232': 1,\n",
       "         '6233': 4,\n",
       "         '6234': 4,\n",
       "         '6235': 1,\n",
       "         '6236': 1,\n",
       "         '6238': 26,\n",
       "         '6240': 3,\n",
       "         '6254': 67,\n",
       "         '6256': 54,\n",
       "         '6264': 2,\n",
       "         '6265': 1,\n",
       "         '6273': 9,\n",
       "         '6274': 5,\n",
       "         '6278': 4,\n",
       "         '6289': 1,\n",
       "         '6298': 6,\n",
       "         '6299': 9,\n",
       "         '6304': 10,\n",
       "         '6306': 1,\n",
       "         '6315': 3,\n",
       "         '6319': 1,\n",
       "         '6320': 2,\n",
       "         '6325': 1,\n",
       "         '6328': 6,\n",
       "         '6329': 14,\n",
       "         '6330': 31,\n",
       "         '6331': 5,\n",
       "         '6332': 6,\n",
       "         '6333': 1,\n",
       "         '6334': 27,\n",
       "         '6335': 30,\n",
       "         '6336': 30,\n",
       "         '6339': 1,\n",
       "         '6340': 7,\n",
       "         '6341': 2,\n",
       "         '6342': 2,\n",
       "         '6343': 1,\n",
       "         '6354': 1,\n",
       "         '6386': 1,\n",
       "         '6387': 3,\n",
       "         '6391': 2,\n",
       "         '6399': 23,\n",
       "         '6400': 21,\n",
       "         '6401': 11,\n",
       "         '6404': 1,\n",
       "         '6406': 6,\n",
       "         '6407': 2,\n",
       "         '6421': 2,\n",
       "         '6422': 9,\n",
       "         '6425': 1,\n",
       "         '6444': 10,\n",
       "         '6445': 37,\n",
       "         '6448': 1,\n",
       "         '6458': 1,\n",
       "         '6459': 2,\n",
       "         '6461': 7,\n",
       "         '6463': 9,\n",
       "         '6466': 2,\n",
       "         '6469': 1,\n",
       "         '6472': 10,\n",
       "         '6882': 3,\n",
       "         '80731': 2,\n",
       "         '80744': 2,\n",
       "         '80745': 10,\n",
       "         '80747': 5,\n",
       "         '80751': 2,\n",
       "         '80752': 1,\n",
       "         '84153': 2,\n",
       "         '84155': 1,\n",
       "         '84158': 3,\n",
       "         '84159': 6})"
      ]
     },
     "execution_count": 143,
     "metadata": {},
     "output_type": "execute_result"
    }
   ],
   "source": [
    "Counter(model_df['category ID'])"
   ]
  },
  {
   "cell_type": "code",
   "execution_count": 144,
   "metadata": {},
   "outputs": [
    {
     "data": {
      "text/plain": [
       "Counter({'1000': 6, '2500': 25, '3000': 1650})"
      ]
     },
     "execution_count": 144,
     "metadata": {},
     "output_type": "execute_result"
    }
   ],
   "source": [
    "Counter(model_df['condition ID'])"
   ]
  },
  {
   "cell_type": "code",
   "execution_count": 145,
   "metadata": {
    "collapsed": true
   },
   "outputs": [],
   "source": [
    "model_df['item ID'] = model_df['item ID'].astype(int)"
   ]
  },
  {
   "cell_type": "code",
   "execution_count": 146,
   "metadata": {},
   "outputs": [
    {
     "data": {
      "text/plain": [
       "Counter({'Blue': 162,\n",
       "         'None': 136,\n",
       "         'Purple': 230,\n",
       "         'Red': 286,\n",
       "         'RedShooting': 1,\n",
       "         'Turquoise': 523,\n",
       "         'TurquoiseShooting': 4,\n",
       "         'Yellow': 195,\n",
       "         'YellowShooting': 144})"
      ]
     },
     "execution_count": 146,
     "metadata": {},
     "output_type": "execute_result"
    }
   ],
   "source": [
    "Counter(model_df['seller star'])"
   ]
  },
  {
   "cell_type": "code",
   "execution_count": 147,
   "metadata": {},
   "outputs": [
    {
     "data": {
      "text/plain": [
       "Counter({'false': 988, 'true': 693})"
      ]
     },
     "execution_count": 147,
     "metadata": {},
     "output_type": "execute_result"
    }
   ],
   "source": [
    "Counter(model_df['top rated'])"
   ]
  },
  {
   "cell_type": "code",
   "execution_count": 148,
   "metadata": {},
   "outputs": [
    {
     "data": {
      "text/plain": [
       "Counter({'Biodiesel': 1,\n",
       "         'CNG': 7,\n",
       "         'Diesel': 30,\n",
       "         'Electric': 12,\n",
       "         'Ethanol - FFV': 2,\n",
       "         'Flex Fuel Vehicle': 24,\n",
       "         'GAS': 1,\n",
       "         'Gas': 11,\n",
       "         'Gasoline': 1407,\n",
       "         'Gasoline Electric Hybrid': 1,\n",
       "         'Hybrid-Electric': 36,\n",
       "         'NA': 142,\n",
       "         'Natural Gas': 1,\n",
       "         'Regular 87': 1,\n",
       "         'Regular Gas': 1,\n",
       "         'Regular unleaded Gasoline': 2,\n",
       "         'g': 1,\n",
       "         'premium fuel': 1})"
      ]
     },
     "execution_count": 148,
     "metadata": {},
     "output_type": "execute_result"
    }
   ],
   "source": [
    "Counter(model_df['fuel'])"
   ]
  },
  {
   "cell_type": "code",
   "execution_count": 149,
   "metadata": {},
   "outputs": [],
   "source": [
    "model_df['fuel'] = model_df['fuel'].replace(['NA', 'Gas', 'GAS','Regular 87', 'Regular Gas', 'Regular unleaded Gasoline', 'g', 'premium fuel'], 'Gasoline')\n",
    "model_df['fuel'] = model_df['fuel'].replace(['Gasoline Electric Hybrid', 'Hybrid-Electric'], 'Hybrid')\n",
    "model_df['fuel'] = model_df['fuel'].replace('Biodiesel', 'Diesel')\n",
    "model_df['fuel'] = model_df['fuel'].replace('Ethanol - FFV', 'Flex Fuel Vehicle')\n",
    "model_df['fuel'] = model_df['fuel'].replace('Biodiesel', 'Diesel')\n",
    "model_df['fuel'] = model_df['fuel'].replace('Natural Gas', 'CNG')"
   ]
  },
  {
   "cell_type": "code",
   "execution_count": 150,
   "metadata": {},
   "outputs": [
    {
     "data": {
      "text/plain": [
       "Counter({'CNG': 8,\n",
       "         'Diesel': 31,\n",
       "         'Electric': 12,\n",
       "         'Flex Fuel Vehicle': 26,\n",
       "         'Gasoline': 1567,\n",
       "         'Hybrid': 37})"
      ]
     },
     "execution_count": 150,
     "metadata": {},
     "output_type": "execute_result"
    }
   ],
   "source": [
    "Counter(model_df['fuel'])"
   ]
  },
  {
   "cell_type": "code",
   "execution_count": 151,
   "metadata": {},
   "outputs": [
    {
     "data": {
      "text/plain": [
       "Counter({'AMC': 1,\n",
       "         'Acura': 32,\n",
       "         'Alfa Romeo': 3,\n",
       "         'Audi': 73,\n",
       "         'BMW': 125,\n",
       "         'Bentley': 4,\n",
       "         'Buick': 34,\n",
       "         'Cadillac': 137,\n",
       "         'Chevrolet': 119,\n",
       "         'Chrysler': 38,\n",
       "         'Datsun': 1,\n",
       "         'DeSoto': 2,\n",
       "         'Dodge': 36,\n",
       "         'Edsel': 1,\n",
       "         'Fisker': 2,\n",
       "         'Ford': 130,\n",
       "         'Honda': 121,\n",
       "         'Hyundai': 23,\n",
       "         'Infiniti': 16,\n",
       "         'Jaguar': 46,\n",
       "         'Kaiser': 2,\n",
       "         'Kia': 9,\n",
       "         'LADA 2106 VAZ 1300 ENGINE 21011': 1,\n",
       "         'Lexus': 40,\n",
       "         'Lincoln': 61,\n",
       "         'Maserati': 12,\n",
       "         'Mazda': 13,\n",
       "         'Mercedes-Benz': 167,\n",
       "         'Mercury': 27,\n",
       "         'Mini': 3,\n",
       "         'Mitsubishi': 5,\n",
       "         'Nissan': 58,\n",
       "         'Oldsmobile': 12,\n",
       "         'Other Makes': 2,\n",
       "         'Plymouth': 5,\n",
       "         'Pontiac': 23,\n",
       "         'Renault': 1,\n",
       "         'Rolls-Royce': 11,\n",
       "         'Rover': 1,\n",
       "         'Saab': 13,\n",
       "         'Saturn': 9,\n",
       "         'Studebaker': 2,\n",
       "         'Subaru': 27,\n",
       "         'Sunbeam': 1,\n",
       "         'Tesla': 12,\n",
       "         'Toyota': 129,\n",
       "         'Triumph': 1,\n",
       "         'Volkswagen': 58,\n",
       "         'Volvo': 32})"
      ]
     },
     "execution_count": 151,
     "metadata": {},
     "output_type": "execute_result"
    }
   ],
   "source": [
    "Counter(model_df['make'])"
   ]
  },
  {
   "cell_type": "code",
   "execution_count": 152,
   "metadata": {
    "collapsed": true
   },
   "outputs": [],
   "source": [
    "model_df['make'] = model_df['make'].replace('LADA 2106 VAZ 1300 ENGINE 21011', 'Other Makes')"
   ]
  },
  {
   "cell_type": "code",
   "execution_count": 153,
   "metadata": {},
   "outputs": [
    {
     "data": {
      "text/plain": [
       "Counter({'AMC': 1,\n",
       "         'Acura': 32,\n",
       "         'Alfa Romeo': 3,\n",
       "         'Audi': 73,\n",
       "         'BMW': 125,\n",
       "         'Bentley': 4,\n",
       "         'Buick': 34,\n",
       "         'Cadillac': 137,\n",
       "         'Chevrolet': 119,\n",
       "         'Chrysler': 38,\n",
       "         'Datsun': 1,\n",
       "         'DeSoto': 2,\n",
       "         'Dodge': 36,\n",
       "         'Edsel': 1,\n",
       "         'Fisker': 2,\n",
       "         'Ford': 130,\n",
       "         'Honda': 121,\n",
       "         'Hyundai': 23,\n",
       "         'Infiniti': 16,\n",
       "         'Jaguar': 46,\n",
       "         'Kaiser': 2,\n",
       "         'Kia': 9,\n",
       "         'Lexus': 40,\n",
       "         'Lincoln': 61,\n",
       "         'Maserati': 12,\n",
       "         'Mazda': 13,\n",
       "         'Mercedes-Benz': 167,\n",
       "         'Mercury': 27,\n",
       "         'Mini': 3,\n",
       "         'Mitsubishi': 5,\n",
       "         'Nissan': 58,\n",
       "         'Oldsmobile': 12,\n",
       "         'Other Makes': 3,\n",
       "         'Plymouth': 5,\n",
       "         'Pontiac': 23,\n",
       "         'Renault': 1,\n",
       "         'Rolls-Royce': 11,\n",
       "         'Rover': 1,\n",
       "         'Saab': 13,\n",
       "         'Saturn': 9,\n",
       "         'Studebaker': 2,\n",
       "         'Subaru': 27,\n",
       "         'Sunbeam': 1,\n",
       "         'Tesla': 12,\n",
       "         'Toyota': 129,\n",
       "         'Triumph': 1,\n",
       "         'Volkswagen': 58,\n",
       "         'Volvo': 32})"
      ]
     },
     "execution_count": 153,
     "metadata": {},
     "output_type": "execute_result"
    }
   ],
   "source": [
    "Counter(model_df['make'])"
   ]
  },
  {
   "cell_type": "code",
   "execution_count": 154,
   "metadata": {},
   "outputs": [
    {
     "data": {
      "text/plain": [
       "Counter({'false': 1408, 'true': 273})"
      ]
     },
     "execution_count": 154,
     "metadata": {},
     "output_type": "execute_result"
    }
   ],
   "source": [
    "Counter(model_df['reserve'])"
   ]
  },
  {
   "cell_type": "code",
   "execution_count": 155,
   "metadata": {},
   "outputs": [
    {
     "data": {
      "text/plain": [
       "Counter({'AGENT': 1,\n",
       "         'Auto professional with dealer license': 1,\n",
       "         'Broker / Dealer': 1,\n",
       "         'By Owner': 2,\n",
       "         'DEALER': 1,\n",
       "         'Dealer': 620,\n",
       "         'Dealer(SUMMIT AUTO GROUP INC)': 3,\n",
       "         'Enrique': 1,\n",
       "         'Midway Auto Sale': 1,\n",
       "         'Municipality': 1,\n",
       "         'NA': 153,\n",
       "         'OWNER': 5,\n",
       "         'Owner': 16,\n",
       "         'PRIVATE-COLLECTOR': 1,\n",
       "         'Private': 1,\n",
       "         'Private Seller': 854,\n",
       "         'Private Seller-COLLECTOR': 1,\n",
       "         'State of Iowa': 1,\n",
       "         'Transit agency': 1,\n",
       "         'Wholesale.live': 8,\n",
       "         'broker': 1,\n",
       "         'individual': 1,\n",
       "         'original owner': 1,\n",
       "         'owner': 3,\n",
       "         'private owner': 2})"
      ]
     },
     "execution_count": 155,
     "metadata": {},
     "output_type": "execute_result"
    }
   ],
   "source": [
    "Counter(model_df['seller type'])"
   ]
  },
  {
   "cell_type": "code",
   "execution_count": 156,
   "metadata": {
    "collapsed": true
   },
   "outputs": [],
   "source": [
    "model_df['seller type'] = model_df['seller type'].replace(['AGENT', 'By Owner', 'Enrique','NA', 'OWNER', 'Owner', 'PRIVATE-COLLECTOR', 'Private', 'Private Seller-COLLECTOR', 'individual', 'original owner', 'owner', 'private owner'], 'Private Seller')\n",
    "model_df['seller type'] = model_df['seller type'].replace(['Auto professional with dealer license', 'Broker / Dealer', 'DEALER','Dealer(SUMMIT AUTO GROUP INC)', 'Midway Auto Sale', 'Wholesale.live', 'broker'], 'Dealer')\n",
    "model_df['seller type'] = model_df['seller type'].replace(['Municipality', 'State of Iowa', 'Transit agency'], 'Public Seller')"
   ]
  },
  {
   "cell_type": "code",
   "execution_count": 157,
   "metadata": {},
   "outputs": [
    {
     "data": {
      "text/plain": [
       "Counter({'Dealer': 636, 'Private Seller': 1042, 'Public Seller': 3})"
      ]
     },
     "execution_count": 157,
     "metadata": {},
     "output_type": "execute_result"
    }
   ],
   "source": [
    "Counter(model_df['seller type'])"
   ]
  },
  {
   "cell_type": "code",
   "execution_count": 158,
   "metadata": {},
   "outputs": [
    {
     "data": {
      "text/plain": [
       "Counter({'Clear': 1381,\n",
       "         'Flood, Water Damage': 9,\n",
       "         'Lemon & Manufacturer Buyback': 4,\n",
       "         'NA': 1,\n",
       "         'Rebuilt, Rebuildable & Reconstructed': 201,\n",
       "         'Salvage': 85})"
      ]
     },
     "execution_count": 158,
     "metadata": {},
     "output_type": "execute_result"
    }
   ],
   "source": [
    "Counter(model_df['vehicle title'])"
   ]
  },
  {
   "cell_type": "code",
   "execution_count": 159,
   "metadata": {
    "collapsed": true
   },
   "outputs": [],
   "source": [
    "model_df['vehicle title'] = model_df['vehicle title'].replace('NA', 'Clear')"
   ]
  },
  {
   "cell_type": "code",
   "execution_count": 160,
   "metadata": {},
   "outputs": [
    {
     "data": {
      "text/plain": [
       "Counter({'Clear': 1382,\n",
       "         'Flood, Water Damage': 9,\n",
       "         'Lemon & Manufacturer Buyback': 4,\n",
       "         'Rebuilt, Rebuildable & Reconstructed': 201,\n",
       "         'Salvage': 85})"
      ]
     },
     "execution_count": 160,
     "metadata": {},
     "output_type": "execute_result"
    }
   ],
   "source": [
    "Counter(model_df['vehicle title'])"
   ]
  },
  {
   "cell_type": "code",
   "execution_count": 161,
   "metadata": {
    "collapsed": true
   },
   "outputs": [],
   "source": [
    "# star_mapping = {\"None\": 0, \n",
    "#                 \"Yellow\": 1, \n",
    "#                 \"Blue\": 2, \n",
    "#                 \"Turquoise\": 3, \n",
    "#                 \"Purple\": 4,\n",
    "#                 \"Red\": 5,\n",
    "#                 \"Green\": 6,\n",
    "#                 \"YellowShooting\": 7,\n",
    "#                 \"TurquoiseShooting\": 8,\n",
    "#                 \"PurpleShooting\": 9,\n",
    "#                 \"RedShooting\": 10,\n",
    "#                 \"GreenShooting\": 11,\n",
    "#                 \"SilverShooting\": 12\n",
    "#                }\n",
    "\n",
    "# model_df['seller star'] = model_df['seller star'].map(star_mapping)\n",
    "# model_df['seller star'] = model_df['seller star'].fillna(0)"
   ]
  },
  {
   "cell_type": "code",
   "execution_count": null,
   "metadata": {
    "collapsed": true
   },
   "outputs": [],
   "source": []
  },
  {
   "cell_type": "code",
   "execution_count": 162,
   "metadata": {
    "collapsed": true
   },
   "outputs": [],
   "source": [
    "# model_df['top rated'] = model_df['top rated'].astype(bool)"
   ]
  },
  {
   "cell_type": "code",
   "execution_count": 163,
   "metadata": {
    "collapsed": true
   },
   "outputs": [],
   "source": [
    "# model_df['top rated'] = model_df['top rated'].astype(int)"
   ]
  },
  {
   "cell_type": "code",
   "execution_count": 164,
   "metadata": {
    "collapsed": true
   },
   "outputs": [],
   "source": [
    "# model_df['reserve'] = model_df['reserve'].astype(bool)"
   ]
  },
  {
   "cell_type": "code",
   "execution_count": 165,
   "metadata": {
    "collapsed": true
   },
   "outputs": [],
   "source": [
    "# model_df['reserve'] = model_df['reserve'].astype(int)"
   ]
  },
  {
   "cell_type": "code",
   "execution_count": 166,
   "metadata": {
    "collapsed": true
   },
   "outputs": [],
   "source": [
    "# model_df['category ID'] = model_df['category ID'].astype(int)"
   ]
  },
  {
   "cell_type": "code",
   "execution_count": 167,
   "metadata": {
    "collapsed": true
   },
   "outputs": [],
   "source": [
    "# model_df['condition ID'] = model_df['condition ID'].astype(int)"
   ]
  },
  {
   "cell_type": "code",
   "execution_count": 168,
   "metadata": {
    "collapsed": true
   },
   "outputs": [],
   "source": [
    "# model_df['item ID'] = model_df['item ID'].astype(int)"
   ]
  },
  {
   "cell_type": "code",
   "execution_count": 169,
   "metadata": {},
   "outputs": [
    {
     "name": "stdout",
     "output_type": "stream",
     "text": [
      "<class 'pandas.core.frame.DataFrame'>\n",
      "Int64Index: 1681 entries, 4 to 3994\n",
      "Data columns (total 22 columns):\n",
      "autopays                     1681 non-null object\n",
      "category ID                  1681 non-null object\n",
      "condition ID                 1681 non-null object\n",
      "end price                    1681 non-null float64\n",
      "item ID                      1681 non-null int64\n",
      "number of payment methods    1681 non-null int64\n",
      "postal code                  1681 non-null int64\n",
      "seller percent               1681 non-null float64\n",
      "seller score                 1681 non-null int64\n",
      "seller star                  1681 non-null object\n",
      "title                        1681 non-null int64\n",
      "top rated                    1681 non-null object\n",
      "description                  1681 non-null float64\n",
      "fuel                         1681 non-null object\n",
      "make                         1681 non-null object\n",
      "mileage                      1681 non-null int64\n",
      "photo number                 1681 non-null int64\n",
      "reserve                      1681 non-null object\n",
      "seller type                  1681 non-null object\n",
      "start price                  1681 non-null float64\n",
      "vehicle title                1681 non-null object\n",
      "year                         1681 non-null int64\n",
      "dtypes: float64(4), int64(8), object(10)\n",
      "memory usage: 382.1+ KB\n"
     ]
    }
   ],
   "source": [
    "model_df.info()"
   ]
  },
  {
   "cell_type": "code",
   "execution_count": 69,
   "metadata": {
    "collapsed": true
   },
   "outputs": [],
   "source": [
    "# with open('/Users/donalddressen/Desktop/auction_data/model_df.pkl', 'wb') as f:\n",
    "#     pickle.dump(model_df, f)"
   ]
  },
  {
   "cell_type": "code",
   "execution_count": 171,
   "metadata": {
    "collapsed": true
   },
   "outputs": [],
   "source": [
    "from h2o.estimators.gbm import H2OGradientBoostingEstimator\n",
    "from h2o.estimators.random_forest import H2ORandomForestEstimator"
   ]
  },
  {
   "cell_type": "code",
   "execution_count": 172,
   "metadata": {},
   "outputs": [
    {
     "name": "stdout",
     "output_type": "stream",
     "text": [
      "Parse progress: |█████████████████████████████████████████████████████████| 100%\n"
     ]
    }
   ],
   "source": [
    "model_hf = h2o.H2OFrame(model_df)"
   ]
  },
  {
   "cell_type": "code",
   "execution_count": 176,
   "metadata": {},
   "outputs": [
    {
     "data": {
      "text/html": [
       "<table>\n",
       "<thead>\n",
       "<tr><th>autopays  </th><th style=\"text-align: right;\">  category ID</th><th style=\"text-align: right;\">  condition ID</th><th style=\"text-align: right;\">  end price</th><th style=\"text-align: right;\">    item ID</th><th style=\"text-align: right;\">  number of payment methods</th><th style=\"text-align: right;\">  postal code</th><th style=\"text-align: right;\">  seller percent</th><th style=\"text-align: right;\">  seller score</th><th>seller star  </th><th style=\"text-align: right;\">  title</th><th>top rated  </th><th style=\"text-align: right;\">  description</th><th>fuel    </th><th>make         </th><th style=\"text-align: right;\">  mileage</th><th style=\"text-align: right;\">  photo number</th><th>reserve  </th><th>seller type   </th><th style=\"text-align: right;\">  start price</th><th>vehicle title                       </th><th style=\"text-align: right;\">  year</th></tr>\n",
       "</thead>\n",
       "<tbody>\n",
       "<tr><td>false     </td><td style=\"text-align: right;\">         6055</td><td style=\"text-align: right;\">          3000</td><td style=\"text-align: right;\">        515</td><td style=\"text-align: right;\">2.73033e+11</td><td style=\"text-align: right;\">                          3</td><td style=\"text-align: right;\">        91304</td><td style=\"text-align: right;\">           100  </td><td style=\"text-align: right;\">           343</td><td>Turquoise    </td><td style=\"text-align: right;\">     26</td><td>false      </td><td style=\"text-align: right;\">          295</td><td>Gasoline</td><td>Audi         </td><td style=\"text-align: right;\">   180350</td><td style=\"text-align: right;\">            13</td><td>false    </td><td>Private Seller</td><td style=\"text-align: right;\">       300   </td><td>Clear                               </td><td style=\"text-align: right;\">  1985</td></tr>\n",
       "<tr><td>false     </td><td style=\"text-align: right;\">        16124</td><td style=\"text-align: right;\">          3000</td><td style=\"text-align: right;\">       1500</td><td style=\"text-align: right;\">2.92413e+11</td><td style=\"text-align: right;\">                         21</td><td style=\"text-align: right;\">        49426</td><td style=\"text-align: right;\">           100  </td><td style=\"text-align: right;\">            19</td><td>Yellow       </td><td style=\"text-align: right;\">     64</td><td>false      </td><td style=\"text-align: right;\">         4135</td><td>Gasoline</td><td>Buick        </td><td style=\"text-align: right;\">    74000</td><td style=\"text-align: right;\">            13</td><td>false    </td><td>Private Seller</td><td style=\"text-align: right;\">      1500   </td><td>Clear                               </td><td style=\"text-align: right;\">  1993</td></tr>\n",
       "<tr><td>false     </td><td style=\"text-align: right;\">         6169</td><td style=\"text-align: right;\">          3000</td><td style=\"text-align: right;\">       3600</td><td style=\"text-align: right;\">1.12765e+11</td><td style=\"text-align: right;\">                          2</td><td style=\"text-align: right;\">        30043</td><td style=\"text-align: right;\">            99.6</td><td style=\"text-align: right;\">          3241</td><td>Red          </td><td style=\"text-align: right;\">     63</td><td>true       </td><td style=\"text-align: right;\">        34013</td><td>Gasoline</td><td>Chevrolet    </td><td style=\"text-align: right;\">   103085</td><td style=\"text-align: right;\">            22</td><td>false    </td><td>Private Seller</td><td style=\"text-align: right;\">       200   </td><td>Clear                               </td><td style=\"text-align: right;\">  2011</td></tr>\n",
       "<tr><td>false     </td><td style=\"text-align: right;\">         6169</td><td style=\"text-align: right;\">          3000</td><td style=\"text-align: right;\">       3355</td><td style=\"text-align: right;\">1.22922e+11</td><td style=\"text-align: right;\">                          2</td><td style=\"text-align: right;\">        30043</td><td style=\"text-align: right;\">            99.6</td><td style=\"text-align: right;\">          3240</td><td>Red          </td><td style=\"text-align: right;\">     76</td><td>true       </td><td style=\"text-align: right;\">        37041</td><td>Gasoline</td><td>Chevrolet    </td><td style=\"text-align: right;\">   115145</td><td style=\"text-align: right;\">            24</td><td>false    </td><td>Private Seller</td><td style=\"text-align: right;\">       200   </td><td>Clear                               </td><td style=\"text-align: right;\">  2009</td></tr>\n",
       "<tr><td>false     </td><td style=\"text-align: right;\">       171089</td><td style=\"text-align: right;\">          3000</td><td style=\"text-align: right;\">       6603</td><td style=\"text-align: right;\">3.23014e+11</td><td style=\"text-align: right;\">                         21</td><td style=\"text-align: right;\">        20018</td><td style=\"text-align: right;\">           100  </td><td style=\"text-align: right;\">           263</td><td>Turquoise    </td><td style=\"text-align: right;\">    120</td><td>true       </td><td style=\"text-align: right;\">       159932</td><td>Gasoline</td><td>Jaguar       </td><td style=\"text-align: right;\">   128702</td><td style=\"text-align: right;\">            24</td><td>true     </td><td>Dealer        </td><td style=\"text-align: right;\">       999   </td><td>Clear                               </td><td style=\"text-align: right;\">  2007</td></tr>\n",
       "<tr><td>false     </td><td style=\"text-align: right;\">        31851</td><td style=\"text-align: right;\">          3000</td><td style=\"text-align: right;\">       1075</td><td style=\"text-align: right;\">2.82811e+11</td><td style=\"text-align: right;\">                          3</td><td style=\"text-align: right;\">         6759</td><td style=\"text-align: right;\">           100  </td><td style=\"text-align: right;\">           421</td><td>Turquoise    </td><td style=\"text-align: right;\">     53</td><td>false      </td><td style=\"text-align: right;\">          538</td><td>Gasoline</td><td>Lincoln      </td><td style=\"text-align: right;\">    89313</td><td style=\"text-align: right;\">            15</td><td>false    </td><td>Private Seller</td><td style=\"text-align: right;\">      1000   </td><td>Clear                               </td><td style=\"text-align: right;\">  2003</td></tr>\n",
       "<tr><td>false     </td><td style=\"text-align: right;\">         6170</td><td style=\"text-align: right;\">          3000</td><td style=\"text-align: right;\">       6900</td><td style=\"text-align: right;\">2.73032e+11</td><td style=\"text-align: right;\">                          3</td><td style=\"text-align: right;\">        48126</td><td style=\"text-align: right;\">           100  </td><td style=\"text-align: right;\">            62</td><td>Blue         </td><td style=\"text-align: right;\">     80</td><td>false      </td><td style=\"text-align: right;\">          772</td><td>Gasoline</td><td>Chevrolet    </td><td style=\"text-align: right;\">    45000</td><td style=\"text-align: right;\">             5</td><td>false    </td><td>Dealer        </td><td style=\"text-align: right;\">      4500   </td><td>Rebuilt, Rebuildable & Reconstructed</td><td style=\"text-align: right;\">  2014</td></tr>\n",
       "<tr><td>false     </td><td style=\"text-align: right;\">         6009</td><td style=\"text-align: right;\">          3000</td><td style=\"text-align: right;\">        910</td><td style=\"text-align: right;\">1.92432e+11</td><td style=\"text-align: right;\">                          3</td><td style=\"text-align: right;\">        10304</td><td style=\"text-align: right;\">            75  </td><td style=\"text-align: right;\">             0</td><td>None         </td><td style=\"text-align: right;\">     32</td><td>false      </td><td style=\"text-align: right;\">         4044</td><td>Gasoline</td><td>BMW          </td><td style=\"text-align: right;\">   130000</td><td style=\"text-align: right;\">            17</td><td>false    </td><td>Private Seller</td><td style=\"text-align: right;\">         0.99</td><td>Clear                               </td><td style=\"text-align: right;\">  1992</td></tr>\n",
       "<tr><td>false     </td><td style=\"text-align: right;\">         6207</td><td style=\"text-align: right;\">          3000</td><td style=\"text-align: right;\">       1120</td><td style=\"text-align: right;\">2.02191e+11</td><td style=\"text-align: right;\">                          3</td><td style=\"text-align: right;\">        48044</td><td style=\"text-align: right;\">           100  </td><td style=\"text-align: right;\">            18</td><td>Yellow       </td><td style=\"text-align: right;\">     54</td><td>false      </td><td style=\"text-align: right;\">          633</td><td>Gasoline</td><td>Dodge        </td><td style=\"text-align: right;\">   160000</td><td style=\"text-align: right;\">             4</td><td>false    </td><td>Private Seller</td><td style=\"text-align: right;\">       987   </td><td>Clear                               </td><td style=\"text-align: right;\">  2004</td></tr>\n",
       "<tr><td>false     </td><td style=\"text-align: right;\">         6336</td><td style=\"text-align: right;\">          3000</td><td style=\"text-align: right;\">      15100</td><td style=\"text-align: right;\">2.82812e+11</td><td style=\"text-align: right;\">                          3</td><td style=\"text-align: right;\">        77001</td><td style=\"text-align: right;\">             0  </td><td style=\"text-align: right;\">             9</td><td>None         </td><td style=\"text-align: right;\">    111</td><td>false      </td><td style=\"text-align: right;\">        11935</td><td>Gasoline</td><td>Mercedes-Benz</td><td style=\"text-align: right;\">    94100</td><td style=\"text-align: right;\">            12</td><td>false    </td><td>Private Seller</td><td style=\"text-align: right;\">         0.01</td><td>Clear                               </td><td style=\"text-align: right;\">  2008</td></tr>\n",
       "</tbody>\n",
       "</table>"
      ]
     },
     "metadata": {},
     "output_type": "display_data"
    },
    {
     "data": {
      "text/plain": []
     },
     "execution_count": 176,
     "metadata": {},
     "output_type": "execute_result"
    }
   ],
   "source": [
    "model_hf.head()"
   ]
  },
  {
   "cell_type": "code",
   "execution_count": 182,
   "metadata": {
    "collapsed": true
   },
   "outputs": [],
   "source": [
    "train, valid, test = model_hf.split_frame([0.6, 0.2], seed=1234)"
   ]
  },
  {
   "cell_type": "code",
   "execution_count": 183,
   "metadata": {
    "collapsed": true
   },
   "outputs": [],
   "source": [
    "model_X = model_hf.col_names[:3] + model_hf.col_names[4:]"
   ]
  },
  {
   "cell_type": "code",
   "execution_count": 187,
   "metadata": {
    "collapsed": true
   },
   "outputs": [],
   "source": [
    "model_Y = model_hf.col_names[3]"
   ]
  },
  {
   "cell_type": "code",
   "execution_count": 188,
   "metadata": {},
   "outputs": [
    {
     "data": {
      "text/plain": [
       "['autopays',\n",
       " 'category ID',\n",
       " 'condition ID',\n",
       " 'item ID',\n",
       " 'number of payment methods',\n",
       " 'postal code',\n",
       " 'seller percent',\n",
       " 'seller score',\n",
       " 'seller star',\n",
       " 'title',\n",
       " 'top rated',\n",
       " 'description',\n",
       " 'fuel',\n",
       " 'make',\n",
       " 'mileage',\n",
       " 'photo number',\n",
       " 'reserve',\n",
       " 'seller type',\n",
       " 'start price',\n",
       " 'vehicle title',\n",
       " 'year']"
      ]
     },
     "execution_count": 188,
     "metadata": {},
     "output_type": "execute_result"
    }
   ],
   "source": [
    "model_X"
   ]
  },
  {
   "cell_type": "code",
   "execution_count": 189,
   "metadata": {},
   "outputs": [
    {
     "data": {
      "text/plain": [
       "'end price'"
      ]
     },
     "execution_count": 189,
     "metadata": {},
     "output_type": "execute_result"
    }
   ],
   "source": [
    "model_Y"
   ]
  },
  {
   "cell_type": "code",
   "execution_count": 201,
   "metadata": {
    "collapsed": true
   },
   "outputs": [],
   "source": [
    "rf_v1 = H2ORandomForestEstimator(\n",
    "    model_id=\"rf_model_v1\",\n",
    "    ntrees=200,\n",
    "    stopping_rounds=2,\n",
    "    score_each_iteration=True,\n",
    "    seed=1000000)"
   ]
  },
  {
   "cell_type": "code",
   "execution_count": 202,
   "metadata": {},
   "outputs": [
    {
     "name": "stdout",
     "output_type": "stream",
     "text": [
      "drf Model Build progress: |███████████████████████████████████████████████| 100%\n"
     ]
    }
   ],
   "source": [
    "rf_v1.train(model_X, model_Y, training_frame=train, validation_frame=valid)"
   ]
  },
  {
   "cell_type": "code",
   "execution_count": 203,
   "metadata": {},
   "outputs": [
    {
     "name": "stdout",
     "output_type": "stream",
     "text": [
      "Model Details\n",
      "=============\n",
      "H2ORandomForestEstimator :  Distributed Random Forest\n",
      "Model Key:  rf_model_v1\n",
      "\n",
      "\n",
      "ModelMetricsRegression: drf\n",
      "** Reported on train data. **\n",
      "\n",
      "MSE: 45765203.273207314\n",
      "RMSE: 6764.998394176256\n",
      "MAE: 3250.09397361458\n",
      "RMSLE: 0.7798483501553566\n",
      "Mean Residual Deviance: 45765203.273207314\n",
      "\n",
      "ModelMetricsRegression: drf\n",
      "** Reported on validation data. **\n",
      "\n",
      "MSE: 13845388.237548284\n",
      "RMSE: 3720.9391606889094\n",
      "MAE: 2194.1231980020602\n",
      "RMSLE: 0.657858165155004\n",
      "Mean Residual Deviance: 13845388.237548284\n",
      "Scoring History: \n"
     ]
    },
    {
     "data": {
      "text/html": [
       "<div style=\"overflow:auto\"><table style=\"width:50%\"><tr><td><b></b></td>\n",
       "<td><b>timestamp</b></td>\n",
       "<td><b>duration</b></td>\n",
       "<td><b>number_of_trees</b></td>\n",
       "<td><b>training_rmse</b></td>\n",
       "<td><b>training_mae</b></td>\n",
       "<td><b>training_deviance</b></td>\n",
       "<td><b>validation_rmse</b></td>\n",
       "<td><b>validation_mae</b></td>\n",
       "<td><b>validation_deviance</b></td></tr>\n",
       "<tr><td></td>\n",
       "<td>2018-02-03 20:41:40</td>\n",
       "<td> 0.010 sec</td>\n",
       "<td>0.0</td>\n",
       "<td>nan</td>\n",
       "<td>nan</td>\n",
       "<td>nan</td>\n",
       "<td>nan</td>\n",
       "<td>nan</td>\n",
       "<td>nan</td></tr>\n",
       "<tr><td></td>\n",
       "<td>2018-02-03 20:41:40</td>\n",
       "<td> 0.027 sec</td>\n",
       "<td>1.0</td>\n",
       "<td>7930.3161873</td>\n",
       "<td>4360.2258432</td>\n",
       "<td>62889914.8311263</td>\n",
       "<td>5935.6355019</td>\n",
       "<td>3141.4319565</td>\n",
       "<td>35231768.8113268</td></tr>\n",
       "<tr><td></td>\n",
       "<td>2018-02-03 20:41:40</td>\n",
       "<td> 0.040 sec</td>\n",
       "<td>2.0</td>\n",
       "<td>9325.6201180</td>\n",
       "<td>4350.3342361</td>\n",
       "<td>86967190.5851703</td>\n",
       "<td>4296.3815739</td>\n",
       "<td>2544.0650375</td>\n",
       "<td>18458894.6282227</td></tr>\n",
       "<tr><td></td>\n",
       "<td>2018-02-03 20:41:40</td>\n",
       "<td> 0.054 sec</td>\n",
       "<td>3.0</td>\n",
       "<td>8427.1228475</td>\n",
       "<td>3976.7889719</td>\n",
       "<td>71016399.4861086</td>\n",
       "<td>4218.8554037</td>\n",
       "<td>2564.7167155</td>\n",
       "<td>17798740.9171331</td></tr>\n",
       "<tr><td></td>\n",
       "<td>2018-02-03 20:41:40</td>\n",
       "<td> 0.069 sec</td>\n",
       "<td>4.0</td>\n",
       "<td>8299.0507790</td>\n",
       "<td>3816.2567472</td>\n",
       "<td>68874243.8330797</td>\n",
       "<td>3729.8288473</td>\n",
       "<td>2333.3911881</td>\n",
       "<td>13911623.2304500</td></tr>\n",
       "<tr><td></td>\n",
       "<td>2018-02-03 20:41:40</td>\n",
       "<td> 0.086 sec</td>\n",
       "<td>5.0</td>\n",
       "<td>7583.0184192</td>\n",
       "<td>3691.3043719</td>\n",
       "<td>57502168.3453886</td>\n",
       "<td>3694.3106279</td>\n",
       "<td>2275.0365053</td>\n",
       "<td>13647931.0154652</td></tr>\n",
       "<tr><td></td>\n",
       "<td>2018-02-03 20:41:40</td>\n",
       "<td> 0.103 sec</td>\n",
       "<td>6.0</td>\n",
       "<td>7180.0017992</td>\n",
       "<td>3456.5010571</td>\n",
       "<td>51552425.8360199</td>\n",
       "<td>3588.7022431</td>\n",
       "<td>2221.2050756</td>\n",
       "<td>12878783.7899357</td></tr>\n",
       "<tr><td></td>\n",
       "<td>2018-02-03 20:41:40</td>\n",
       "<td> 0.121 sec</td>\n",
       "<td>7.0</td>\n",
       "<td>7028.9487191</td>\n",
       "<td>3355.3047187</td>\n",
       "<td>49406120.0953086</td>\n",
       "<td>3820.3105810</td>\n",
       "<td>2233.9846989</td>\n",
       "<td>14594772.9356527</td></tr>\n",
       "<tr><td></td>\n",
       "<td>2018-02-03 20:41:40</td>\n",
       "<td> 0.141 sec</td>\n",
       "<td>8.0</td>\n",
       "<td>6764.9983942</td>\n",
       "<td>3250.0939736</td>\n",
       "<td>45765203.2732073</td>\n",
       "<td>3720.9391607</td>\n",
       "<td>2194.1231980</td>\n",
       "<td>13845388.2375483</td></tr></table></div>"
      ],
      "text/plain": [
       "    timestamp            duration    number_of_trees    training_rmse    training_mae    training_deviance    validation_rmse    validation_mae    validation_deviance\n",
       "--  -------------------  ----------  -----------------  ---------------  --------------  -------------------  -----------------  ----------------  ---------------------\n",
       "    2018-02-03 20:41:40  0.010 sec   0                  nan              nan             nan                  nan                nan               nan\n",
       "    2018-02-03 20:41:40  0.027 sec   1                  7930.32          4360.23         6.28899e+07          5935.64            3141.43           3.52318e+07\n",
       "    2018-02-03 20:41:40  0.040 sec   2                  9325.62          4350.33         8.69672e+07          4296.38            2544.07           1.84589e+07\n",
       "    2018-02-03 20:41:40  0.054 sec   3                  8427.12          3976.79         7.10164e+07          4218.86            2564.72           1.77987e+07\n",
       "    2018-02-03 20:41:40  0.069 sec   4                  8299.05          3816.26         6.88742e+07          3729.83            2333.39           1.39116e+07\n",
       "    2018-02-03 20:41:40  0.086 sec   5                  7583.02          3691.3          5.75022e+07          3694.31            2275.04           1.36479e+07\n",
       "    2018-02-03 20:41:40  0.103 sec   6                  7180             3456.5          5.15524e+07          3588.7             2221.21           1.28788e+07\n",
       "    2018-02-03 20:41:40  0.121 sec   7                  7028.95          3355.3          4.94061e+07          3820.31            2233.98           1.45948e+07\n",
       "    2018-02-03 20:41:40  0.141 sec   8                  6765             3250.09         4.57652e+07          3720.94            2194.12           1.38454e+07"
      ]
     },
     "metadata": {},
     "output_type": "display_data"
    },
    {
     "name": "stdout",
     "output_type": "stream",
     "text": [
      "Variable Importances: \n"
     ]
    },
    {
     "data": {
      "text/html": [
       "<div style=\"overflow:auto\"><table style=\"width:50%\"><tr><td><b>variable</b></td>\n",
       "<td><b>relative_importance</b></td>\n",
       "<td><b>scaled_importance</b></td>\n",
       "<td><b>percentage</b></td></tr>\n",
       "<tr><td>make</td>\n",
       "<td>145181425664.0000000</td>\n",
       "<td>1.0</td>\n",
       "<td>0.2668755</td></tr>\n",
       "<tr><td>year</td>\n",
       "<td>144411426816.0000000</td>\n",
       "<td>0.9946963</td>\n",
       "<td>0.2654601</td></tr>\n",
       "<tr><td>start price</td>\n",
       "<td>106416865280.0000000</td>\n",
       "<td>0.7329923</td>\n",
       "<td>0.1956177</td></tr>\n",
       "<tr><td>category ID</td>\n",
       "<td>17041353728.0000000</td>\n",
       "<td>0.1173797</td>\n",
       "<td>0.0313258</td></tr>\n",
       "<tr><td>condition ID</td>\n",
       "<td>16076445696.0000000</td>\n",
       "<td>0.1107335</td>\n",
       "<td>0.0295521</td></tr>\n",
       "<tr><td>---</td>\n",
       "<td>---</td>\n",
       "<td>---</td>\n",
       "<td>---</td></tr>\n",
       "<tr><td>reserve</td>\n",
       "<td>6109105664.0000000</td>\n",
       "<td>0.0420791</td>\n",
       "<td>0.0112299</td></tr>\n",
       "<tr><td>number of payment methods</td>\n",
       "<td>5359799808.0000000</td>\n",
       "<td>0.0369179</td>\n",
       "<td>0.0098525</td></tr>\n",
       "<tr><td>vehicle title</td>\n",
       "<td>3625568256.0000000</td>\n",
       "<td>0.0249727</td>\n",
       "<td>0.0066646</td></tr>\n",
       "<tr><td>seller percent</td>\n",
       "<td>3515655936.0000000</td>\n",
       "<td>0.0242156</td>\n",
       "<td>0.0064626</td></tr>\n",
       "<tr><td>top rated</td>\n",
       "<td>1158172160.0000000</td>\n",
       "<td>0.0079774</td>\n",
       "<td>0.0021290</td></tr></table></div>"
      ],
      "text/plain": [
       "variable                   relative_importance    scaled_importance     percentage\n",
       "-------------------------  ---------------------  --------------------  ---------------------\n",
       "make                       145181425664.0         1.0                   0.26687550667510407\n",
       "year                       144411426816.0         0.9946962991685862    0.26546007882846734\n",
       "start price                106416865280.0         0.7329922873624716    0.1956176880788031\n",
       "category ID                17041353728.0          0.11737971059355473   0.031325769738032\n",
       "condition ID               16076445696.0          0.11073348827147111   0.02955205578835055\n",
       "---                        ---                    ---                   ---\n",
       "reserve                    6109105664.0           0.04207911333050677   0.011229884690518119\n",
       "number of payment methods  5359799808.0           0.036917944451134055  0.009852495130799747\n",
       "vehicle title              3625568256.0           0.02497267291196615   0.0066645947364126126\n",
       "seller percent             3515655936.0           0.024215604165070282  0.006462551630996892\n",
       "top rated                  1158172160.0           0.007977412776482928  0.00212897607668033"
      ]
     },
     "metadata": {},
     "output_type": "display_data"
    },
    {
     "name": "stdout",
     "output_type": "stream",
     "text": [
      "\n",
      "See the whole table with table.as_data_frame()\n"
     ]
    },
    {
     "data": {
      "text/plain": []
     },
     "execution_count": 203,
     "metadata": {},
     "output_type": "execute_result"
    }
   ],
   "source": [
    "rf_v1"
   ]
  },
  {
   "cell_type": "code",
   "execution_count": 204,
   "metadata": {},
   "outputs": [
    {
     "name": "stdout",
     "output_type": "stream",
     "text": [
      "gbm Model Build progress: |███████████████████████████████████████████████| 100%\n"
     ]
    }
   ],
   "source": [
    "gbm_v1 = H2OGradientBoostingEstimator(\n",
    "    model_id=\"gbm_model_v1\",\n",
    "    seed=2000000\n",
    ")\n",
    "\n",
    "gbm_v1.train(model_X, model_Y, training_frame=train, validation_frame=valid)\n"
   ]
  },
  {
   "cell_type": "code",
   "execution_count": 206,
   "metadata": {},
   "outputs": [
    {
     "name": "stdout",
     "output_type": "stream",
     "text": [
      "Model Details\n",
      "=============\n",
      "H2OGradientBoostingEstimator :  Gradient Boosting Machine\n",
      "Model Key:  gbm_model_v1\n",
      "\n",
      "\n",
      "ModelMetricsRegression: gbm\n",
      "** Reported on train data. **\n",
      "\n",
      "MSE: 7665918.710550771\n",
      "RMSE: 2768.739552675688\n",
      "MAE: 1496.262267177691\n",
      "RMSLE: 0.5462895665356556\n",
      "Mean Residual Deviance: 7665918.710550771\n",
      "\n",
      "ModelMetricsRegression: gbm\n",
      "** Reported on validation data. **\n",
      "\n",
      "MSE: 12351097.103909587\n",
      "RMSE: 3514.4127680040074\n",
      "MAE: 2005.6095336209626\n",
      "RMSLE: 0.6213677082352018\n",
      "Mean Residual Deviance: 12351097.103909587\n",
      "Scoring History: \n"
     ]
    },
    {
     "data": {
      "text/html": [
       "<div style=\"overflow:auto\"><table style=\"width:50%\"><tr><td><b></b></td>\n",
       "<td><b>timestamp</b></td>\n",
       "<td><b>duration</b></td>\n",
       "<td><b>number_of_trees</b></td>\n",
       "<td><b>training_rmse</b></td>\n",
       "<td><b>training_mae</b></td>\n",
       "<td><b>training_deviance</b></td>\n",
       "<td><b>validation_rmse</b></td>\n",
       "<td><b>validation_mae</b></td>\n",
       "<td><b>validation_deviance</b></td></tr>\n",
       "<tr><td></td>\n",
       "<td>2018-02-03 20:44:33</td>\n",
       "<td> 0.017 sec</td>\n",
       "<td>0.0</td>\n",
       "<td>9755.7958834</td>\n",
       "<td>5951.6100596</td>\n",
       "<td>95175553.3191187</td>\n",
       "<td>8165.1728548</td>\n",
       "<td>5483.4555587</td>\n",
       "<td>66670047.7491488</td></tr>\n",
       "<tr><td></td>\n",
       "<td>2018-02-03 20:44:33</td>\n",
       "<td> 0.055 sec</td>\n",
       "<td>1.0</td>\n",
       "<td>9076.3315202</td>\n",
       "<td>5498.0549099</td>\n",
       "<td>82379793.8644904</td>\n",
       "<td>7559.4623362</td>\n",
       "<td>5058.6133575</td>\n",
       "<td>57145470.8119894</td></tr>\n",
       "<tr><td></td>\n",
       "<td>2018-02-03 20:44:33</td>\n",
       "<td> 0.068 sec</td>\n",
       "<td>2.0</td>\n",
       "<td>8470.6610114</td>\n",
       "<td>5106.2829391</td>\n",
       "<td>71752097.9695532</td>\n",
       "<td>7067.1769513</td>\n",
       "<td>4734.5469751</td>\n",
       "<td>49944990.0604065</td></tr>\n",
       "<tr><td></td>\n",
       "<td>2018-02-03 20:44:33</td>\n",
       "<td> 0.082 sec</td>\n",
       "<td>3.0</td>\n",
       "<td>7945.8961782</td>\n",
       "<td>4769.8832166</td>\n",
       "<td>63137266.0745539</td>\n",
       "<td>6650.2571830</td>\n",
       "<td>4468.3982312</td>\n",
       "<td>44225920.5997473</td></tr>\n",
       "<tr><td></td>\n",
       "<td>2018-02-03 20:44:33</td>\n",
       "<td> 0.098 sec</td>\n",
       "<td>4.0</td>\n",
       "<td>7488.1507980</td>\n",
       "<td>4473.5970635</td>\n",
       "<td>56072402.3737017</td>\n",
       "<td>6284.0991622</td>\n",
       "<td>4231.0396069</td>\n",
       "<td>39489902.2807623</td></tr>\n",
       "<tr><td>---</td>\n",
       "<td>---</td>\n",
       "<td>---</td>\n",
       "<td>---</td>\n",
       "<td>---</td>\n",
       "<td>---</td>\n",
       "<td>---</td>\n",
       "<td>---</td>\n",
       "<td>---</td>\n",
       "<td>---</td></tr>\n",
       "<tr><td></td>\n",
       "<td>2018-02-03 20:44:33</td>\n",
       "<td> 0.505 sec</td>\n",
       "<td>46.0</td>\n",
       "<td>2872.4146053</td>\n",
       "<td>1547.3179030</td>\n",
       "<td>8250765.6648415</td>\n",
       "<td>3532.4640835</td>\n",
       "<td>2020.6333944</td>\n",
       "<td>12478302.5012201</td></tr>\n",
       "<tr><td></td>\n",
       "<td>2018-02-03 20:44:33</td>\n",
       "<td> 0.509 sec</td>\n",
       "<td>47.0</td>\n",
       "<td>2814.6763917</td>\n",
       "<td>1514.9797665</td>\n",
       "<td>7922403.1900997</td>\n",
       "<td>3501.5710399</td>\n",
       "<td>1998.2059868</td>\n",
       "<td>12260999.7475525</td></tr>\n",
       "<tr><td></td>\n",
       "<td>2018-02-03 20:44:33</td>\n",
       "<td> 0.514 sec</td>\n",
       "<td>48.0</td>\n",
       "<td>2793.3660268</td>\n",
       "<td>1504.1176013</td>\n",
       "<td>7802893.7596664</td>\n",
       "<td>3497.6799029</td>\n",
       "<td>2001.3973096</td>\n",
       "<td>12233764.7034350</td></tr>\n",
       "<tr><td></td>\n",
       "<td>2018-02-03 20:44:33</td>\n",
       "<td> 0.518 sec</td>\n",
       "<td>49.0</td>\n",
       "<td>2782.6603171</td>\n",
       "<td>1498.0567787</td>\n",
       "<td>7743198.4403614</td>\n",
       "<td>3498.6602871</td>\n",
       "<td>1999.4981188</td>\n",
       "<td>12240623.8047356</td></tr>\n",
       "<tr><td></td>\n",
       "<td>2018-02-03 20:44:33</td>\n",
       "<td> 0.523 sec</td>\n",
       "<td>50.0</td>\n",
       "<td>2768.7395527</td>\n",
       "<td>1496.2622672</td>\n",
       "<td>7665918.7105508</td>\n",
       "<td>3514.4127680</td>\n",
       "<td>2005.6095336</td>\n",
       "<td>12351097.1039096</td></tr></table></div>"
      ],
      "text/plain": [
       "     timestamp            duration    number_of_trees    training_rmse       training_mae        training_deviance    validation_rmse     validation_mae      validation_deviance\n",
       "---  -------------------  ----------  -----------------  ------------------  ------------------  -------------------  ------------------  ------------------  ---------------------\n",
       "     2018-02-03 20:44:33  0.017 sec   0.0                9755.795883428409   5951.610059583563   95175553.3191187     8165.172854823638   5483.455558665237   66670047.74914879\n",
       "     2018-02-03 20:44:33  0.055 sec   1.0                9076.33152019528    5498.054909874632   82379793.86449036    7559.4623361711     5058.613357452858   57145470.81198943\n",
       "     2018-02-03 20:44:33  0.068 sec   2.0                8470.661011370554   5106.282939146443   71752097.96955322    7067.176951259005   4734.5469750509865  49944990.06040653\n",
       "     2018-02-03 20:44:33  0.082 sec   3.0                7945.896178188705   4769.883216594309   63137266.07455387    6650.257182977759   4468.398231200649   44225920.59974728\n",
       "     2018-02-03 20:44:33  0.098 sec   4.0                7488.150798007591   4473.597063537176   56072402.37370172    6284.099162231794   4231.039606897068   39489902.28076234\n",
       "---  ---                  ---         ---                ---                 ---                 ---                  ---                 ---                 ---\n",
       "     2018-02-03 20:44:33  0.505 sec   46.0               2872.414605317532   1547.3179030121844  8250765.664841472    3532.4640835003706  2020.6333944098276  12478302.501220113\n",
       "     2018-02-03 20:44:33  0.509 sec   47.0               2814.6763917188896  1514.979766469129   7922403.190099669    3501.571039912303   1998.2059868108124  12260999.747552527\n",
       "     2018-02-03 20:44:33  0.514 sec   48.0               2793.3660267974856  1504.1176013249872  7802893.759666371    3497.679902940658   2001.3973096418727  12233764.70343497\n",
       "     2018-02-03 20:44:33  0.518 sec   49.0               2782.6603170997046  1498.05677870725    7743198.440361429    3498.660287129287   1999.4981188187153  12240623.804735586\n",
       "     2018-02-03 20:44:33  0.523 sec   50.0               2768.739552675688   1496.262267177691   7665918.710550771    3514.4127680040074  2005.6095336209626  12351097.103909587"
      ]
     },
     "metadata": {},
     "output_type": "display_data"
    },
    {
     "name": "stdout",
     "output_type": "stream",
     "text": [
      "\n",
      "See the whole table with table.as_data_frame()\n",
      "Variable Importances: \n"
     ]
    },
    {
     "data": {
      "text/html": [
       "<div style=\"overflow:auto\"><table style=\"width:50%\"><tr><td><b>variable</b></td>\n",
       "<td><b>relative_importance</b></td>\n",
       "<td><b>scaled_importance</b></td>\n",
       "<td><b>percentage</b></td></tr>\n",
       "<tr><td>make</td>\n",
       "<td>151172972544.0000000</td>\n",
       "<td>1.0</td>\n",
       "<td>0.3240131</td></tr>\n",
       "<tr><td>year</td>\n",
       "<td>144702095360.0000000</td>\n",
       "<td>0.9571955</td>\n",
       "<td>0.3101439</td></tr>\n",
       "<tr><td>start price</td>\n",
       "<td>122090889216.0000000</td>\n",
       "<td>0.8076238</td>\n",
       "<td>0.2616807</td></tr>\n",
       "<tr><td>title</td>\n",
       "<td>6454943232.0000000</td>\n",
       "<td>0.0426991</td>\n",
       "<td>0.0138351</td></tr>\n",
       "<tr><td>category ID</td>\n",
       "<td>5244297216.0000000</td>\n",
       "<td>0.0346907</td>\n",
       "<td>0.0112402</td></tr>\n",
       "<tr><td>---</td>\n",
       "<td>---</td>\n",
       "<td>---</td>\n",
       "<td>---</td></tr>\n",
       "<tr><td>seller type</td>\n",
       "<td>885464128.0000000</td>\n",
       "<td>0.0058573</td>\n",
       "<td>0.0018978</td></tr>\n",
       "<tr><td>autopays</td>\n",
       "<td>743119168.0000000</td>\n",
       "<td>0.0049157</td>\n",
       "<td>0.0015927</td></tr>\n",
       "<tr><td>seller percent</td>\n",
       "<td>531957440.0000000</td>\n",
       "<td>0.0035189</td>\n",
       "<td>0.0011402</td></tr>\n",
       "<tr><td>top rated</td>\n",
       "<td>271817568.0000000</td>\n",
       "<td>0.0017981</td>\n",
       "<td>0.0005826</td></tr>\n",
       "<tr><td>fuel</td>\n",
       "<td>135514272.0000000</td>\n",
       "<td>0.0008964</td>\n",
       "<td>0.0002905</td></tr></table></div>"
      ],
      "text/plain": [
       "variable        relative_importance    scaled_importance      percentage\n",
       "--------------  ---------------------  ---------------------  ----------------------\n",
       "make            151172972544.0         1.0                    0.32401305642040445\n",
       "year            144702095360.0         0.9571955418015174     0.3101438530910947\n",
       "start price     122090889216.0         0.8076237912201174     0.26168065303106486\n",
       "title           6454943232.0           0.042699056077112205   0.013835051665811372\n",
       "category ID     5244297216.0           0.03469070646522882    0.011240241831181877\n",
       "---             ---                    ---                    ---\n",
       "seller type     885464128.0            0.005857291241278458   0.0018978388374310978\n",
       "autopays        743119168.0            0.004915688006225515   0.0015927470953062536\n",
       "seller percent  531957440.0            0.003518866044955026   0.0011401585423598583\n",
       "top rated       271817568.0            0.0017980566461434468  0.0005825938295339598\n",
       "fuel            135514272.0            0.0008964186502356271  0.00029045134669509906"
      ]
     },
     "metadata": {},
     "output_type": "display_data"
    },
    {
     "name": "stdout",
     "output_type": "stream",
     "text": [
      "\n",
      "See the whole table with table.as_data_frame()\n"
     ]
    },
    {
     "data": {
      "text/plain": []
     },
     "execution_count": 206,
     "metadata": {},
     "output_type": "execute_result"
    }
   ],
   "source": [
    "gbm_v1"
   ]
  },
  {
   "cell_type": "code",
   "execution_count": 208,
   "metadata": {},
   "outputs": [
    {
     "name": "stdout",
     "output_type": "stream",
     "text": [
      "gbm Model Build progress: |███████████████████████████████████████████████| 100%\n"
     ]
    }
   ],
   "source": [
    "gbm_v2 = H2OGradientBoostingEstimator(\n",
    "    ntrees=20,\n",
    "    learn_rate=0.2,\n",
    "    max_depth=10,\n",
    "    stopping_tolerance=0.01, #10-fold increase in threshold as defined in rf_v1\n",
    "    stopping_rounds=2,\n",
    "    score_each_iteration=True,\n",
    "    model_id=\"gbm_model_v2\",\n",
    "    seed=2000000\n",
    ")\n",
    "gbm_v2.train(model_X, model_Y, training_frame=train, validation_frame=valid)"
   ]
  },
  {
   "cell_type": "code",
   "execution_count": 209,
   "metadata": {},
   "outputs": [
    {
     "name": "stdout",
     "output_type": "stream",
     "text": [
      "Model Details\n",
      "=============\n",
      "H2OGradientBoostingEstimator :  Gradient Boosting Machine\n",
      "Model Key:  gbm_model_v2\n",
      "\n",
      "\n",
      "ModelMetricsRegression: gbm\n",
      "** Reported on train data. **\n",
      "\n",
      "MSE: 9684081.230815522\n",
      "RMSE: 3111.9256467363616\n",
      "MAE: 1362.353814278515\n",
      "RMSLE: 0.5052816870783398\n",
      "Mean Residual Deviance: 9684081.230815522\n",
      "\n",
      "ModelMetricsRegression: gbm\n",
      "** Reported on validation data. **\n",
      "\n",
      "MSE: 13155422.0906858\n",
      "RMSE: 3627.0404037845788\n",
      "MAE: 2139.093237782963\n",
      "RMSLE: 0.6704274338531896\n",
      "Mean Residual Deviance: 13155422.0906858\n",
      "Scoring History: \n"
     ]
    },
    {
     "data": {
      "text/html": [
       "<div style=\"overflow:auto\"><table style=\"width:50%\"><tr><td><b></b></td>\n",
       "<td><b>timestamp</b></td>\n",
       "<td><b>duration</b></td>\n",
       "<td><b>number_of_trees</b></td>\n",
       "<td><b>training_rmse</b></td>\n",
       "<td><b>training_mae</b></td>\n",
       "<td><b>training_deviance</b></td>\n",
       "<td><b>validation_rmse</b></td>\n",
       "<td><b>validation_mae</b></td>\n",
       "<td><b>validation_deviance</b></td></tr>\n",
       "<tr><td></td>\n",
       "<td>2018-02-03 20:52:24</td>\n",
       "<td> 0.015 sec</td>\n",
       "<td>0.0</td>\n",
       "<td>9755.7958834</td>\n",
       "<td>5951.6100596</td>\n",
       "<td>95175553.3191187</td>\n",
       "<td>8165.1728548</td>\n",
       "<td>5483.4555587</td>\n",
       "<td>66670047.7491488</td></tr>\n",
       "<tr><td></td>\n",
       "<td>2018-02-03 20:52:24</td>\n",
       "<td> 0.028 sec</td>\n",
       "<td>1.0</td>\n",
       "<td>8327.5821177</td>\n",
       "<td>4939.6409351</td>\n",
       "<td>69348623.9271553</td>\n",
       "<td>6921.9564696</td>\n",
       "<td>4626.5885854</td>\n",
       "<td>47913481.3670731</td></tr>\n",
       "<tr><td></td>\n",
       "<td>2018-02-03 20:52:24</td>\n",
       "<td> 0.037 sec</td>\n",
       "<td>2.0</td>\n",
       "<td>7164.1962174</td>\n",
       "<td>4145.4658041</td>\n",
       "<td>51325707.4407957</td>\n",
       "<td>6034.0491203</td>\n",
       "<td>4013.1107518</td>\n",
       "<td>36409748.7866789</td></tr>\n",
       "<tr><td></td>\n",
       "<td>2018-02-03 20:52:24</td>\n",
       "<td> 0.045 sec</td>\n",
       "<td>3.0</td>\n",
       "<td>6293.7858356</td>\n",
       "<td>3515.3823432</td>\n",
       "<td>39611740.1443182</td>\n",
       "<td>5363.8376197</td>\n",
       "<td>3516.5768656</td>\n",
       "<td>28770754.0109456</td></tr>\n",
       "<tr><td></td>\n",
       "<td>2018-02-03 20:52:24</td>\n",
       "<td> 0.054 sec</td>\n",
       "<td>4.0</td>\n",
       "<td>5637.4058089</td>\n",
       "<td>3013.9708305</td>\n",
       "<td>31780344.2541226</td>\n",
       "<td>4929.0532715</td>\n",
       "<td>3177.6770216</td>\n",
       "<td>24295566.1533356</td></tr>\n",
       "<tr><td></td>\n",
       "<td>2018-02-03 20:52:24</td>\n",
       "<td> 0.062 sec</td>\n",
       "<td>5.0</td>\n",
       "<td>5130.8072104</td>\n",
       "<td>2643.6205644</td>\n",
       "<td>26325182.6302651</td>\n",
       "<td>4582.6940399</td>\n",
       "<td>2877.8752997</td>\n",
       "<td>21001084.6637746</td></tr>\n",
       "<tr><td></td>\n",
       "<td>2018-02-03 20:52:24</td>\n",
       "<td> 0.071 sec</td>\n",
       "<td>6.0</td>\n",
       "<td>4585.2218287</td>\n",
       "<td>2310.2743412</td>\n",
       "<td>21024259.2187861</td>\n",
       "<td>4163.8331512</td>\n",
       "<td>2645.4692963</td>\n",
       "<td>17337506.5109579</td></tr>\n",
       "<tr><td></td>\n",
       "<td>2018-02-03 20:52:24</td>\n",
       "<td> 0.081 sec</td>\n",
       "<td>7.0</td>\n",
       "<td>4194.2554752</td>\n",
       "<td>2077.3204638</td>\n",
       "<td>17591778.9910011</td>\n",
       "<td>3968.2043591</td>\n",
       "<td>2498.1481463</td>\n",
       "<td>15746645.8358415</td></tr>\n",
       "<tr><td></td>\n",
       "<td>2018-02-03 20:52:24</td>\n",
       "<td> 0.090 sec</td>\n",
       "<td>8.0</td>\n",
       "<td>3927.3453066</td>\n",
       "<td>1884.0930725</td>\n",
       "<td>15424041.1571747</td>\n",
       "<td>3823.0422211</td>\n",
       "<td>2373.6309244</td>\n",
       "<td>14615651.8242485</td></tr>\n",
       "<tr><td></td>\n",
       "<td>2018-02-03 20:52:24</td>\n",
       "<td> 0.100 sec</td>\n",
       "<td>9.0</td>\n",
       "<td>3729.8603116</td>\n",
       "<td>1734.0916099</td>\n",
       "<td>13911857.9443658</td>\n",
       "<td>3691.2929621</td>\n",
       "<td>2273.9077958</td>\n",
       "<td>13625643.7318569</td></tr>\n",
       "<tr><td></td>\n",
       "<td>2018-02-03 20:52:24</td>\n",
       "<td> 0.109 sec</td>\n",
       "<td>10.0</td>\n",
       "<td>3484.8915766</td>\n",
       "<td>1588.5862496</td>\n",
       "<td>12144469.3008007</td>\n",
       "<td>3652.8063795</td>\n",
       "<td>2231.7816100</td>\n",
       "<td>13342994.4461080</td></tr>\n",
       "<tr><td></td>\n",
       "<td>2018-02-03 20:52:24</td>\n",
       "<td> 0.120 sec</td>\n",
       "<td>11.0</td>\n",
       "<td>3339.1004544</td>\n",
       "<td>1495.2688188</td>\n",
       "<td>11149591.8446444</td>\n",
       "<td>3621.7661658</td>\n",
       "<td>2171.0830472</td>\n",
       "<td>13117190.1595893</td></tr>\n",
       "<tr><td></td>\n",
       "<td>2018-02-03 20:52:24</td>\n",
       "<td> 0.128 sec</td>\n",
       "<td>12.0</td>\n",
       "<td>3205.7227380</td>\n",
       "<td>1415.4925739</td>\n",
       "<td>10276658.2728227</td>\n",
       "<td>3626.1439865</td>\n",
       "<td>2153.4981014</td>\n",
       "<td>13148920.2105286</td></tr>\n",
       "<tr><td></td>\n",
       "<td>2018-02-03 20:52:24</td>\n",
       "<td> 0.139 sec</td>\n",
       "<td>13.0</td>\n",
       "<td>3111.9256467</td>\n",
       "<td>1362.3538143</td>\n",
       "<td>9684081.2308155</td>\n",
       "<td>3627.0404038</td>\n",
       "<td>2139.0932378</td>\n",
       "<td>13155422.0906858</td></tr></table></div>"
      ],
      "text/plain": [
       "    timestamp            duration    number_of_trees    training_rmse    training_mae    training_deviance    validation_rmse    validation_mae    validation_deviance\n",
       "--  -------------------  ----------  -----------------  ---------------  --------------  -------------------  -----------------  ----------------  ---------------------\n",
       "    2018-02-03 20:52:24  0.015 sec   0                  9755.8           5951.61         9.51756e+07          8165.17            5483.46           6.667e+07\n",
       "    2018-02-03 20:52:24  0.028 sec   1                  8327.58          4939.64         6.93486e+07          6921.96            4626.59           4.79135e+07\n",
       "    2018-02-03 20:52:24  0.037 sec   2                  7164.2           4145.47         5.13257e+07          6034.05            4013.11           3.64097e+07\n",
       "    2018-02-03 20:52:24  0.045 sec   3                  6293.79          3515.38         3.96117e+07          5363.84            3516.58           2.87708e+07\n",
       "    2018-02-03 20:52:24  0.054 sec   4                  5637.41          3013.97         3.17803e+07          4929.05            3177.68           2.42956e+07\n",
       "    2018-02-03 20:52:24  0.062 sec   5                  5130.81          2643.62         2.63252e+07          4582.69            2877.88           2.10011e+07\n",
       "    2018-02-03 20:52:24  0.071 sec   6                  4585.22          2310.27         2.10243e+07          4163.83            2645.47           1.73375e+07\n",
       "    2018-02-03 20:52:24  0.081 sec   7                  4194.26          2077.32         1.75918e+07          3968.2             2498.15           1.57466e+07\n",
       "    2018-02-03 20:52:24  0.090 sec   8                  3927.35          1884.09         1.5424e+07           3823.04            2373.63           1.46157e+07\n",
       "    2018-02-03 20:52:24  0.100 sec   9                  3729.86          1734.09         1.39119e+07          3691.29            2273.91           1.36256e+07\n",
       "    2018-02-03 20:52:24  0.109 sec   10                 3484.89          1588.59         1.21445e+07          3652.81            2231.78           1.3343e+07\n",
       "    2018-02-03 20:52:24  0.120 sec   11                 3339.1           1495.27         1.11496e+07          3621.77            2171.08           1.31172e+07\n",
       "    2018-02-03 20:52:24  0.128 sec   12                 3205.72          1415.49         1.02767e+07          3626.14            2153.5            1.31489e+07\n",
       "    2018-02-03 20:52:24  0.139 sec   13                 3111.93          1362.35         9.68408e+06          3627.04            2139.09           1.31554e+07"
      ]
     },
     "metadata": {},
     "output_type": "display_data"
    },
    {
     "name": "stdout",
     "output_type": "stream",
     "text": [
      "Variable Importances: \n"
     ]
    },
    {
     "data": {
      "text/html": [
       "<div style=\"overflow:auto\"><table style=\"width:50%\"><tr><td><b>variable</b></td>\n",
       "<td><b>relative_importance</b></td>\n",
       "<td><b>scaled_importance</b></td>\n",
       "<td><b>percentage</b></td></tr>\n",
       "<tr><td>make</td>\n",
       "<td>78528471040.0000000</td>\n",
       "<td>1.0</td>\n",
       "<td>0.3264355</td></tr>\n",
       "<tr><td>year</td>\n",
       "<td>74707337216.0000000</td>\n",
       "<td>0.9513408</td>\n",
       "<td>0.3105514</td></tr>\n",
       "<tr><td>start price</td>\n",
       "<td>62502588416.0000000</td>\n",
       "<td>0.7959226</td>\n",
       "<td>0.2598174</td></tr>\n",
       "<tr><td>mileage</td>\n",
       "<td>3391727104.0000000</td>\n",
       "<td>0.0431910</td>\n",
       "<td>0.0140991</td></tr>\n",
       "<tr><td>seller star</td>\n",
       "<td>3331669760.0000000</td>\n",
       "<td>0.0424263</td>\n",
       "<td>0.0138494</td></tr>\n",
       "<tr><td>---</td>\n",
       "<td>---</td>\n",
       "<td>---</td>\n",
       "<td>---</td></tr>\n",
       "<tr><td>number of payment methods</td>\n",
       "<td>417017920.0000000</td>\n",
       "<td>0.0053104</td>\n",
       "<td>0.0017335</td></tr>\n",
       "<tr><td>seller percent</td>\n",
       "<td>134896688.0000000</td>\n",
       "<td>0.0017178</td>\n",
       "<td>0.0005608</td></tr>\n",
       "<tr><td>top rated</td>\n",
       "<td>24578328.0000000</td>\n",
       "<td>0.0003130</td>\n",
       "<td>0.0001022</td></tr>\n",
       "<tr><td>autopays</td>\n",
       "<td>0.0</td>\n",
       "<td>0.0</td>\n",
       "<td>0.0</td></tr>\n",
       "<tr><td>fuel</td>\n",
       "<td>0.0</td>\n",
       "<td>0.0</td>\n",
       "<td>0.0</td></tr></table></div>"
      ],
      "text/plain": [
       "variable                   relative_importance    scaled_importance      percentage\n",
       "-------------------------  ---------------------  ---------------------  ----------------------\n",
       "make                       78528471040.0          1.0                    0.3264354945519625\n",
       "year                       74707337216.0          0.9513407841335197     0.31055139935607734\n",
       "start price                62502588416.0          0.7959226454843759     0.2598174024037986\n",
       "mileage                    3391727104.0           0.043191049807557794   0.014099091704148574\n",
       "seller star                3331669760.0           0.04242626547896176    0.013849438953617735\n",
       "---                        ---                    ---                    ---\n",
       "number of payment methods  417017920.0            0.005310404169050787   0.0017335044111948972\n",
       "seller percent             134896688.0            0.0017178061181311903  0.0005607528897165421\n",
       "top rated                  24578328.0             0.0003129862032775419  0.00010216980605484545\n",
       "autopays                   0.0                    0.0                    0.0\n",
       "fuel                       0.0                    0.0                    0.0"
      ]
     },
     "metadata": {},
     "output_type": "display_data"
    },
    {
     "name": "stdout",
     "output_type": "stream",
     "text": [
      "\n",
      "See the whole table with table.as_data_frame()\n"
     ]
    },
    {
     "data": {
      "text/plain": []
     },
     "execution_count": 209,
     "metadata": {},
     "output_type": "execute_result"
    }
   ],
   "source": [
    "gbm_v2"
   ]
  },
  {
   "cell_type": "code",
   "execution_count": 241,
   "metadata": {},
   "outputs": [
    {
     "name": "stdout",
     "output_type": "stream",
     "text": [
      "gbm Model Build progress: |███████████████████████████████████████████████| 100%\n"
     ]
    }
   ],
   "source": [
    "gbm_v3 = H2OGradientBoostingEstimator(\n",
    "    ntrees=100,\n",
    "    learn_rate=0.1,\n",
    "    max_depth=15,\n",
    "    sample_rate=0.8,\n",
    "    col_sample_rate=0.8,\n",
    "    stopping_rounds=4,\n",
    "    stopping_tolerance=0.01, #10-fold increase in threshold as defined in rf_v1\n",
    "    score_each_iteration=True,\n",
    "    model_id=\"gbm_model_v3\",\n",
    "    seed=2000000\n",
    ")\n",
    "gbm_v3.train(model_X, model_Y, training_frame=train, validation_frame=valid)"
   ]
  },
  {
   "cell_type": "code",
   "execution_count": 280,
   "metadata": {},
   "outputs": [
    {
     "name": "stdout",
     "output_type": "stream",
     "text": [
      "Model Details\n",
      "=============\n",
      "H2OGradientBoostingEstimator :  Gradient Boosting Machine\n",
      "Model Key:  gbm_model_v3\n",
      "\n",
      "\n",
      "ModelMetricsRegression: gbm\n",
      "** Reported on train data. **\n",
      "\n",
      "MSE: 8140879.391056407\n",
      "RMSE: 2853.2226325781885\n",
      "MAE: 1122.086945649549\n",
      "RMSLE: 0.37607856175430177\n",
      "Mean Residual Deviance: 8140879.391056407\n",
      "\n",
      "ModelMetricsRegression: gbm\n",
      "** Reported on validation data. **\n",
      "\n",
      "MSE: 12278211.063504005\n",
      "RMSE: 3504.0278342935585\n",
      "MAE: 1982.0664737339077\n",
      "RMSLE: NaN\n",
      "Mean Residual Deviance: 12278211.063504005\n",
      "Scoring History: \n"
     ]
    },
    {
     "data": {
      "text/html": [
       "<div style=\"overflow:auto\"><table style=\"width:50%\"><tr><td><b></b></td>\n",
       "<td><b>timestamp</b></td>\n",
       "<td><b>duration</b></td>\n",
       "<td><b>number_of_trees</b></td>\n",
       "<td><b>training_rmse</b></td>\n",
       "<td><b>training_mae</b></td>\n",
       "<td><b>training_deviance</b></td>\n",
       "<td><b>validation_rmse</b></td>\n",
       "<td><b>validation_mae</b></td>\n",
       "<td><b>validation_deviance</b></td></tr>\n",
       "<tr><td></td>\n",
       "<td>2018-02-03 21:03:12</td>\n",
       "<td> 0.006 sec</td>\n",
       "<td>0.0</td>\n",
       "<td>9755.7958834</td>\n",
       "<td>5951.6100596</td>\n",
       "<td>95175553.3191187</td>\n",
       "<td>8165.1728548</td>\n",
       "<td>5483.4555587</td>\n",
       "<td>66670047.7491488</td></tr>\n",
       "<tr><td></td>\n",
       "<td>2018-02-03 21:03:12</td>\n",
       "<td> 0.015 sec</td>\n",
       "<td>1.0</td>\n",
       "<td>9054.2795923</td>\n",
       "<td>5476.7053762</td>\n",
       "<td>81979978.9354831</td>\n",
       "<td>7648.1627797</td>\n",
       "<td>5089.5086397</td>\n",
       "<td>58494393.9053270</td></tr>\n",
       "<tr><td></td>\n",
       "<td>2018-02-03 21:03:12</td>\n",
       "<td> 0.022 sec</td>\n",
       "<td>2.0</td>\n",
       "<td>8407.8389343</td>\n",
       "<td>5020.4926480</td>\n",
       "<td>70691755.5458895</td>\n",
       "<td>7191.4770046</td>\n",
       "<td>4729.1712621</td>\n",
       "<td>51717341.5080756</td></tr>\n",
       "<tr><td></td>\n",
       "<td>2018-02-03 21:03:12</td>\n",
       "<td> 0.028 sec</td>\n",
       "<td>3.0</td>\n",
       "<td>7861.7020244</td>\n",
       "<td>4621.7071206</td>\n",
       "<td>61806358.7204405</td>\n",
       "<td>6778.1181645</td>\n",
       "<td>4434.5171781</td>\n",
       "<td>45942885.8518920</td></tr>\n",
       "<tr><td></td>\n",
       "<td>2018-02-03 21:03:12</td>\n",
       "<td> 0.034 sec</td>\n",
       "<td>4.0</td>\n",
       "<td>7411.4428306</td>\n",
       "<td>4261.7878890</td>\n",
       "<td>54929484.8307457</td>\n",
       "<td>6393.3548600</td>\n",
       "<td>4143.6488870</td>\n",
       "<td>40874986.3653950</td></tr>\n",
       "<tr><td>---</td>\n",
       "<td>---</td>\n",
       "<td>---</td>\n",
       "<td>---</td>\n",
       "<td>---</td>\n",
       "<td>---</td>\n",
       "<td>---</td>\n",
       "<td>---</td>\n",
       "<td>---</td>\n",
       "<td>---</td></tr>\n",
       "<tr><td></td>\n",
       "<td>2018-02-03 21:03:12</td>\n",
       "<td> 0.223 sec</td>\n",
       "<td>35.0</td>\n",
       "<td>3030.1414679</td>\n",
       "<td>1209.5107972</td>\n",
       "<td>9181757.3157899</td>\n",
       "<td>3489.5672718</td>\n",
       "<td>1990.7645993</td>\n",
       "<td>12177079.7442352</td></tr>\n",
       "<tr><td></td>\n",
       "<td>2018-02-03 21:03:12</td>\n",
       "<td> 0.228 sec</td>\n",
       "<td>36.0</td>\n",
       "<td>3009.0300378</td>\n",
       "<td>1195.3381240</td>\n",
       "<td>9054261.7685195</td>\n",
       "<td>3490.2585454</td>\n",
       "<td>1990.4315542</td>\n",
       "<td>12181904.7136742</td></tr>\n",
       "<tr><td></td>\n",
       "<td>2018-02-03 21:03:12</td>\n",
       "<td> 0.233 sec</td>\n",
       "<td>37.0</td>\n",
       "<td>2949.1329945</td>\n",
       "<td>1172.0345930</td>\n",
       "<td>8697385.4193424</td>\n",
       "<td>3488.3412809</td>\n",
       "<td>1988.9180646</td>\n",
       "<td>12168524.8918245</td></tr>\n",
       "<tr><td></td>\n",
       "<td>2018-02-03 21:03:12</td>\n",
       "<td> 0.238 sec</td>\n",
       "<td>38.0</td>\n",
       "<td>2888.6536676</td>\n",
       "<td>1143.1077556</td>\n",
       "<td>8344320.0116063</td>\n",
       "<td>3485.8470497</td>\n",
       "<td>1980.3273175</td>\n",
       "<td>12151129.6537170</td></tr>\n",
       "<tr><td></td>\n",
       "<td>2018-02-03 21:03:12</td>\n",
       "<td> 0.244 sec</td>\n",
       "<td>39.0</td>\n",
       "<td>2853.2226326</td>\n",
       "<td>1122.0869456</td>\n",
       "<td>8140879.3910564</td>\n",
       "<td>3504.0278343</td>\n",
       "<td>1982.0664737</td>\n",
       "<td>12278211.0635040</td></tr></table></div>"
      ],
      "text/plain": [
       "     timestamp            duration    number_of_trees    training_rmse       training_mae        training_deviance    validation_rmse     validation_mae      validation_deviance\n",
       "---  -------------------  ----------  -----------------  ------------------  ------------------  -------------------  ------------------  ------------------  ---------------------\n",
       "     2018-02-03 21:03:12  0.006 sec   0.0                9755.795883428409   5951.610059583563   95175553.3191187     8165.172854823638   5483.455558665237   66670047.74914879\n",
       "     2018-02-03 21:03:12  0.015 sec   1.0                9054.279592296843   5476.705376175996   81979978.9354831     7648.162779735212   5089.508639675284   58494393.905327044\n",
       "     2018-02-03 21:03:12  0.022 sec   2.0                8407.83893434511    5020.49264799007    70691755.54588953    7191.477004626766   4729.171262073459   51717341.50807556\n",
       "     2018-02-03 21:03:12  0.028 sec   3.0                7861.702024399071   4621.707120588478   61806358.720440455   6778.118164497577   4434.517178149352   45942885.851892\n",
       "     2018-02-03 21:03:12  0.034 sec   4.0                7411.4428305658375  4261.787888959036   54929484.83074575    6393.354859961633   4143.648887014264   40874986.36539503\n",
       "---  ---                  ---         ---                ---                 ---                 ---                  ---                 ---                 ---\n",
       "     2018-02-03 21:03:12  0.223 sec   35.0               3030.1414679499476  1209.510797242657   9181757.315789863    3489.567271773858   1990.7645993429096  12177079.744235247\n",
       "     2018-02-03 21:03:12  0.228 sec   36.0               3009.03003782274    1195.3381239504122  9054261.768519519    3490.2585453909046  1990.431554209218   12181904.713674232\n",
       "     2018-02-03 21:03:12  0.233 sec   37.0               2949.1329945159173  1172.0345930003461  8697385.419342421    3488.3412808703897  1988.9180646130399  12168524.89182447\n",
       "     2018-02-03 21:03:12  0.238 sec   38.0               2888.653667646282   1143.1077555951103  8344320.011606316    3485.847049673436   1980.327317534763   12151129.653716996\n",
       "     2018-02-03 21:03:12  0.244 sec   39.0               2853.2226325781885  1122.086945649549   8140879.391056407    3504.0278342935585  1982.0664737339077  12278211.063504005"
      ]
     },
     "metadata": {},
     "output_type": "display_data"
    },
    {
     "name": "stdout",
     "output_type": "stream",
     "text": [
      "\n",
      "See the whole table with table.as_data_frame()\n",
      "Variable Importances: \n"
     ]
    },
    {
     "data": {
      "text/html": [
       "<div style=\"overflow:auto\"><table style=\"width:50%\"><tr><td><b>variable</b></td>\n",
       "<td><b>relative_importance</b></td>\n",
       "<td><b>scaled_importance</b></td>\n",
       "<td><b>percentage</b></td></tr>\n",
       "<tr><td>make</td>\n",
       "<td>124619882496.0000000</td>\n",
       "<td>1.0</td>\n",
       "<td>0.2939009</td></tr>\n",
       "<tr><td>year</td>\n",
       "<td>118164791296.0000000</td>\n",
       "<td>0.9482018</td>\n",
       "<td>0.2786774</td></tr>\n",
       "<tr><td>start price</td>\n",
       "<td>117435588608.0000000</td>\n",
       "<td>0.9423503</td>\n",
       "<td>0.2769576</td></tr>\n",
       "<tr><td>category ID</td>\n",
       "<td>11015391232.0000000</td>\n",
       "<td>0.0883919</td>\n",
       "<td>0.0259785</td></tr>\n",
       "<tr><td>seller star</td>\n",
       "<td>8414132224.0000000</td>\n",
       "<td>0.0675184</td>\n",
       "<td>0.0198437</td></tr>\n",
       "<tr><td>---</td>\n",
       "<td>---</td>\n",
       "<td>---</td>\n",
       "<td>---</td></tr>\n",
       "<tr><td>seller type</td>\n",
       "<td>491317888.0000000</td>\n",
       "<td>0.0039425</td>\n",
       "<td>0.0011587</td></tr>\n",
       "<tr><td>top rated</td>\n",
       "<td>481141184.0000000</td>\n",
       "<td>0.0038609</td>\n",
       "<td>0.0011347</td></tr>\n",
       "<tr><td>seller percent</td>\n",
       "<td>403514720.0000000</td>\n",
       "<td>0.0032380</td>\n",
       "<td>0.0009516</td></tr>\n",
       "<tr><td>fuel</td>\n",
       "<td>273296800.0000000</td>\n",
       "<td>0.0021930</td>\n",
       "<td>0.0006445</td></tr>\n",
       "<tr><td>autopays</td>\n",
       "<td>73686016.0000000</td>\n",
       "<td>0.0005913</td>\n",
       "<td>0.0001738</td></tr></table></div>"
      ],
      "text/plain": [
       "variable        relative_importance    scaled_importance      percentage\n",
       "--------------  ---------------------  ---------------------  ----------------------\n",
       "make            124619882496.0         1.0                    0.29390090165419924\n",
       "year            118164791296.0         0.9482017550433239     0.2786773507573271\n",
       "start price     117435588608.0         0.9423503397362728     0.27695761452263157\n",
       "category ID     11015391232.0          0.08839192439740559    0.025978466279347315\n",
       "seller star     8414132224.0           0.06751837712790391    0.019843711916119226\n",
       "---             ---                    ---                    ---\n",
       "seller type     491317888.0            0.003942532107713792   0.001158713741257714\n",
       "top rated       481141184.0            0.0038608701465871103  0.001134713217251732\n",
       "seller percent  403514720.0            0.0032379642150035877  0.000951640602313586\n",
       "fuel            273296800.0            0.002193043313203029   0.0006445374071170827\n",
       "autopays        73686016.0             0.0005912861938572694  0.00017377954551033115"
      ]
     },
     "metadata": {},
     "output_type": "display_data"
    },
    {
     "name": "stdout",
     "output_type": "stream",
     "text": [
      "\n",
      "See the whole table with table.as_data_frame()\n"
     ]
    },
    {
     "data": {
      "text/plain": []
     },
     "execution_count": 280,
     "metadata": {},
     "output_type": "execute_result"
    }
   ],
   "source": [
    "gbm_v3"
   ]
  },
  {
   "cell_type": "code",
   "execution_count": 281,
   "metadata": {},
   "outputs": [
    {
     "data": {
      "text/html": [
       "<div>\n",
       "<style>\n",
       "    .dataframe thead tr:only-child th {\n",
       "        text-align: right;\n",
       "    }\n",
       "\n",
       "    .dataframe thead th {\n",
       "        text-align: left;\n",
       "    }\n",
       "\n",
       "    .dataframe tbody tr th {\n",
       "        vertical-align: top;\n",
       "    }\n",
       "</style>\n",
       "<table border=\"1\" class=\"dataframe\">\n",
       "  <thead>\n",
       "    <tr style=\"text-align: right;\">\n",
       "      <th></th>\n",
       "      <th>variable</th>\n",
       "      <th>relative_importance</th>\n",
       "      <th>scaled_importance</th>\n",
       "      <th>percentage</th>\n",
       "    </tr>\n",
       "  </thead>\n",
       "  <tbody>\n",
       "    <tr>\n",
       "      <th>0</th>\n",
       "      <td>make</td>\n",
       "      <td>1.246199e+11</td>\n",
       "      <td>1.000000</td>\n",
       "      <td>0.293901</td>\n",
       "    </tr>\n",
       "    <tr>\n",
       "      <th>1</th>\n",
       "      <td>year</td>\n",
       "      <td>1.181648e+11</td>\n",
       "      <td>0.948202</td>\n",
       "      <td>0.278677</td>\n",
       "    </tr>\n",
       "    <tr>\n",
       "      <th>2</th>\n",
       "      <td>start price</td>\n",
       "      <td>1.174356e+11</td>\n",
       "      <td>0.942350</td>\n",
       "      <td>0.276958</td>\n",
       "    </tr>\n",
       "    <tr>\n",
       "      <th>3</th>\n",
       "      <td>category ID</td>\n",
       "      <td>1.101539e+10</td>\n",
       "      <td>0.088392</td>\n",
       "      <td>0.025978</td>\n",
       "    </tr>\n",
       "    <tr>\n",
       "      <th>4</th>\n",
       "      <td>seller star</td>\n",
       "      <td>8.414132e+09</td>\n",
       "      <td>0.067518</td>\n",
       "      <td>0.019844</td>\n",
       "    </tr>\n",
       "    <tr>\n",
       "      <th>5</th>\n",
       "      <td>mileage</td>\n",
       "      <td>7.987872e+09</td>\n",
       "      <td>0.064098</td>\n",
       "      <td>0.018838</td>\n",
       "    </tr>\n",
       "    <tr>\n",
       "      <th>6</th>\n",
       "      <td>postal code</td>\n",
       "      <td>7.210625e+09</td>\n",
       "      <td>0.057861</td>\n",
       "      <td>0.017005</td>\n",
       "    </tr>\n",
       "    <tr>\n",
       "      <th>7</th>\n",
       "      <td>title</td>\n",
       "      <td>5.025537e+09</td>\n",
       "      <td>0.040327</td>\n",
       "      <td>0.011852</td>\n",
       "    </tr>\n",
       "    <tr>\n",
       "      <th>8</th>\n",
       "      <td>reserve</td>\n",
       "      <td>4.754995e+09</td>\n",
       "      <td>0.038156</td>\n",
       "      <td>0.011214</td>\n",
       "    </tr>\n",
       "    <tr>\n",
       "      <th>9</th>\n",
       "      <td>vehicle title</td>\n",
       "      <td>3.198605e+09</td>\n",
       "      <td>0.025667</td>\n",
       "      <td>0.007544</td>\n",
       "    </tr>\n",
       "    <tr>\n",
       "      <th>10</th>\n",
       "      <td>item ID</td>\n",
       "      <td>3.078762e+09</td>\n",
       "      <td>0.024705</td>\n",
       "      <td>0.007261</td>\n",
       "    </tr>\n",
       "    <tr>\n",
       "      <th>11</th>\n",
       "      <td>photo number</td>\n",
       "      <td>2.944382e+09</td>\n",
       "      <td>0.023627</td>\n",
       "      <td>0.006944</td>\n",
       "    </tr>\n",
       "    <tr>\n",
       "      <th>12</th>\n",
       "      <td>description</td>\n",
       "      <td>2.769394e+09</td>\n",
       "      <td>0.022223</td>\n",
       "      <td>0.006531</td>\n",
       "    </tr>\n",
       "    <tr>\n",
       "      <th>13</th>\n",
       "      <td>condition ID</td>\n",
       "      <td>2.617043e+09</td>\n",
       "      <td>0.021000</td>\n",
       "      <td>0.006172</td>\n",
       "    </tr>\n",
       "    <tr>\n",
       "      <th>14</th>\n",
       "      <td>seller score</td>\n",
       "      <td>1.920877e+09</td>\n",
       "      <td>0.015414</td>\n",
       "      <td>0.004530</td>\n",
       "    </tr>\n",
       "    <tr>\n",
       "      <th>15</th>\n",
       "      <td>number of payment methods</td>\n",
       "      <td>1.139240e+09</td>\n",
       "      <td>0.009142</td>\n",
       "      <td>0.002687</td>\n",
       "    </tr>\n",
       "    <tr>\n",
       "      <th>16</th>\n",
       "      <td>seller type</td>\n",
       "      <td>4.913179e+08</td>\n",
       "      <td>0.003943</td>\n",
       "      <td>0.001159</td>\n",
       "    </tr>\n",
       "    <tr>\n",
       "      <th>17</th>\n",
       "      <td>top rated</td>\n",
       "      <td>4.811412e+08</td>\n",
       "      <td>0.003861</td>\n",
       "      <td>0.001135</td>\n",
       "    </tr>\n",
       "    <tr>\n",
       "      <th>18</th>\n",
       "      <td>seller percent</td>\n",
       "      <td>4.035147e+08</td>\n",
       "      <td>0.003238</td>\n",
       "      <td>0.000952</td>\n",
       "    </tr>\n",
       "    <tr>\n",
       "      <th>19</th>\n",
       "      <td>fuel</td>\n",
       "      <td>2.732968e+08</td>\n",
       "      <td>0.002193</td>\n",
       "      <td>0.000645</td>\n",
       "    </tr>\n",
       "    <tr>\n",
       "      <th>20</th>\n",
       "      <td>autopays</td>\n",
       "      <td>7.368602e+07</td>\n",
       "      <td>0.000591</td>\n",
       "      <td>0.000174</td>\n",
       "    </tr>\n",
       "  </tbody>\n",
       "</table>\n",
       "</div>"
      ],
      "text/plain": [
       "                     variable  relative_importance  scaled_importance  \\\n",
       "0                        make         1.246199e+11           1.000000   \n",
       "1                        year         1.181648e+11           0.948202   \n",
       "2                 start price         1.174356e+11           0.942350   \n",
       "3                 category ID         1.101539e+10           0.088392   \n",
       "4                 seller star         8.414132e+09           0.067518   \n",
       "5                     mileage         7.987872e+09           0.064098   \n",
       "6                 postal code         7.210625e+09           0.057861   \n",
       "7                       title         5.025537e+09           0.040327   \n",
       "8                     reserve         4.754995e+09           0.038156   \n",
       "9               vehicle title         3.198605e+09           0.025667   \n",
       "10                    item ID         3.078762e+09           0.024705   \n",
       "11               photo number         2.944382e+09           0.023627   \n",
       "12                description         2.769394e+09           0.022223   \n",
       "13               condition ID         2.617043e+09           0.021000   \n",
       "14               seller score         1.920877e+09           0.015414   \n",
       "15  number of payment methods         1.139240e+09           0.009142   \n",
       "16                seller type         4.913179e+08           0.003943   \n",
       "17                  top rated         4.811412e+08           0.003861   \n",
       "18             seller percent         4.035147e+08           0.003238   \n",
       "19                       fuel         2.732968e+08           0.002193   \n",
       "20                   autopays         7.368602e+07           0.000591   \n",
       "\n",
       "    percentage  \n",
       "0     0.293901  \n",
       "1     0.278677  \n",
       "2     0.276958  \n",
       "3     0.025978  \n",
       "4     0.019844  \n",
       "5     0.018838  \n",
       "6     0.017005  \n",
       "7     0.011852  \n",
       "8     0.011214  \n",
       "9     0.007544  \n",
       "10    0.007261  \n",
       "11    0.006944  \n",
       "12    0.006531  \n",
       "13    0.006172  \n",
       "14    0.004530  \n",
       "15    0.002687  \n",
       "16    0.001159  \n",
       "17    0.001135  \n",
       "18    0.000952  \n",
       "19    0.000645  \n",
       "20    0.000174  "
      ]
     },
     "execution_count": 281,
     "metadata": {},
     "output_type": "execute_result"
    }
   ],
   "source": [
    "gbm_v3._model_json['output']['variable_importances'].as_data_frame()"
   ]
  },
  {
   "cell_type": "code",
   "execution_count": 282,
   "metadata": {},
   "outputs": [
    {
     "data": {
      "image/png": "[encoded data removed]",
      "text/plain": [
       "<matplotlib.figure.Figure at 0x1117ade80>"
      ]
     },
     "metadata": {},
     "output_type": "display_data"
    }
   ],
   "source": [
    "plt.rcdefaults()\n",
    "fig, ax = plt.subplots()\n",
    "variables = gbm_v3._model_json['output']['variable_importances']['variable']\n",
    "y_pos = np.arange(len(variables))\n",
    "scaled_importance = gbm_v3._model_json['output']['variable_importances']['scaled_importance']\n",
    "ax.barh(y_pos, scaled_importance, align='center', color='green', ecolor='black')\n",
    "ax.set_yticks(y_pos)\n",
    "ax.set_yticklabels(variables)\n",
    "ax.invert_yaxis()\n",
    "ax.set_xlabel('Scaled Importance')\n",
    "ax.set_title('Variable Importance')\n",
    "plt.show()"
   ]
  },
  {
   "cell_type": "code",
   "execution_count": 247,
   "metadata": {},
   "outputs": [
    {
     "name": "stdout",
     "output_type": "stream",
     "text": [
      "drf Model Build progress: |███████████████████████████████████████████████| 100%\n"
     ]
    }
   ],
   "source": [
    "rf_v2 = H2ORandomForestEstimator(\n",
    "    model_id=\"rf_model_v2\",\n",
    "    ntrees=500,\n",
    "    max_depth=50,\n",
    "    stopping_rounds=2,\n",
    "    stopping_tolerance=0.01,\n",
    "    score_each_iteration=True,\n",
    "    seed=3000000)\n",
    "rf_v2.train(model_X, model_Y, training_frame=train, validation_frame=valid)"
   ]
  },
  {
   "cell_type": "code",
   "execution_count": 258,
   "metadata": {},
   "outputs": [
    {
     "name": "stdout",
     "output_type": "stream",
     "text": [
      "Model Details\n",
      "=============\n",
      "H2ORandomForestEstimator :  Distributed Random Forest\n",
      "Model Key:  rf_model_v2\n",
      "\n",
      "\n",
      "ModelMetricsRegression: drf\n",
      "** Reported on train data. **\n",
      "\n",
      "MSE: 34247445.42004253\n",
      "RMSE: 5852.1316987951095\n",
      "MAE: 2969.2204874137483\n",
      "RMSLE: 0.7521538535143514\n",
      "Mean Residual Deviance: 34247445.42004253\n",
      "\n",
      "ModelMetricsRegression: drf\n",
      "** Reported on validation data. **\n",
      "\n",
      "MSE: 12709381.53397301\n",
      "RMSE: 3565.0219542063146\n",
      "MAE: 2156.6748525120943\n",
      "RMSLE: 0.6495870521427819\n",
      "Mean Residual Deviance: 12709381.53397301\n",
      "Scoring History: \n"
     ]
    },
    {
     "data": {
      "text/html": [
       "<div style=\"overflow:auto\"><table style=\"width:50%\"><tr><td><b></b></td>\n",
       "<td><b>timestamp</b></td>\n",
       "<td><b>duration</b></td>\n",
       "<td><b>number_of_trees</b></td>\n",
       "<td><b>training_rmse</b></td>\n",
       "<td><b>training_mae</b></td>\n",
       "<td><b>training_deviance</b></td>\n",
       "<td><b>validation_rmse</b></td>\n",
       "<td><b>validation_mae</b></td>\n",
       "<td><b>validation_deviance</b></td></tr>\n",
       "<tr><td></td>\n",
       "<td>2018-02-03 21:06:50</td>\n",
       "<td> 0.007 sec</td>\n",
       "<td>0.0</td>\n",
       "<td>nan</td>\n",
       "<td>nan</td>\n",
       "<td>nan</td>\n",
       "<td>nan</td>\n",
       "<td>nan</td>\n",
       "<td>nan</td></tr>\n",
       "<tr><td></td>\n",
       "<td>2018-02-03 21:06:50</td>\n",
       "<td> 0.026 sec</td>\n",
       "<td>1.0</td>\n",
       "<td>6944.9736420</td>\n",
       "<td>3741.9555392</td>\n",
       "<td>48232658.8879316</td>\n",
       "<td>7511.5373960</td>\n",
       "<td>3804.4991915</td>\n",
       "<td>56423194.0521859</td></tr>\n",
       "<tr><td></td>\n",
       "<td>2018-02-03 21:06:50</td>\n",
       "<td> 0.042 sec</td>\n",
       "<td>2.0</td>\n",
       "<td>7036.7120377</td>\n",
       "<td>3797.4505244</td>\n",
       "<td>49515316.3009385</td>\n",
       "<td>5036.7898730</td>\n",
       "<td>2907.8150667</td>\n",
       "<td>25369252.2250873</td></tr>\n",
       "<tr><td></td>\n",
       "<td>2018-02-03 21:06:50</td>\n",
       "<td> 0.054 sec</td>\n",
       "<td>3.0</td>\n",
       "<td>6096.3642474</td>\n",
       "<td>3421.8496454</td>\n",
       "<td>37165657.0375851</td>\n",
       "<td>4136.0770887</td>\n",
       "<td>2557.3750804</td>\n",
       "<td>17107133.6839111</td></tr>\n",
       "<tr><td></td>\n",
       "<td>2018-02-03 21:06:50</td>\n",
       "<td> 0.066 sec</td>\n",
       "<td>4.0</td>\n",
       "<td>5775.5216324</td>\n",
       "<td>3234.4172871</td>\n",
       "<td>33356650.1266077</td>\n",
       "<td>3747.4670117</td>\n",
       "<td>2318.6387788</td>\n",
       "<td>14043509.0039958</td></tr>\n",
       "<tr><td></td>\n",
       "<td>2018-02-03 21:06:50</td>\n",
       "<td> 0.079 sec</td>\n",
       "<td>5.0</td>\n",
       "<td>5722.3971800</td>\n",
       "<td>3163.8461130</td>\n",
       "<td>32745829.4856949</td>\n",
       "<td>3507.4227713</td>\n",
       "<td>2184.5336200</td>\n",
       "<td>12302014.4966396</td></tr>\n",
       "<tr><td></td>\n",
       "<td>2018-02-03 21:06:50</td>\n",
       "<td> 0.097 sec</td>\n",
       "<td>6.0</td>\n",
       "<td>5709.3911815</td>\n",
       "<td>3114.1313333</td>\n",
       "<td>32597147.6630198</td>\n",
       "<td>3386.2212982</td>\n",
       "<td>2098.3885703</td>\n",
       "<td>11466494.6802910</td></tr>\n",
       "<tr><td></td>\n",
       "<td>2018-02-03 21:06:50</td>\n",
       "<td> 0.113 sec</td>\n",
       "<td>7.0</td>\n",
       "<td>6519.0346008</td>\n",
       "<td>3096.7022056</td>\n",
       "<td>42497812.1264820</td>\n",
       "<td>3443.8683031</td>\n",
       "<td>2116.8827906</td>\n",
       "<td>11860228.8894346</td></tr>\n",
       "<tr><td></td>\n",
       "<td>2018-02-03 21:06:51</td>\n",
       "<td> 0.141 sec</td>\n",
       "<td>8.0</td>\n",
       "<td>6055.1697156</td>\n",
       "<td>3053.9351604</td>\n",
       "<td>36665080.2851339</td>\n",
       "<td>3462.8880697</td>\n",
       "<td>2116.6981176</td>\n",
       "<td>11991593.7830722</td></tr>\n",
       "<tr><td></td>\n",
       "<td>2018-02-03 21:06:51</td>\n",
       "<td> 0.161 sec</td>\n",
       "<td>9.0</td>\n",
       "<td>5852.1316988</td>\n",
       "<td>2969.2204874</td>\n",
       "<td>34247445.4200425</td>\n",
       "<td>3565.0219542</td>\n",
       "<td>2156.6748525</td>\n",
       "<td>12709381.5339730</td></tr></table></div>"
      ],
      "text/plain": [
       "    timestamp            duration    number_of_trees    training_rmse    training_mae    training_deviance    validation_rmse    validation_mae    validation_deviance\n",
       "--  -------------------  ----------  -----------------  ---------------  --------------  -------------------  -----------------  ----------------  ---------------------\n",
       "    2018-02-03 21:06:50  0.007 sec   0                  nan              nan             nan                  nan                nan               nan\n",
       "    2018-02-03 21:06:50  0.026 sec   1                  6944.97          3741.96         4.82327e+07          7511.54            3804.5            5.64232e+07\n",
       "    2018-02-03 21:06:50  0.042 sec   2                  7036.71          3797.45         4.95153e+07          5036.79            2907.82           2.53693e+07\n",
       "    2018-02-03 21:06:50  0.054 sec   3                  6096.36          3421.85         3.71657e+07          4136.08            2557.38           1.71071e+07\n",
       "    2018-02-03 21:06:50  0.066 sec   4                  5775.52          3234.42         3.33567e+07          3747.47            2318.64           1.40435e+07\n",
       "    2018-02-03 21:06:50  0.079 sec   5                  5722.4           3163.85         3.27458e+07          3507.42            2184.53           1.2302e+07\n",
       "    2018-02-03 21:06:50  0.097 sec   6                  5709.39          3114.13         3.25971e+07          3386.22            2098.39           1.14665e+07\n",
       "    2018-02-03 21:06:50  0.113 sec   7                  6519.03          3096.7          4.24978e+07          3443.87            2116.88           1.18602e+07\n",
       "    2018-02-03 21:06:51  0.141 sec   8                  6055.17          3053.94         3.66651e+07          3462.89            2116.7            1.19916e+07\n",
       "    2018-02-03 21:06:51  0.161 sec   9                  5852.13          2969.22         3.42474e+07          3565.02            2156.67           1.27094e+07"
      ]
     },
     "metadata": {},
     "output_type": "display_data"
    },
    {
     "name": "stdout",
     "output_type": "stream",
     "text": [
      "Variable Importances: \n"
     ]
    },
    {
     "data": {
      "text/html": [
       "<div style=\"overflow:auto\"><table style=\"width:50%\"><tr><td><b>variable</b></td>\n",
       "<td><b>relative_importance</b></td>\n",
       "<td><b>scaled_importance</b></td>\n",
       "<td><b>percentage</b></td></tr>\n",
       "<tr><td>year</td>\n",
       "<td>135539523584.0000000</td>\n",
       "<td>1.0</td>\n",
       "<td>0.2265258</td></tr>\n",
       "<tr><td>start price</td>\n",
       "<td>121289867264.0000000</td>\n",
       "<td>0.8948672</td>\n",
       "<td>0.2027105</td></tr>\n",
       "<tr><td>make</td>\n",
       "<td>99650699264.0000000</td>\n",
       "<td>0.7352151</td>\n",
       "<td>0.1665452</td></tr>\n",
       "<tr><td>fuel</td>\n",
       "<td>42986770432.0000000</td>\n",
       "<td>0.3171530</td>\n",
       "<td>0.0718434</td></tr>\n",
       "<tr><td>category ID</td>\n",
       "<td>33037557760.0000000</td>\n",
       "<td>0.2437485</td>\n",
       "<td>0.0552153</td></tr>\n",
       "<tr><td>---</td>\n",
       "<td>---</td>\n",
       "<td>---</td>\n",
       "<td>---</td></tr>\n",
       "<tr><td>number of payment methods</td>\n",
       "<td>6649794560.0000000</td>\n",
       "<td>0.0490617</td>\n",
       "<td>0.0111137</td></tr>\n",
       "<tr><td>reserve</td>\n",
       "<td>6083643392.0000000</td>\n",
       "<td>0.0448846</td>\n",
       "<td>0.0101675</td></tr>\n",
       "<tr><td>seller percent</td>\n",
       "<td>2947246080.0000000</td>\n",
       "<td>0.0217446</td>\n",
       "<td>0.0049257</td></tr>\n",
       "<tr><td>top rated</td>\n",
       "<td>2433391360.0000000</td>\n",
       "<td>0.0179534</td>\n",
       "<td>0.0040669</td></tr>\n",
       "<tr><td>autopays</td>\n",
       "<td>393046048.0000000</td>\n",
       "<td>0.0028999</td>\n",
       "<td>0.0006569</td></tr></table></div>"
      ],
      "text/plain": [
       "variable                   relative_importance    scaled_importance      percentage\n",
       "-------------------------  ---------------------  ---------------------  --------------------\n",
       "year                       135539523584.0         1.0                    0.22652583581517052\n",
       "start price                121289867264.0         0.8948671506051972     0.20271052923438238\n",
       "make                       99650699264.0          0.7352150622120339     0.16654520647148358\n",
       "fuel                       42986770432.0          0.31715302883855234    0.07184335493896596\n",
       "category ID                33037557760.0          0.2437485161995949     0.05521533636082087\n",
       "---                        ---                    ---                    ---\n",
       "number of payment methods  6649794560.0           0.049061663964598635   0.011113734436063739\n",
       "reserve                    6083643392.0           0.04488464494439284    0.010167531711295757\n",
       "seller percent             2947246080.0           0.021744550977217045   0.004925702584539674\n",
       "top rated                  2433391360.0           0.017953371058530516   0.004066902384733518\n",
       "autopays                   393046048.0            0.0028998629890890203  0.000656893887352869"
      ]
     },
     "metadata": {},
     "output_type": "display_data"
    },
    {
     "name": "stdout",
     "output_type": "stream",
     "text": [
      "\n",
      "See the whole table with table.as_data_frame()\n"
     ]
    },
    {
     "data": {
      "text/plain": []
     },
     "execution_count": 258,
     "metadata": {},
     "output_type": "execute_result"
    }
   ],
   "source": [
    "rf_v2"
   ]
  },
  {
   "cell_type": "code",
   "execution_count": 256,
   "metadata": {},
   "outputs": [
    {
     "name": "stdout",
     "output_type": "stream",
     "text": [
      "Rows:322\n",
      "Cols:22\n",
      "\n",
      "\n"
     ]
    },
    {
     "data": {
      "text/html": [
       "<table>\n",
       "<thead>\n",
       "<tr><th>       </th><th>autopays  </th><th>category ID       </th><th>condition ID     </th><th>end price        </th><th>item ID           </th><th>number of payment methods  </th><th>postal code       </th><th>seller percent    </th><th>seller score      </th><th>seller star   </th><th>title             </th><th>top rated  </th><th>description       </th><th>fuel    </th><th>make         </th><th>mileage          </th><th>photo number      </th><th>reserve  </th><th>seller type   </th><th>start price      </th><th>vehicle title                       </th><th>year              </th></tr>\n",
       "</thead>\n",
       "<tbody>\n",
       "<tr><td>type   </td><td>enum      </td><td>int               </td><td>int              </td><td>real             </td><td>int               </td><td>int                        </td><td>int               </td><td>real              </td><td>int               </td><td>enum          </td><td>int               </td><td>enum       </td><td>int               </td><td>enum    </td><td>enum         </td><td>int              </td><td>int               </td><td>enum     </td><td>enum          </td><td>real             </td><td>enum                                </td><td>int               </td></tr>\n",
       "<tr><td>mins   </td><td>          </td><td>5333.0            </td><td>2500.0           </td><td>200.0            </td><td>112697619681.0    </td><td>2.0                        </td><td>0.0               </td><td>0.0               </td><td>0.0               </td><td>              </td><td>22.0              </td><td>           </td><td>14.0              </td><td>        </td><td>             </td><td>-1.0             </td><td>1.0               </td><td>         </td><td>              </td><td>0.01             </td><td>                                    </td><td>1926.0            </td></tr>\n",
       "<tr><td>mean   </td><td>          </td><td>37825.239130434784</td><td>2993.788819875774</td><td>7650.566149068327</td><td>242951631727.39438</td><td>3.822981366459628          </td><td>49031.76708074533 </td><td>93.39844720496895 </td><td>1907.2236024844722</td><td>              </td><td>83.24534161490685 </td><td>           </td><td>38315.049689441   </td><td>        </td><td>             </td><td>414998.3291925465</td><td>15.133540372670812</td><td>         </td><td>              </td><td>2596.235310559008</td><td>                                    </td><td>2001.568322981367 </td></tr>\n",
       "<tr><td>maxs   </td><td>          </td><td>181459.0          </td><td>3000.0           </td><td>76500.0          </td><td>401477026138.0    </td><td>21.0                       </td><td>98056.0           </td><td>100.0             </td><td>39823.0           </td><td>              </td><td>158.0             </td><td>           </td><td>487248.0          </td><td>        </td><td>             </td><td>99999999.0       </td><td>24.0              </td><td>         </td><td>              </td><td>74770.0          </td><td>                                    </td><td>2017.0            </td></tr>\n",
       "<tr><td>sigma  </td><td>          </td><td>57378.95098923369 </td><td>55.46679958248757</td><td>9604.571182949792</td><td>78395790036.31573 </td><td>2.453879843483799          </td><td>30467.208411827858</td><td>22.394143456107404</td><td>4456.48404988931  </td><td>              </td><td>30.132398292037358</td><td>           </td><td>64647.340598115385</td><td>        </td><td>             </td><td>5567700.263350089</td><td>7.5914482473461184</td><td>         </td><td>              </td><td>7372.620579229305</td><td>                                    </td><td>15.735052927676842</td></tr>\n",
       "<tr><td>zeros  </td><td>          </td><td>0                 </td><td>0                </td><td>0                </td><td>0                 </td><td>0                          </td><td>5                 </td><td>17                </td><td>9                 </td><td>              </td><td>0                 </td><td>           </td><td>0                 </td><td>        </td><td>             </td><td>3                </td><td>0                 </td><td>         </td><td>              </td><td>0                </td><td>                                    </td><td>0                 </td></tr>\n",
       "<tr><td>missing</td><td>0         </td><td>0                 </td><td>0                </td><td>0                </td><td>0                 </td><td>0                          </td><td>0                 </td><td>0                 </td><td>0                 </td><td>0             </td><td>0                 </td><td>0          </td><td>0                 </td><td>0       </td><td>0            </td><td>0                </td><td>0                 </td><td>0        </td><td>0             </td><td>0                </td><td>0                                   </td><td>0                 </td></tr>\n",
       "<tr><td>0      </td><td>false     </td><td>6169.0            </td><td>3000.0           </td><td>3355.0           </td><td>122921504563.0    </td><td>2.0                        </td><td>30043.0           </td><td>99.6              </td><td>3240.0            </td><td>Red           </td><td>76.0              </td><td>true       </td><td>37041.0           </td><td>Gasoline</td><td>Chevrolet    </td><td>115145.0         </td><td>24.0              </td><td>false    </td><td>Private Seller</td><td>200.0            </td><td>Clear                               </td><td>2009.0            </td></tr>\n",
       "<tr><td>1      </td><td>false     </td><td>6336.0            </td><td>3000.0           </td><td>15100.0          </td><td>282812265430.0    </td><td>3.0                        </td><td>77001.0           </td><td>0.0               </td><td>9.0               </td><td>None          </td><td>111.0             </td><td>false      </td><td>11935.0           </td><td>Gasoline</td><td>Mercedes-Benz</td><td>94100.0          </td><td>12.0              </td><td>false    </td><td>Private Seller</td><td>0.01             </td><td>Clear                               </td><td>2008.0            </td></tr>\n",
       "<tr><td>2      </td><td>false     </td><td>6017.0            </td><td>3000.0           </td><td>14500.0          </td><td>332523120225.0    </td><td>5.0                        </td><td>60656.0           </td><td>100.0             </td><td>51.0              </td><td>Blue          </td><td>79.0              </td><td>false      </td><td>1599.0            </td><td>Gasoline</td><td>Toyota       </td><td>26800.0          </td><td>23.0              </td><td>false    </td><td>Dealer        </td><td>200.0            </td><td>Clear                               </td><td>2017.0            </td></tr>\n",
       "<tr><td>3      </td><td>false     </td><td>43903.0           </td><td>3000.0           </td><td>16477.0          </td><td>263441406915.0    </td><td>4.0                        </td><td>48125.0           </td><td>100.0             </td><td>1096.0            </td><td>Red           </td><td>64.0              </td><td>true       </td><td>8164.0            </td><td>Gasoline</td><td>Cadillac     </td><td>14894.0          </td><td>23.0              </td><td>false    </td><td>Dealer        </td><td>200.0            </td><td>Rebuilt, Rebuildable & Reconstructed</td><td>2015.0            </td></tr>\n",
       "<tr><td>4      </td><td>false     </td><td>6003.0            </td><td>3000.0           </td><td>4550.0           </td><td>273031011430.0    </td><td>2.0                        </td><td>8610.0            </td><td>97.7              </td><td>834.0             </td><td>Purple        </td><td>97.0              </td><td>true       </td><td>66432.0           </td><td>Gasoline</td><td>Audi         </td><td>122437.0         </td><td>24.0              </td><td>false    </td><td>Dealer        </td><td>1000.0           </td><td>Clear                               </td><td>2008.0            </td></tr>\n",
       "<tr><td>5      </td><td>false     </td><td>6254.0            </td><td>3000.0           </td><td>16300.0          </td><td>132473402950.0    </td><td>5.0                        </td><td>48126.0           </td><td>100.0             </td><td>341.0             </td><td>Turquoise     </td><td>88.0              </td><td>true       </td><td>60515.0           </td><td>Gasoline</td><td>Honda        </td><td>700.0            </td><td>23.0              </td><td>false    </td><td>Dealer        </td><td>200.0            </td><td>Rebuilt, Rebuildable & Reconstructed</td><td>2017.0            </td></tr>\n",
       "<tr><td>6      </td><td>false     </td><td>133212.0          </td><td>3000.0           </td><td>7856.0           </td><td>122921725066.0    </td><td>4.0                        </td><td>92346.0           </td><td>100.0             </td><td>106.0             </td><td>Turquoise     </td><td>146.0             </td><td>true       </td><td>14810.0           </td><td>Gasoline</td><td>Ford         </td><td>105316.0         </td><td>12.0              </td><td>false    </td><td>Dealer        </td><td>200.0            </td><td>Clear                               </td><td>2015.0            </td></tr>\n",
       "<tr><td>7      </td><td>false     </td><td>6227.0            </td><td>3000.0           </td><td>3600.0           </td><td>391963015163.0    </td><td>3.0                        </td><td>21227.0           </td><td>99.5              </td><td>774.0             </td><td>Purple        </td><td>116.0             </td><td>true       </td><td>13015.0           </td><td>Gasoline</td><td>Ford         </td><td>98940.0          </td><td>1.0               </td><td>false    </td><td>Private Seller</td><td>100.0            </td><td>Clear                               </td><td>2011.0            </td></tr>\n",
       "<tr><td>8      </td><td>false     </td><td>179884.0          </td><td>3000.0           </td><td>200.0            </td><td>391965651734.0    </td><td>3.0                        </td><td>92805.0           </td><td>98.4              </td><td>14288.0           </td><td>YellowShooting</td><td>103.0             </td><td>true       </td><td>98356.0           </td><td>Gasoline</td><td>Infiniti     </td><td>252041.0         </td><td>12.0              </td><td>false    </td><td>Private Seller</td><td>200.0            </td><td>Salvage                             </td><td>2003.0            </td></tr>\n",
       "<tr><td>9      </td><td>false     </td><td>6146.0            </td><td>3000.0           </td><td>9500.0           </td><td>132473338252.0    </td><td>2.0                        </td><td>98056.0           </td><td>100.0             </td><td>18.0              </td><td>Yellow        </td><td>100.0             </td><td>false      </td><td>686.0             </td><td>Gasoline</td><td>Cadillac     </td><td>140000.0         </td><td>12.0              </td><td>true     </td><td>Private Seller</td><td>0.99             </td><td>Clear                               </td><td>1966.0            </td></tr>\n",
       "</tbody>\n",
       "</table>"
      ]
     },
     "metadata": {},
     "output_type": "display_data"
    }
   ],
   "source": [
    "test.describe()"
   ]
  },
  {
   "cell_type": "code",
   "execution_count": 259,
   "metadata": {
    "collapsed": true
   },
   "outputs": [],
   "source": [
    "t1_hf = test[:3]\n",
    "t2_hf = test[4:]\n",
    "\n",
    "t3_hf = t1_hf.cbind(t2_hf)"
   ]
  },
  {
   "cell_type": "code",
   "execution_count": 260,
   "metadata": {},
   "outputs": [
    {
     "name": "stdout",
     "output_type": "stream",
     "text": [
      "gbm prediction progress: |████████████████████████████████████████████████| 100%\n"
     ]
    }
   ],
   "source": [
    "final_gbm_predictions = gbm_v3.predict(t3_hf)"
   ]
  },
  {
   "cell_type": "code",
   "execution_count": 275,
   "metadata": {},
   "outputs": [
    {
     "data": {
      "text/html": [
       "<table>\n",
       "<thead>\n",
       "<tr><th style=\"text-align: right;\">  predict</th></tr>\n",
       "</thead>\n",
       "<tbody>\n",
       "<tr><td style=\"text-align: right;\">  2868.04</td></tr>\n",
       "<tr><td style=\"text-align: right;\"> 11339.2 </td></tr>\n",
       "<tr><td style=\"text-align: right;\"> 17920.9 </td></tr>\n",
       "<tr><td style=\"text-align: right;\"> 24969.4 </td></tr>\n",
       "<tr><td style=\"text-align: right;\">  5714.4 </td></tr>\n",
       "<tr><td style=\"text-align: right;\"> 15256.1 </td></tr>\n",
       "<tr><td style=\"text-align: right;\">  9571.54</td></tr>\n",
       "<tr><td style=\"text-align: right;\">  4422.36</td></tr>\n",
       "<tr><td style=\"text-align: right;\">  2150.32</td></tr>\n",
       "<tr><td style=\"text-align: right;\">  3460.03</td></tr>\n",
       "</tbody>\n",
       "</table>"
      ]
     },
     "metadata": {},
     "output_type": "display_data"
    },
    {
     "data": {
      "text/plain": []
     },
     "execution_count": 275,
     "metadata": {},
     "output_type": "execute_result"
    }
   ],
   "source": [
    "final_gbm_predictions"
   ]
  },
  {
   "cell_type": "code",
   "execution_count": 276,
   "metadata": {},
   "outputs": [
    {
     "data": {
      "text/html": [
       "<table>\n",
       "<thead>\n",
       "<tr><th>autopays  </th><th style=\"text-align: right;\">  category ID</th><th style=\"text-align: right;\">  condition ID</th><th style=\"text-align: right;\">  end price</th><th style=\"text-align: right;\">    item ID</th><th style=\"text-align: right;\">  number of payment methods</th><th style=\"text-align: right;\">  postal code</th><th style=\"text-align: right;\">  seller percent</th><th style=\"text-align: right;\">  seller score</th><th>seller star   </th><th style=\"text-align: right;\">  title</th><th>top rated  </th><th style=\"text-align: right;\">  description</th><th>fuel    </th><th>make         </th><th style=\"text-align: right;\">  mileage</th><th style=\"text-align: right;\">  photo number</th><th>reserve  </th><th>seller type   </th><th style=\"text-align: right;\">  start price</th><th>vehicle title                       </th><th style=\"text-align: right;\">  year</th></tr>\n",
       "</thead>\n",
       "<tbody>\n",
       "<tr><td>false     </td><td style=\"text-align: right;\">         6169</td><td style=\"text-align: right;\">          3000</td><td style=\"text-align: right;\">       3355</td><td style=\"text-align: right;\">1.22922e+11</td><td style=\"text-align: right;\">                          2</td><td style=\"text-align: right;\">        30043</td><td style=\"text-align: right;\">            99.6</td><td style=\"text-align: right;\">          3240</td><td>Red           </td><td style=\"text-align: right;\">     76</td><td>true       </td><td style=\"text-align: right;\">        37041</td><td>Gasoline</td><td>Chevrolet    </td><td style=\"text-align: right;\">   115145</td><td style=\"text-align: right;\">            24</td><td>false    </td><td>Private Seller</td><td style=\"text-align: right;\">       200   </td><td>Clear                               </td><td style=\"text-align: right;\">  2009</td></tr>\n",
       "<tr><td>false     </td><td style=\"text-align: right;\">         6336</td><td style=\"text-align: right;\">          3000</td><td style=\"text-align: right;\">      15100</td><td style=\"text-align: right;\">2.82812e+11</td><td style=\"text-align: right;\">                          3</td><td style=\"text-align: right;\">        77001</td><td style=\"text-align: right;\">             0  </td><td style=\"text-align: right;\">             9</td><td>None          </td><td style=\"text-align: right;\">    111</td><td>false      </td><td style=\"text-align: right;\">        11935</td><td>Gasoline</td><td>Mercedes-Benz</td><td style=\"text-align: right;\">    94100</td><td style=\"text-align: right;\">            12</td><td>false    </td><td>Private Seller</td><td style=\"text-align: right;\">         0.01</td><td>Clear                               </td><td style=\"text-align: right;\">  2008</td></tr>\n",
       "<tr><td>false     </td><td style=\"text-align: right;\">         6017</td><td style=\"text-align: right;\">          3000</td><td style=\"text-align: right;\">      14500</td><td style=\"text-align: right;\">3.32523e+11</td><td style=\"text-align: right;\">                          5</td><td style=\"text-align: right;\">        60656</td><td style=\"text-align: right;\">           100  </td><td style=\"text-align: right;\">            51</td><td>Blue          </td><td style=\"text-align: right;\">     79</td><td>false      </td><td style=\"text-align: right;\">         1599</td><td>Gasoline</td><td>Toyota       </td><td style=\"text-align: right;\">    26800</td><td style=\"text-align: right;\">            23</td><td>false    </td><td>Dealer        </td><td style=\"text-align: right;\">       200   </td><td>Clear                               </td><td style=\"text-align: right;\">  2017</td></tr>\n",
       "<tr><td>false     </td><td style=\"text-align: right;\">        43903</td><td style=\"text-align: right;\">          3000</td><td style=\"text-align: right;\">      16477</td><td style=\"text-align: right;\">2.63441e+11</td><td style=\"text-align: right;\">                          4</td><td style=\"text-align: right;\">        48125</td><td style=\"text-align: right;\">           100  </td><td style=\"text-align: right;\">          1096</td><td>Red           </td><td style=\"text-align: right;\">     64</td><td>true       </td><td style=\"text-align: right;\">         8164</td><td>Gasoline</td><td>Cadillac     </td><td style=\"text-align: right;\">    14894</td><td style=\"text-align: right;\">            23</td><td>false    </td><td>Dealer        </td><td style=\"text-align: right;\">       200   </td><td>Rebuilt, Rebuildable & Reconstructed</td><td style=\"text-align: right;\">  2015</td></tr>\n",
       "<tr><td>false     </td><td style=\"text-align: right;\">         6003</td><td style=\"text-align: right;\">          3000</td><td style=\"text-align: right;\">       4550</td><td style=\"text-align: right;\">2.73031e+11</td><td style=\"text-align: right;\">                          2</td><td style=\"text-align: right;\">         8610</td><td style=\"text-align: right;\">            97.7</td><td style=\"text-align: right;\">           834</td><td>Purple        </td><td style=\"text-align: right;\">     97</td><td>true       </td><td style=\"text-align: right;\">        66432</td><td>Gasoline</td><td>Audi         </td><td style=\"text-align: right;\">   122437</td><td style=\"text-align: right;\">            24</td><td>false    </td><td>Dealer        </td><td style=\"text-align: right;\">      1000   </td><td>Clear                               </td><td style=\"text-align: right;\">  2008</td></tr>\n",
       "<tr><td>false     </td><td style=\"text-align: right;\">         6254</td><td style=\"text-align: right;\">          3000</td><td style=\"text-align: right;\">      16300</td><td style=\"text-align: right;\">1.32473e+11</td><td style=\"text-align: right;\">                          5</td><td style=\"text-align: right;\">        48126</td><td style=\"text-align: right;\">           100  </td><td style=\"text-align: right;\">           341</td><td>Turquoise     </td><td style=\"text-align: right;\">     88</td><td>true       </td><td style=\"text-align: right;\">        60515</td><td>Gasoline</td><td>Honda        </td><td style=\"text-align: right;\">      700</td><td style=\"text-align: right;\">            23</td><td>false    </td><td>Dealer        </td><td style=\"text-align: right;\">       200   </td><td>Rebuilt, Rebuildable & Reconstructed</td><td style=\"text-align: right;\">  2017</td></tr>\n",
       "<tr><td>false     </td><td style=\"text-align: right;\">       133212</td><td style=\"text-align: right;\">          3000</td><td style=\"text-align: right;\">       7856</td><td style=\"text-align: right;\">1.22922e+11</td><td style=\"text-align: right;\">                          4</td><td style=\"text-align: right;\">        92346</td><td style=\"text-align: right;\">           100  </td><td style=\"text-align: right;\">           106</td><td>Turquoise     </td><td style=\"text-align: right;\">    146</td><td>true       </td><td style=\"text-align: right;\">        14810</td><td>Gasoline</td><td>Ford         </td><td style=\"text-align: right;\">   105316</td><td style=\"text-align: right;\">            12</td><td>false    </td><td>Dealer        </td><td style=\"text-align: right;\">       200   </td><td>Clear                               </td><td style=\"text-align: right;\">  2015</td></tr>\n",
       "<tr><td>false     </td><td style=\"text-align: right;\">         6227</td><td style=\"text-align: right;\">          3000</td><td style=\"text-align: right;\">       3600</td><td style=\"text-align: right;\">3.91963e+11</td><td style=\"text-align: right;\">                          3</td><td style=\"text-align: right;\">        21227</td><td style=\"text-align: right;\">            99.5</td><td style=\"text-align: right;\">           774</td><td>Purple        </td><td style=\"text-align: right;\">    116</td><td>true       </td><td style=\"text-align: right;\">        13015</td><td>Gasoline</td><td>Ford         </td><td style=\"text-align: right;\">    98940</td><td style=\"text-align: right;\">             1</td><td>false    </td><td>Private Seller</td><td style=\"text-align: right;\">       100   </td><td>Clear                               </td><td style=\"text-align: right;\">  2011</td></tr>\n",
       "<tr><td>false     </td><td style=\"text-align: right;\">       179884</td><td style=\"text-align: right;\">          3000</td><td style=\"text-align: right;\">        200</td><td style=\"text-align: right;\">3.91966e+11</td><td style=\"text-align: right;\">                          3</td><td style=\"text-align: right;\">        92805</td><td style=\"text-align: right;\">            98.4</td><td style=\"text-align: right;\">         14288</td><td>YellowShooting</td><td style=\"text-align: right;\">    103</td><td>true       </td><td style=\"text-align: right;\">        98356</td><td>Gasoline</td><td>Infiniti     </td><td style=\"text-align: right;\">   252041</td><td style=\"text-align: right;\">            12</td><td>false    </td><td>Private Seller</td><td style=\"text-align: right;\">       200   </td><td>Salvage                             </td><td style=\"text-align: right;\">  2003</td></tr>\n",
       "<tr><td>false     </td><td style=\"text-align: right;\">         6146</td><td style=\"text-align: right;\">          3000</td><td style=\"text-align: right;\">       9500</td><td style=\"text-align: right;\">1.32473e+11</td><td style=\"text-align: right;\">                          2</td><td style=\"text-align: right;\">        98056</td><td style=\"text-align: right;\">           100  </td><td style=\"text-align: right;\">            18</td><td>Yellow        </td><td style=\"text-align: right;\">    100</td><td>false      </td><td style=\"text-align: right;\">          686</td><td>Gasoline</td><td>Cadillac     </td><td style=\"text-align: right;\">   140000</td><td style=\"text-align: right;\">            12</td><td>true     </td><td>Private Seller</td><td style=\"text-align: right;\">         0.99</td><td>Clear                               </td><td style=\"text-align: right;\">  1966</td></tr>\n",
       "</tbody>\n",
       "</table>"
      ]
     },
     "metadata": {},
     "output_type": "display_data"
    },
    {
     "data": {
      "text/plain": []
     },
     "execution_count": 276,
     "metadata": {},
     "output_type": "execute_result"
    }
   ],
   "source": [
    "test"
   ]
  },
  {
   "cell_type": "code",
   "execution_count": 272,
   "metadata": {},
   "outputs": [],
   "source": [
    "test_mean = test['end price'].as_data_frame(use_pandas=True).mean()"
   ]
  },
  {
   "cell_type": "code",
   "execution_count": 277,
   "metadata": {},
   "outputs": [
    {
     "data": {
      "text/plain": [
       "abs(predict)    2374.27493\n",
       "dtype: float64"
      ]
     },
     "execution_count": 277,
     "metadata": {},
     "output_type": "execute_result"
    }
   ],
   "source": [
    "(abs(final_gbm_predictions['predict'] - test['end price'])).as_data_frame(use_pandas=True).mean()"
   ]
  },
  {
   "cell_type": "code",
   "execution_count": 278,
   "metadata": {},
   "outputs": [
    {
     "data": {
      "text/plain": [
       "end price    31.030383\n",
       "dtype: float64"
      ]
     },
     "execution_count": 278,
     "metadata": {},
     "output_type": "execute_result"
    }
   ],
   "source": [
    "2374/test_mean*100"
   ]
  },
  {
   "cell_type": "code",
   "execution_count": 284,
   "metadata": {},
   "outputs": [],
   "source": [
    "h2o.cluster().shutdown(prompt=False)"
   ]
  },
  {
   "cell_type": "code",
   "execution_count": null,
   "metadata": {
    "collapsed": true
   },
   "outputs": [],
   "source": []
  }
 ],
 "metadata": {
  "kernelspec": {
   "display_name": "Python 3",
   "language": "python",
   "name": "python3"
  },
  "language_info": {
   "codemirror_mode": {
    "name": "ipython",
    "version": 3
   },
   "file_extension": ".py",
   "mimetype": "text/x-python",
   "name": "python",
   "nbconvert_exporter": "python",
   "pygments_lexer": "ipython3",
   "version": "3.6.3"
  }
 },
 "nbformat": 4,
 "nbformat_minor": 2
}
