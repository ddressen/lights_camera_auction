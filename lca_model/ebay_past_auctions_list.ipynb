{
 "cells": [
  {
   "cell_type": "code",
   "execution_count": 6,
   "metadata": {
    "collapsed": true
   },
   "outputs": [],
   "source": [
    "import ebaysdk\n",
    "from ebaysdk.finding import Connection as Finding\n",
    "from ebaysdk.exception import ConnectionError\n",
    "\n",
    "import pickle"
   ]
  },
  {
   "cell_type": "code",
   "execution_count": 7,
   "metadata": {
    "collapsed": true
   },
   "outputs": [],
   "source": [
    "def ItemCallFinding(entries, page_number):\n",
    "    api = Finding(siteid='EBAY-MOTOR', appid='DonaldDr-PricePre-PRD-d5d74fc8f-a1c9e381', config_file='ebay.yaml')\n",
    "    api.execute('findCompletedItems', {\n",
    "        'keywords': 'sedan',\n",
    "        'categoryId' : '6001',\n",
    "        'itemFilter': [\n",
    "            {'name': 'ListingType', 'value': 'Auction'}\n",
    "        ],\n",
    "        'outputSelector': ['SellerInfo', 'PictureURLSuperSize'],\n",
    "        'paginationInput': {\n",
    "            'entriesPerPage': entries,        # 100 is the maximum number of entries/page/call and is the default\n",
    "            'pageNumber': page_number\n",
    "        },\n",
    "        })\n",
    "    dictstr = api.response.dict()\n",
    "    return dictstr"
   ]
  },
  {
   "cell_type": "code",
   "execution_count": 8,
   "metadata": {
    "collapsed": true
   },
   "outputs": [],
   "source": [
    "page_numbers = list(range(1,41))\n",
    "entries = '100'"
   ]
  },
  {
   "cell_type": "code",
   "execution_count": 9,
   "metadata": {
    "collapsed": true
   },
   "outputs": [],
   "source": [
    "pages = []\n",
    "\n",
    "for page_number in page_numbers:\n",
    "    \n",
    "    try:\n",
    "        dictstr = ItemCallFinding(entries, page_number)\n",
    "        pages.append(dictstr)\n",
    "    \n",
    "    except ConnectionError as e:\n",
    "        print(e)\n",
    "        print(e.response.dict())"
   ]
  },
  {
   "cell_type": "code",
   "execution_count": 13,
   "metadata": {},
   "outputs": [
    {
     "data": {
      "text/plain": [
       "40"
      ]
     },
     "execution_count": 13,
     "metadata": {},
     "output_type": "execute_result"
    }
   ],
   "source": [
    "len(pages)"
   ]
  },
  {
   "cell_type": "code",
   "execution_count": 14,
   "metadata": {
    "collapsed": true
   },
   "outputs": [],
   "source": [
    "with open('/Users/donalddressen/Desktop/auction_data/auctions.pkl', 'wb') as f:\n",
    "    pickle.dump(pages, f)"
   ]
  },
  {
   "cell_type": "code",
   "execution_count": null,
   "metadata": {
    "collapsed": true
   },
   "outputs": [],
   "source": []
  }
 ],
 "metadata": {
  "kernelspec": {
   "display_name": "Python 3",
   "language": "python",
   "name": "python3"
  },
  "language_info": {
   "codemirror_mode": {
    "name": "ipython",
    "version": 3
   },
   "file_extension": ".py",
   "mimetype": "text/x-python",
   "name": "python",
   "nbconvert_exporter": "python",
   "pygments_lexer": "ipython3",
   "version": "3.6.3"
  }
 },
 "nbformat": 4,
 "nbformat_minor": 2
}
