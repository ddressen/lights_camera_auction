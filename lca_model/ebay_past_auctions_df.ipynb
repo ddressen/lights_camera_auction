{
 "cells": [
  {
   "cell_type": "code",
   "execution_count": 16,
   "metadata": {
    "collapsed": true
   },
   "outputs": [],
   "source": [
    "import ebaysdk\n",
    "from ebaysdk.finding import Connection as Finding\n",
    "from ebaysdk.trading import Connection as Trading\n",
    "from ebaysdk.exception import ConnectionError\n",
    "\n",
    "import pandas as pd\n",
    "\n",
    "import pickle\n",
    "\n",
    "from collections import Counter"
   ]
  },
  {
   "cell_type": "code",
   "execution_count": 17,
   "metadata": {
    "collapsed": true
   },
   "outputs": [],
   "source": [
    "with open('/Users/donalddressen/Desktop/auction_data/auctions.pkl', 'rb') as f:\n",
    "    pages = pickle.load(f)"
   ]
  },
  {
   "cell_type": "code",
   "execution_count": 18,
   "metadata": {},
   "outputs": [
    {
     "data": {
      "text/plain": [
       "40"
      ]
     },
     "execution_count": 18,
     "metadata": {},
     "output_type": "execute_result"
    }
   ],
   "source": [
    "len(pages)"
   ]
  },
  {
   "cell_type": "code",
   "execution_count": 19,
   "metadata": {
    "collapsed": true
   },
   "outputs": [],
   "source": [
    "end_prices = []\n",
    "item_ids = []\n",
    "selling_states = []\n",
    "bid_counts = []\n",
    "titles = []\n",
    "category_ids = []\n",
    "category_names = []\n",
    "condition_ids = []\n",
    "autopays = []\n",
    "best_offers = []\n",
    "payment_methods = []\n",
    "postal_codes = []\n",
    "shipping_types = []\n",
    "start_times = []\n",
    "top_rateds = []\n",
    "seller_stars = []\n",
    "seller_scores = []\n",
    "seller_percents = []\n",
    "store_names = []\n",
    "pic_urls = []\n",
    "missing_pics = []\n",
    "item_urls = []"
   ]
  },
  {
   "cell_type": "code",
   "execution_count": 20,
   "metadata": {
    "collapsed": true
   },
   "outputs": [],
   "source": [
    "for page in pages:\n",
    "    for item in page['searchResult']['item']:\n",
    "        end_prices.append(float(item['sellingStatus']['currentPrice']['value']))\n",
    "        item_ids.append(item['itemId'])\n",
    "        selling_states.append(item['sellingStatus']['sellingState'])\n",
    "        bid_counts.append(int(item['sellingStatus']['bidCount']))\n",
    "        titles.append(item['title'])\n",
    "        category_ids.append(item['primaryCategory']['categoryId'])\n",
    "        category_names.append(item['primaryCategory']['categoryName'])\n",
    "        condition_ids.append(item['condition']['conditionId'])\n",
    "        autopays.append(item['autoPay'])\n",
    "        best_offers.append(item['listingInfo']['bestOfferEnabled'])\n",
    "        payment_methods.append(len(item['paymentMethod']))\n",
    "        shipping_types.append(item['shippingInfo']['shippingType'])\n",
    "        start_times.append(item['listingInfo']['startTime'])\n",
    "        top_rateds.append(item['topRatedListing'])\n",
    "        seller_stars.append(item['sellerInfo']['feedbackRatingStar'])\n",
    "        seller_scores.append(int(item['sellerInfo']['feedbackScore']))\n",
    "        seller_percents.append(float(item['sellerInfo']['positiveFeedbackPercent']))\n",
    "        item_urls.append(item['viewItemURL'])\n",
    "        \n",
    "        try:\n",
    "            postal_codes.append(int(item['postalCode']))\n",
    "        except:\n",
    "            postal_codes.append(0)\n",
    "            \n",
    "        try:\n",
    "            pic_urls.append(item['pictureURLSuperSize'])\n",
    "            missing_pics.append(0)\n",
    "        except:\n",
    "            pic_urls.append('NA')\n",
    "            missing_pics.append(1)"
   ]
  },
  {
   "cell_type": "code",
   "execution_count": 21,
   "metadata": {
    "collapsed": true
   },
   "outputs": [],
   "source": [
    "auc_df = pd.DataFrame(\n",
    "    {'selling state': selling_states,\n",
    "     'end price': end_prices,\n",
    "     'item ID': item_ids,\n",
    "     'bid count': bid_counts,\n",
    "     'title': titles,\n",
    "     'category ID': category_ids,\n",
    "     'category name': category_names,\n",
    "     'condition ID': condition_ids,\n",
    "     'autopays': autopays,\n",
    "     'best offer': best_offers,\n",
    "     'number of payment methods': payment_methods,\n",
    "     'shipping type': shipping_types,\n",
    "     'auction start time': start_times,\n",
    "     'top rated': top_rateds,\n",
    "     'seller star': seller_stars,\n",
    "     'seller score': seller_scores,\n",
    "     'seller percent': seller_percents,\n",
    "     'item url': item_urls,\n",
    "     'postal code': postal_codes,\n",
    "     'pic url': pic_urls,\n",
    "     'missing pic': missing_pics\n",
    "    })"
   ]
  },
  {
   "cell_type": "code",
   "execution_count": 22,
   "metadata": {},
   "outputs": [
    {
     "name": "stdout",
     "output_type": "stream",
     "text": [
      "<class 'pandas.core.frame.DataFrame'>\n",
      "RangeIndex: 4000 entries, 0 to 3999\n",
      "Data columns (total 21 columns):\n",
      "auction start time           4000 non-null object\n",
      "autopays                     4000 non-null object\n",
      "best offer                   4000 non-null object\n",
      "bid count                    4000 non-null int64\n",
      "category ID                  4000 non-null object\n",
      "category name                4000 non-null object\n",
      "condition ID                 4000 non-null object\n",
      "end price                    4000 non-null float64\n",
      "item ID                      4000 non-null object\n",
      "item url                     4000 non-null object\n",
      "missing pic                  4000 non-null int64\n",
      "number of payment methods    4000 non-null int64\n",
      "pic url                      4000 non-null object\n",
      "postal code                  4000 non-null int64\n",
      "seller percent               4000 non-null float64\n",
      "seller score                 4000 non-null int64\n",
      "seller star                  4000 non-null object\n",
      "selling state                4000 non-null object\n",
      "shipping type                4000 non-null object\n",
      "title                        4000 non-null object\n",
      "top rated                    4000 non-null object\n",
      "dtypes: float64(2), int64(5), object(14)\n",
      "memory usage: 656.3+ KB\n"
     ]
    }
   ],
   "source": [
    "auc_df.info()"
   ]
  },
  {
   "cell_type": "code",
   "execution_count": 27,
   "metadata": {},
   "outputs": [
    {
     "data": {
      "text/html": [
       "<div>\n",
       "<style>\n",
       "    .dataframe thead tr:only-child th {\n",
       "        text-align: right;\n",
       "    }\n",
       "\n",
       "    .dataframe thead th {\n",
       "        text-align: left;\n",
       "    }\n",
       "\n",
       "    .dataframe tbody tr th {\n",
       "        vertical-align: top;\n",
       "    }\n",
       "</style>\n",
       "<table border=\"1\" class=\"dataframe\">\n",
       "  <thead>\n",
       "    <tr style=\"text-align: right;\">\n",
       "      <th></th>\n",
       "      <th>auction start time</th>\n",
       "      <th>autopays</th>\n",
       "      <th>best offer</th>\n",
       "      <th>bid count</th>\n",
       "      <th>category ID</th>\n",
       "      <th>category name</th>\n",
       "      <th>condition ID</th>\n",
       "      <th>end price</th>\n",
       "      <th>item ID</th>\n",
       "      <th>item url</th>\n",
       "      <th>...</th>\n",
       "      <th>number of payment methods</th>\n",
       "      <th>pic url</th>\n",
       "      <th>postal code</th>\n",
       "      <th>seller percent</th>\n",
       "      <th>seller score</th>\n",
       "      <th>seller star</th>\n",
       "      <th>selling state</th>\n",
       "      <th>shipping type</th>\n",
       "      <th>title</th>\n",
       "      <th>top rated</th>\n",
       "    </tr>\n",
       "  </thead>\n",
       "  <tbody>\n",
       "    <tr>\n",
       "      <th>0</th>\n",
       "      <td>2018-01-24T17:29:44.000Z</td>\n",
       "      <td>false</td>\n",
       "      <td>false</td>\n",
       "      <td>0</td>\n",
       "      <td>6169</td>\n",
       "      <td>Impala</td>\n",
       "      <td>3000</td>\n",
       "      <td>4500.00</td>\n",
       "      <td>292422409930</td>\n",
       "      <td>http://cgi.ebay.com/ebaymotors/2012-Chevrolet-...</td>\n",
       "      <td>...</td>\n",
       "      <td>5</td>\n",
       "      <td>https://i.ebayimg.com/00/s/NDgwWDY0MA==/z/BWMA...</td>\n",
       "      <td>11219</td>\n",
       "      <td>100.0</td>\n",
       "      <td>560</td>\n",
       "      <td>Purple</td>\n",
       "      <td>Ended</td>\n",
       "      <td>FreePickup</td>\n",
       "      <td>2012 Chevrolet Impala Police Interceptor 9C1 C...</td>\n",
       "      <td>false</td>\n",
       "    </tr>\n",
       "    <tr>\n",
       "      <th>1</th>\n",
       "      <td>2018-01-20T05:27:12.000Z</td>\n",
       "      <td>false</td>\n",
       "      <td>false</td>\n",
       "      <td>4</td>\n",
       "      <td>31851</td>\n",
       "      <td>Town Car</td>\n",
       "      <td>3000</td>\n",
       "      <td>710.01</td>\n",
       "      <td>132476159742</td>\n",
       "      <td>http://cgi.ebay.com/ebaymotors/1995-Lincoln-To...</td>\n",
       "      <td>...</td>\n",
       "      <td>2</td>\n",
       "      <td>https://i.ebayimg.com/00/s/NzQxWDE2MDA=/z/FCgA...</td>\n",
       "      <td>45123</td>\n",
       "      <td>0.0</td>\n",
       "      <td>0</td>\n",
       "      <td>None</td>\n",
       "      <td>Ended</td>\n",
       "      <td>FreePickup</td>\n",
       "      <td>1995 Lincoln Town Car ses   congressional Cong...</td>\n",
       "      <td>false</td>\n",
       "    </tr>\n",
       "    <tr>\n",
       "      <th>2</th>\n",
       "      <td>2018-01-17T17:25:39.000Z</td>\n",
       "      <td>false</td>\n",
       "      <td>false</td>\n",
       "      <td>13</td>\n",
       "      <td>180070</td>\n",
       "      <td>Other</td>\n",
       "      <td>3000</td>\n",
       "      <td>1035.00</td>\n",
       "      <td>232633871924</td>\n",
       "      <td>http://cgi.ebay.com/ebaymotors/1992-Geo-Prizm-...</td>\n",
       "      <td>...</td>\n",
       "      <td>2</td>\n",
       "      <td>https://i.ebayimg.com/00/s/MTA2MlgxNjAw/z/M7UA...</td>\n",
       "      <td>18966</td>\n",
       "      <td>100.0</td>\n",
       "      <td>255</td>\n",
       "      <td>Turquoise</td>\n",
       "      <td>Ended</td>\n",
       "      <td>FreePickup</td>\n",
       "      <td>1992 Geo Prizm  1992 Geo Prizm One Owner Clean...</td>\n",
       "      <td>false</td>\n",
       "    </tr>\n",
       "    <tr>\n",
       "      <th>3</th>\n",
       "      <td>2018-01-20T17:06:38.000Z</td>\n",
       "      <td>false</td>\n",
       "      <td>false</td>\n",
       "      <td>0</td>\n",
       "      <td>6169</td>\n",
       "      <td>Impala</td>\n",
       "      <td>3000</td>\n",
       "      <td>7500.00</td>\n",
       "      <td>192433171533</td>\n",
       "      <td>http://cgi.ebay.com/ebaymotors/1966-Chevrolet-...</td>\n",
       "      <td>...</td>\n",
       "      <td>5</td>\n",
       "      <td>https://i.ebayimg.com/00/s/NzMxWDEwMjQ=/z/5oYA...</td>\n",
       "      <td>33813</td>\n",
       "      <td>100.0</td>\n",
       "      <td>720</td>\n",
       "      <td>Purple</td>\n",
       "      <td>Ended</td>\n",
       "      <td>FreePickup</td>\n",
       "      <td>1966 Chevrolet Impala SEDAN - 283 V-8 GREAT BU...</td>\n",
       "      <td>true</td>\n",
       "    </tr>\n",
       "    <tr>\n",
       "      <th>4</th>\n",
       "      <td>2018-01-19T17:20:10.000Z</td>\n",
       "      <td>false</td>\n",
       "      <td>false</td>\n",
       "      <td>21</td>\n",
       "      <td>6055</td>\n",
       "      <td>Other</td>\n",
       "      <td>3000</td>\n",
       "      <td>515.00</td>\n",
       "      <td>273032516199</td>\n",
       "      <td>http://cgi.ebay.com/ebaymotors/1985-Audi-Other...</td>\n",
       "      <td>...</td>\n",
       "      <td>3</td>\n",
       "      <td>https://i.ebayimg.com/00/s/MTM2NVgxMDI0/z/r5wA...</td>\n",
       "      <td>91304</td>\n",
       "      <td>100.0</td>\n",
       "      <td>343</td>\n",
       "      <td>Turquoise</td>\n",
       "      <td>Ended</td>\n",
       "      <td>FreePickup</td>\n",
       "      <td>1985 Audi Other  Audi 4000</td>\n",
       "      <td>false</td>\n",
       "    </tr>\n",
       "  </tbody>\n",
       "</table>\n",
       "<p>5 rows × 21 columns</p>\n",
       "</div>"
      ],
      "text/plain": [
       "         auction start time autopays best offer  bid count category ID  \\\n",
       "0  2018-01-24T17:29:44.000Z    false      false          0        6169   \n",
       "1  2018-01-20T05:27:12.000Z    false      false          4       31851   \n",
       "2  2018-01-17T17:25:39.000Z    false      false         13      180070   \n",
       "3  2018-01-20T17:06:38.000Z    false      false          0        6169   \n",
       "4  2018-01-19T17:20:10.000Z    false      false         21        6055   \n",
       "\n",
       "  category name condition ID  end price       item ID  \\\n",
       "0        Impala         3000    4500.00  292422409930   \n",
       "1      Town Car         3000     710.01  132476159742   \n",
       "2         Other         3000    1035.00  232633871924   \n",
       "3        Impala         3000    7500.00  192433171533   \n",
       "4         Other         3000     515.00  273032516199   \n",
       "\n",
       "                                            item url    ...     \\\n",
       "0  http://cgi.ebay.com/ebaymotors/2012-Chevrolet-...    ...      \n",
       "1  http://cgi.ebay.com/ebaymotors/1995-Lincoln-To...    ...      \n",
       "2  http://cgi.ebay.com/ebaymotors/1992-Geo-Prizm-...    ...      \n",
       "3  http://cgi.ebay.com/ebaymotors/1966-Chevrolet-...    ...      \n",
       "4  http://cgi.ebay.com/ebaymotors/1985-Audi-Other...    ...      \n",
       "\n",
       "   number of payment methods  \\\n",
       "0                          5   \n",
       "1                          2   \n",
       "2                          2   \n",
       "3                          5   \n",
       "4                          3   \n",
       "\n",
       "                                             pic url postal code  \\\n",
       "0  https://i.ebayimg.com/00/s/NDgwWDY0MA==/z/BWMA...       11219   \n",
       "1  https://i.ebayimg.com/00/s/NzQxWDE2MDA=/z/FCgA...       45123   \n",
       "2  https://i.ebayimg.com/00/s/MTA2MlgxNjAw/z/M7UA...       18966   \n",
       "3  https://i.ebayimg.com/00/s/NzMxWDEwMjQ=/z/5oYA...       33813   \n",
       "4  https://i.ebayimg.com/00/s/MTM2NVgxMDI0/z/r5wA...       91304   \n",
       "\n",
       "   seller percent  seller score  seller star selling state shipping type  \\\n",
       "0           100.0           560       Purple         Ended    FreePickup   \n",
       "1             0.0             0         None         Ended    FreePickup   \n",
       "2           100.0           255    Turquoise         Ended    FreePickup   \n",
       "3           100.0           720       Purple         Ended    FreePickup   \n",
       "4           100.0           343    Turquoise         Ended    FreePickup   \n",
       "\n",
       "                                               title top rated  \n",
       "0  2012 Chevrolet Impala Police Interceptor 9C1 C...     false  \n",
       "1  1995 Lincoln Town Car ses   congressional Cong...     false  \n",
       "2  1992 Geo Prizm  1992 Geo Prizm One Owner Clean...     false  \n",
       "3  1966 Chevrolet Impala SEDAN - 283 V-8 GREAT BU...      true  \n",
       "4                         1985 Audi Other  Audi 4000     false  \n",
       "\n",
       "[5 rows x 21 columns]"
      ]
     },
     "execution_count": 27,
     "metadata": {},
     "output_type": "execute_result"
    }
   ],
   "source": [
    "auc_df.head()"
   ]
  },
  {
   "cell_type": "code",
   "execution_count": 28,
   "metadata": {},
   "outputs": [
    {
     "data": {
      "text/plain": [
       "Counter({0: 3948, 1: 52})"
      ]
     },
     "execution_count": 28,
     "metadata": {},
     "output_type": "execute_result"
    }
   ],
   "source": [
    "Counter(missing_pics)"
   ]
  },
  {
   "cell_type": "code",
   "execution_count": 31,
   "metadata": {
    "collapsed": true
   },
   "outputs": [],
   "source": [
    "with open('/Users/donalddressen/Desktop/auction_data/auctions_df.pkl', 'wb') as f:\n",
    "    pickle.dump(auc_df, f)"
   ]
  },
  {
   "cell_type": "code",
   "execution_count": null,
   "metadata": {
    "collapsed": true
   },
   "outputs": [],
   "source": []
  }
 ],
 "metadata": {
  "kernelspec": {
   "display_name": "Python 3",
   "language": "python",
   "name": "python3"
  },
  "language_info": {
   "codemirror_mode": {
    "name": "ipython",
    "version": 3
   },
   "file_extension": ".py",
   "mimetype": "text/x-python",
   "name": "python",
   "nbconvert_exporter": "python",
   "pygments_lexer": "ipython3",
   "version": "3.6.3"
  }
 },
 "nbformat": 4,
 "nbformat_minor": 2
}
