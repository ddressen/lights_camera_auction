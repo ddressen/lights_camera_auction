{
 "cells": [
  {
   "cell_type": "code",
   "execution_count": 17,
   "metadata": {
    "collapsed": true
   },
   "outputs": [],
   "source": [
    "import numpy as np\n",
    "\n",
    "import pickle\n",
    "import pandas as pd\n",
    "\n",
    "from imutils import paths\n",
    "import argparse\n",
    "import cv2\n",
    "\n",
    "from matplotlib import pyplot as plt\n",
    "\n",
    "from collections import Counter\n",
    "\n",
    "import sys\n",
    "\n",
    "from scipy.misc import imread\n",
    "from scipy.linalg import norm\n",
    "from scipy import sum, average\n",
    "\n",
    "import seaborn as sns\n",
    "sns.set(color_codes=True)\n",
    "\n",
    "%matplotlib inline"
   ]
  },
  {
   "cell_type": "code",
   "execution_count": 3,
   "metadata": {
    "collapsed": true
   },
   "outputs": [],
   "source": [
    "with open('/Users/donalddressen/Desktop/auction_data/ids_urls.pkl', 'rb') as f:\n",
    "    ids_urls = pickle.load(f)"
   ]
  },
  {
   "cell_type": "code",
   "execution_count": 4,
   "metadata": {
    "collapsed": true
   },
   "outputs": [],
   "source": [
    "# img = cv2.imread('/Users/donalddressen/Desktop/auction_data/photos/273032516199.jpg')"
   ]
  },
  {
   "cell_type": "code",
   "execution_count": 5,
   "metadata": {
    "collapsed": true
   },
   "outputs": [],
   "source": [
    "def LaplacianVariance(image):\n",
    "    return cv2.Laplacian(image, cv2.CV_64F).var()\n",
    "# compute the Laplacian of the image and then return the focus measure, which is simply the variance of the Laplacian method"
   ]
  },
  {
   "cell_type": "code",
   "execution_count": 6,
   "metadata": {
    "collapsed": true
   },
   "outputs": [],
   "source": [
    "fms = []\n",
    "blurs = []\n",
    "\n",
    "# loop over the input images\n",
    "for item in ids_urls:\n",
    "    \n",
    "    try:\n",
    "        # load the image, convert it to grayscale, and compute the\n",
    "        # focus measure of the image using the Variance of Laplacian\n",
    "        # method\n",
    "        image_path = '/Users/donalddressen/Desktop/auction_data/photos/'+ item[0] +'.jpg'\n",
    "        image = cv2.imread(image_path)\n",
    "        gray = cv2.cvtColor(image, cv2.COLOR_BGR2GRAY)\n",
    "        fm = LaplacianVariance(gray)\n",
    "        fms.append(fm)\n",
    " \n",
    "        # if the focus measure is less than the supplied threshold,\n",
    "        # then the image should be considered \"blurry\"\n",
    "        threshold = 500\n",
    "        if fm < threshold:\n",
    "            blurs.append(1)\n",
    "        else:\n",
    "            blurs.append(0)\n",
    "            \n",
    "    except:\n",
    "        fms.append(float(500))\n",
    "        blurs.append(0)"
   ]
  },
  {
   "cell_type": "code",
   "execution_count": 7,
   "metadata": {},
   "outputs": [
    {
     "data": {
      "text/plain": [
       "<matplotlib.axes._subplots.AxesSubplot at 0x1a18aeb2e8>"
      ]
     },
     "execution_count": 7,
     "metadata": {},
     "output_type": "execute_result"
    },
    {
     "data": {
      "image/png": "[encoded data removed]",
      "text/plain": [
       "<matplotlib.figure.Figure at 0x1a18ae7cf8>"
      ]
     },
     "metadata": {},
     "output_type": "display_data"
    }
   ],
   "source": [
    "sns.distplot(fms, kde=False)"
   ]
  },
  {
   "cell_type": "code",
   "execution_count": 8,
   "metadata": {},
   "outputs": [
    {
     "data": {
      "text/plain": [
       "Counter({0: 1387, 1: 294})"
      ]
     },
     "execution_count": 8,
     "metadata": {},
     "output_type": "execute_result"
    }
   ],
   "source": [
    "Counter(blurs)"
   ]
  },
  {
   "cell_type": "code",
   "execution_count": 9,
   "metadata": {
    "collapsed": true
   },
   "outputs": [],
   "source": [
    "# def main():\n",
    "#     file1, file2 = sys.argv[1:1+2]\n",
    "#     # read images as 2D arrays (convert to grayscale for simplicity)\n",
    "#     img1 = to_grayscale(imread(file1).astype(float))\n",
    "#     img2 = to_grayscale(imread(file2).astype(float))\n",
    "#     # compare\n",
    "#     n_m, n_0 = compare_images(img1, img2)\n",
    "#     print \"Manhattan norm:\", n_m, \"/ per pixel:\", n_m/img1.size\n",
    "#     print \"Zero norm:\", n_0, \"/ per pixel:\", n_0*1.0/img1.size\n",
    "\n",
    "# def compare_images(img1, img2):\n",
    "#     # normalize to compensate for exposure difference\n",
    "#     img1 = normalize(img1)\n",
    "#     img2 = normalize(img2)\n",
    "#     # calculate the difference and its norms\n",
    "#     diff = img1 - img2  # elementwise for scipy arrays\n",
    "#     m_norm = sum(abs(diff))  # Manhattan norm\n",
    "#     z_norm = norm(diff.ravel(), 0)  # Zero norm\n",
    "#     return (m_norm, z_norm)\n",
    "\n",
    "# def to_grayscale(arr):\n",
    "#     \"If arr is a color image (3D array), convert it to grayscale (2D array).\"\n",
    "#     if len(arr.shape) == 3:\n",
    "#         return average(arr, -1)  # average over the last axis (color channels)\n",
    "#     else:\n",
    "#         return arr\n",
    "\n",
    "# def normalize(arr):\n",
    "#     rng = arr.max()-arr.min()\n",
    "#     amin = arr.min()\n",
    "#     return (arr-amin)*255/rng"
   ]
  },
  {
   "cell_type": "code",
   "execution_count": 10,
   "metadata": {
    "collapsed": true
   },
   "outputs": [],
   "source": [
    "def normalize(arr):\n",
    "    rng = arr.max()-arr.min()\n",
    "    amin = arr.min()\n",
    "    return (arr-amin)*255/rng"
   ]
  },
  {
   "cell_type": "code",
   "execution_count": 11,
   "metadata": {
    "collapsed": true
   },
   "outputs": [],
   "source": [
    "m_norm_hs = []\n",
    "z_norm_hs = []\n",
    "m_norm_vs = []\n",
    "z_norm_vs = []\n",
    "\n",
    "for item in ids_urls:\n",
    "    \n",
    "    try:\n",
    "        image_path = '/Users/donalddressen/Desktop/auction_data/photos/'+ item[0] +'.jpg'\n",
    "        gray = cv2.imread(image_path, 0)\n",
    "        horizontal_gray = gray.copy()\n",
    "        vertical_gray = gray.copy()\n",
    "        \n",
    "        gray = normalize(gray)\n",
    "        horizontal_gray = normalize(horizontal_gray)\n",
    "        vertical_gray = normalize(vertical_gray)\n",
    "        \n",
    "        horizontal_gray = cv2.flip(horizontal_gray, 0)\n",
    "        vertical_gray = cv2.flip(vertical_gray, 1)\n",
    "        \n",
    "        diff_h = gray - horizontal_gray\n",
    "        diff_v = gray - vertical_gray\n",
    "        \n",
    "        m_norm_hs.append(sum(abs(diff_h)))\n",
    "        z_norm_hs.append(norm(diff_h.ravel(), 0))\n",
    "        \n",
    "        m_norm_vs.append(sum(abs(diff_v)))\n",
    "        z_norm_vs.append(norm(diff_v.ravel(), 0))\n",
    "        \n",
    "    except:\n",
    "        m_norm_hs.append(float(0))\n",
    "        z_norm_hs.append(float(0))\n",
    "        m_norm_vs.append(float(0))\n",
    "        z_norm_vs.append(float(0))"
   ]
  },
  {
   "cell_type": "code",
   "execution_count": 12,
   "metadata": {},
   "outputs": [
    {
     "data": {
      "text/plain": [
       "<matplotlib.axes._subplots.AxesSubplot at 0x1a18bcf7b8>"
      ]
     },
     "execution_count": 12,
     "metadata": {},
     "output_type": "execute_result"
    },
    {
     "data": {
      "image/png": "[encoded data removed]",
      "text/plain": [
       "<matplotlib.figure.Figure at 0x1a18bcf0b8>"
      ]
     },
     "metadata": {},
     "output_type": "display_data"
    }
   ],
   "source": [
    "sns.distplot(z_norm_hs, kde=False)"
   ]
  },
  {
   "cell_type": "code",
   "execution_count": 13,
   "metadata": {},
   "outputs": [
    {
     "data": {
      "text/plain": [
       "<matplotlib.axes._subplots.AxesSubplot at 0x10ae71320>"
      ]
     },
     "execution_count": 13,
     "metadata": {},
     "output_type": "execute_result"
    },
    {
     "data": {
      "image/png": "[encoded data removed]",
      "text/plain": [
       "<matplotlib.figure.Figure at 0x114b9e6d8>"
      ]
     },
     "metadata": {},
     "output_type": "display_data"
    }
   ],
   "source": [
    "sns.distplot(z_norm_vs, kde=False)"
   ]
  },
  {
   "cell_type": "code",
   "execution_count": 14,
   "metadata": {},
   "outputs": [
    {
     "data": {
      "text/plain": [
       "<matplotlib.axes._subplots.AxesSubplot at 0x114b334a8>"
      ]
     },
     "execution_count": 14,
     "metadata": {},
     "output_type": "execute_result"
    },
    {
     "data": {
      "image/png": "[encoded data removed]",
      "text/plain": [
       "<matplotlib.figure.Figure at 0x1a18b1dc88>"
      ]
     },
     "metadata": {},
     "output_type": "display_data"
    }
   ],
   "source": [
    "sns.distplot(m_norm_hs, kde=False)"
   ]
  },
  {
   "cell_type": "code",
   "execution_count": 15,
   "metadata": {},
   "outputs": [
    {
     "data": {
      "text/plain": [
       "<matplotlib.axes._subplots.AxesSubplot at 0x1a18e352b0>"
      ]
     },
     "execution_count": 15,
     "metadata": {},
     "output_type": "execute_result"
    },
    {
     "data": {
      "image/png": "[encoded data removed]",
      "text/plain": [
       "<matplotlib.figure.Figure at 0x114b33198>"
      ]
     },
     "metadata": {},
     "output_type": "display_data"
    }
   ],
   "source": [
    "sns.distplot(m_norm_vs, kde=False)"
   ]
  },
  {
   "cell_type": "code",
   "execution_count": 18,
   "metadata": {
    "collapsed": true
   },
   "outputs": [],
   "source": [
    "image_df = pd.DataFrame(\n",
    "    {'fm': fms,\n",
    "     'blur': blurs,\n",
    "     'z norm horiz': z_norm_hs,\n",
    "     'z norm vert': z_norm_vs,\n",
    "     'm norm horiz': m_norm_hs,\n",
    "     'm norm vert': m_norm_vs\n",
    "    })"
   ]
  },
  {
   "cell_type": "code",
   "execution_count": 19,
   "metadata": {},
   "outputs": [
    {
     "name": "stdout",
     "output_type": "stream",
     "text": [
      "<class 'pandas.core.frame.DataFrame'>\n",
      "RangeIndex: 1681 entries, 0 to 1680\n",
      "Data columns (total 6 columns):\n",
      "blur            1681 non-null int64\n",
      "fm              1681 non-null float64\n",
      "m norm horiz    1681 non-null float64\n",
      "m norm vert     1681 non-null float64\n",
      "z norm horiz    1681 non-null float64\n",
      "z norm vert     1681 non-null float64\n",
      "dtypes: float64(5), int64(1)\n",
      "memory usage: 78.9 KB\n"
     ]
    }
   ],
   "source": [
    "image_df.info()"
   ]
  },
  {
   "cell_type": "code",
   "execution_count": 21,
   "metadata": {
    "collapsed": true
   },
   "outputs": [],
   "source": [
    "filename = '/Users/donalddressen/Desktop/auction_data/image_df.pkl'\n",
    "pickle.dump(image_df, open(filename, 'wb'))"
   ]
  },
  {
   "cell_type": "code",
   "execution_count": null,
   "metadata": {
    "collapsed": true
   },
   "outputs": [],
   "source": []
  }
 ],
 "metadata": {
  "kernelspec": {
   "display_name": "Python 3",
   "language": "python",
   "name": "python3"
  },
  "language_info": {
   "codemirror_mode": {
    "name": "ipython",
    "version": 3
   },
   "file_extension": ".py",
   "mimetype": "text/x-python",
   "name": "python",
   "nbconvert_exporter": "python",
   "pygments_lexer": "ipython3",
   "version": "3.6.3"
  }
 },
 "nbformat": 4,
 "nbformat_minor": 2
}
